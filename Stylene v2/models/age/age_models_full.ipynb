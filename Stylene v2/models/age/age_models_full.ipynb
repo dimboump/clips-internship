{
 "cells": [
  {
   "cell_type": "code",
   "execution_count": 1,
   "metadata": {},
   "outputs": [],
   "source": [
    "import pandas as pd\n",
    "import numpy as np\n",
    "from matplotlib import pyplot as plt\n",
    "\n",
    "from sklearn.base import TransformerMixin\n",
    "from sklearn.base import BaseEstimator\n",
    "from sklearn.preprocessing import LabelEncoder\n",
    "from sklearn.preprocessing import StandardScaler\n",
    "from sklearn.feature_extraction.text import TfidfVectorizer\n",
    "from sklearn.feature_extraction import DictVectorizer\n",
    "from sklearn.model_selection import train_test_split\n",
    "from sklearn.pipeline import make_pipeline\n",
    "from sklearn.pipeline import Pipeline\n",
    "from sklearn.pipeline import FeatureUnion\n",
    "from sklearn.svm import LinearSVC\n",
    "from sklearn.model_selection import GridSearchCV\n",
    "from sklearn.metrics import classification_report\n",
    "from sklearn.metrics import confusion_matrix\n",
    "from sklearn.metrics import ConfusionMatrixDisplay\n",
    "\n",
    "%config InlineBackend.figure_format = 'svg'"
   ]
  },
  {
   "cell_type": "code",
   "execution_count": 2,
   "metadata": {},
   "outputs": [
    {
     "data": {
      "text/html": [
       "<div>\n",
       "<style scoped>\n",
       "    .dataframe tbody tr th:only-of-type {\n",
       "        vertical-align: middle;\n",
       "    }\n",
       "\n",
       "    .dataframe tbody tr th {\n",
       "        vertical-align: top;\n",
       "    }\n",
       "\n",
       "    .dataframe thead th {\n",
       "        text-align: right;\n",
       "    }\n",
       "</style>\n",
       "<table border=\"1\" class=\"dataframe\">\n",
       "  <thead>\n",
       "    <tr style=\"text-align: right;\">\n",
       "      <th></th>\n",
       "      <th>text</th>\n",
       "      <th>age_group</th>\n",
       "      <th>tokenized</th>\n",
       "    </tr>\n",
       "  </thead>\n",
       "  <tbody>\n",
       "    <tr>\n",
       "      <th>46723</th>\n",
       "      <td>WOO HOO!!! The new St.Anger CD is HELLA FUCKIN...</td>\n",
       "      <td>25-34</td>\n",
       "      <td>woo hoo ! ! ! the new st. anger cd is hella fu...</td>\n",
       "    </tr>\n",
       "    <tr>\n",
       "      <th>156024</th>\n",
       "      <td>I'M GOING TO DISNEY WORLD! The famous line is ...</td>\n",
       "      <td>18-24</td>\n",
       "      <td>i'm going to disney world ! the famous line is...</td>\n",
       "    </tr>\n",
       "    <tr>\n",
       "      <th>121655</th>\n",
       "      <td>we aren't unique...but favoritism on the part ...</td>\n",
       "      <td>&gt;35</td>\n",
       "      <td>we are n't unique ... but favoritism on the pa...</td>\n",
       "    </tr>\n",
       "    <tr>\n",
       "      <th>419851</th>\n",
       "      <td>Gods, I hate being sick! From Sunday the 25th ...</td>\n",
       "      <td>&lt;18</td>\n",
       "      <td>gods , i hate being sick ! from sunday the 25t...</td>\n",
       "    </tr>\n",
       "    <tr>\n",
       "      <th>318769</th>\n",
       "      <td>... judge the country by an AOL \"Current Event...</td>\n",
       "      <td>&gt;35</td>\n",
       "      <td>... judge the country by an aol \" current even...</td>\n",
       "    </tr>\n",
       "  </tbody>\n",
       "</table>\n",
       "</div>"
      ],
      "text/plain": [
       "                                                     text age_group  \\\n",
       "46723   WOO HOO!!! The new St.Anger CD is HELLA FUCKIN...     25-34   \n",
       "156024  I'M GOING TO DISNEY WORLD! The famous line is ...     18-24   \n",
       "121655  we aren't unique...but favoritism on the part ...       >35   \n",
       "419851  Gods, I hate being sick! From Sunday the 25th ...       <18   \n",
       "318769  ... judge the country by an AOL \"Current Event...       >35   \n",
       "\n",
       "                                                tokenized  \n",
       "46723   woo hoo ! ! ! the new st. anger cd is hella fu...  \n",
       "156024  i'm going to disney world ! the famous line is...  \n",
       "121655  we are n't unique ... but favoritism on the pa...  \n",
       "419851  gods , i hate being sick ! from sunday the 25t...  \n",
       "318769  ... judge the country by an aol \" current even...  "
      ]
     },
     "execution_count": 2,
     "metadata": {},
     "output_type": "execute_result"
    }
   ],
   "source": [
    "DATA_DIR = '../../datasets/'\n",
    "\n",
    "df = pd.read_csv(f'{DATA_DIR}tokenized/blog_authorship_tokenized.csv', usecols=['text', 'tokenized', 'age_group'])\n",
    "df.sample(5)"
   ]
  },
  {
   "cell_type": "code",
   "execution_count": 3,
   "metadata": {},
   "outputs": [
    {
     "data": {
      "text/plain": [
       "<18      218124\n",
       "25-34    195382\n",
       "18-24    142348\n",
       ">35       79745\n",
       "Name: age_group, dtype: int64"
      ]
     },
     "execution_count": 3,
     "metadata": {},
     "output_type": "execute_result"
    }
   ],
   "source": [
    "df['age_group'].value_counts(dropna=False)"
   ]
  },
  {
   "cell_type": "code",
   "execution_count": 4,
   "metadata": {},
   "outputs": [],
   "source": [
    "df_ = df.copy()"
   ]
  },
  {
   "cell_type": "code",
   "execution_count": 5,
   "metadata": {},
   "outputs": [
    {
     "data": {
      "text/html": [
       "<div>\n",
       "<style scoped>\n",
       "    .dataframe tbody tr th:only-of-type {\n",
       "        vertical-align: middle;\n",
       "    }\n",
       "\n",
       "    .dataframe tbody tr th {\n",
       "        vertical-align: top;\n",
       "    }\n",
       "\n",
       "    .dataframe thead th {\n",
       "        text-align: right;\n",
       "    }\n",
       "</style>\n",
       "<table border=\"1\" class=\"dataframe\">\n",
       "  <thead>\n",
       "    <tr style=\"text-align: right;\">\n",
       "      <th></th>\n",
       "      <th>text</th>\n",
       "      <th>tokenized</th>\n",
       "    </tr>\n",
       "    <tr>\n",
       "      <th>age_group</th>\n",
       "      <th></th>\n",
       "      <th></th>\n",
       "    </tr>\n",
       "  </thead>\n",
       "  <tbody>\n",
       "    <tr>\n",
       "      <th>18-24</th>\n",
       "      <td>25000</td>\n",
       "      <td>25000</td>\n",
       "    </tr>\n",
       "    <tr>\n",
       "      <th>25-34</th>\n",
       "      <td>25000</td>\n",
       "      <td>25000</td>\n",
       "    </tr>\n",
       "    <tr>\n",
       "      <th>&lt;18</th>\n",
       "      <td>25000</td>\n",
       "      <td>25000</td>\n",
       "    </tr>\n",
       "    <tr>\n",
       "      <th>&gt;35</th>\n",
       "      <td>25000</td>\n",
       "      <td>25000</td>\n",
       "    </tr>\n",
       "  </tbody>\n",
       "</table>\n",
       "</div>"
      ],
      "text/plain": [
       "            text  tokenized\n",
       "age_group                  \n",
       "18-24      25000      25000\n",
       "25-34      25000      25000\n",
       "<18        25000      25000\n",
       ">35        25000      25000"
      ]
     },
     "execution_count": 5,
     "metadata": {},
     "output_type": "execute_result"
    }
   ],
   "source": [
    "df_ = df_.groupby('age_group').sample(25000, random_state=97)\n",
    "df_.groupby('age_group').count()"
   ]
  },
  {
   "cell_type": "code",
   "execution_count": 6,
   "metadata": {},
   "outputs": [
    {
     "data": {
      "text/plain": [
       "{'18-24': 0, '25-34': 1, '<18': 2, '>35': 3}"
      ]
     },
     "execution_count": 6,
     "metadata": {},
     "output_type": "execute_result"
    }
   ],
   "source": [
    "enc = LabelEncoder()\n",
    "enc.fit(df_['age_group'])\n",
    "encoded_labels = dict(zip(enc.classes_, enc.transform(enc.classes_))) # will use that in the cm later\n",
    "df_['age_group'] = enc.transform(df_['age_group'])\n",
    "encoded_labels"
   ]
  },
  {
   "cell_type": "code",
   "execution_count": 7,
   "metadata": {},
   "outputs": [
    {
     "data": {
      "text/plain": [
       "((80000,), (20000,), (80000,), (20000,))"
      ]
     },
     "execution_count": 7,
     "metadata": {},
     "output_type": "execute_result"
    }
   ],
   "source": [
    "X = df_['text']\n",
    "y = df_['age_group']\n",
    "\n",
    "X_train, X_test, y_train, y_test = train_test_split(X, y, test_size=0.2, random_state=97)\n",
    "X_train.shape, X_test.shape, y_train.shape, y_test.shape"
   ]
  },
  {
   "cell_type": "code",
   "execution_count": 8,
   "metadata": {},
   "outputs": [],
   "source": [
    "vect = TfidfVectorizer()\n",
    "svm = LinearSVC()\n",
    "\n",
    "pipe = make_pipeline(vect, svm)"
   ]
  },
  {
   "cell_type": "code",
   "execution_count": 9,
   "metadata": {},
   "outputs": [],
   "source": [
    "param_grid = {\n",
    "    'tfidfvectorizer__ngram_range': [(1, 1)],\n",
    "    'linearsvc__random_state': [97],\n",
    "}"
   ]
  },
  {
   "cell_type": "code",
   "execution_count": 10,
   "metadata": {},
   "outputs": [
    {
     "name": "stdout",
     "output_type": "stream",
     "text": [
      "Fitting 5 folds for each of 1 candidates, totalling 5 fits\n",
      "{'linearsvc__random_state': 97, 'tfidfvectorizer__ngram_range': (1, 1)}\n"
     ]
    }
   ],
   "source": [
    "gs = GridSearchCV(pipe, param_grid, cv=5, scoring='f1_macro', n_jobs=-1, refit=True, verbose=5)\n",
    "\n",
    "gs.fit(X_train, y_train)\n",
    "print(gs.best_params_)"
   ]
  },
  {
   "cell_type": "code",
   "execution_count": 11,
   "metadata": {},
   "outputs": [
    {
     "name": "stdout",
     "output_type": "stream",
     "text": [
      "              precision    recall  f1-score   support\n",
      "\n",
      "           0       0.43      0.40      0.41      4987\n",
      "           1       0.42      0.37      0.39      5021\n",
      "           2       0.67      0.73      0.70      4949\n",
      "           3       0.53      0.58      0.55      5043\n",
      "\n",
      "    accuracy                           0.52     20000\n",
      "   macro avg       0.51      0.52      0.51     20000\n",
      "weighted avg       0.51      0.52      0.51     20000\n",
      "\n"
     ]
    }
   ],
   "source": [
    "y_pred = gs.predict(X_test)\n",
    "print(classification_report(y_test, y_pred))"
   ]
  },
  {
   "cell_type": "code",
   "execution_count": 12,
   "metadata": {},
   "outputs": [
    {
     "data": {
      "image/svg+xml": "<?xml version=\"1.0\" encoding=\"utf-8\" standalone=\"no\"?>\n<!DOCTYPE svg PUBLIC \"-//W3C//DTD SVG 1.1//EN\"\n  \"http://www.w3.org/Graphics/SVG/1.1/DTD/svg11.dtd\">\n<svg xmlns:xlink=\"http://www.w3.org/1999/xlink\" width=\"393.859537pt\" height=\"310.86825pt\" viewBox=\"0 0 393.859537 310.86825\" xmlns=\"http://www.w3.org/2000/svg\" version=\"1.1\">\n <metadata>\n  <rdf:RDF xmlns:dc=\"http://purl.org/dc/elements/1.1/\" xmlns:cc=\"http://creativecommons.org/ns#\" xmlns:rdf=\"http://www.w3.org/1999/02/22-rdf-syntax-ns#\">\n   <cc:Work>\n    <dc:type rdf:resource=\"http://purl.org/dc/dcmitype/StillImage\"/>\n    <dc:date>2022-11-09T13:10:49.561733</dc:date>\n    <dc:format>image/svg+xml</dc:format>\n    <dc:creator>\n     <cc:Agent>\n      <dc:title>Matplotlib v3.5.3, https://matplotlib.org/</dc:title>\n     </cc:Agent>\n    </dc:creator>\n   </cc:Work>\n  </rdf:RDF>\n </metadata>\n <defs>\n  <style type=\"text/css\">*{stroke-linejoin: round; stroke-linecap: butt}</style>\n </defs>\n <g id=\"figure_1\">\n  <g id=\"patch_1\">\n   <path d=\"M 0 310.86825 \nL 393.859537 310.86825 \nL 393.859537 0 \nL 0 0 \nz\n\" style=\"fill: #ffffff\"/>\n  </g>\n  <g id=\"axes_1\">\n   <g id=\"patch_2\">\n    <path d=\"M 56.935937 273.312 \nL 323.047937 273.312 \nL 323.047937 7.2 \nL 56.935937 7.2 \nz\n\" style=\"fill: #ffffff\"/>\n   </g>\n   <g clip-path=\"url(#pabe8ba763c)\">\n    <image xlink:href=\"data:image/png;base64,\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\" id=\"imageea452efb1b\" transform=\"scale(1 -1)translate(0 -266.4)\" x=\"56.935937\" y=\"-6.912\" width=\"266.4\" height=\"266.4\"/>\n   </g>\n   <g id=\"matplotlib.axis_1\">\n    <g id=\"xtick_1\">\n     <g id=\"line2d_1\">\n      <defs>\n       <path id=\"m90dd822818\" d=\"M 0 0 \nL 0 3.5 \n\" style=\"stroke: #000000; stroke-width: 0.8\"/>\n      </defs>\n      <g>\n       <use xlink:href=\"#m90dd822818\" x=\"90.199937\" y=\"273.312\" style=\"stroke: #000000; stroke-width: 0.8\"/>\n      </g>\n     </g>\n     <g id=\"text_1\">\n      <!-- 18-24 -->\n      <g transform=\"translate(75.671031 287.910437)scale(0.1 -0.1)\">\n       <defs>\n        <path id=\"DejaVuSans-31\" d=\"M 794 531 \nL 1825 531 \nL 1825 4091 \nL 703 3866 \nL 703 4441 \nL 1819 4666 \nL 2450 4666 \nL 2450 531 \nL 3481 531 \nL 3481 0 \nL 794 0 \nL 794 531 \nz\n\" transform=\"scale(0.015625)\"/>\n        <path id=\"DejaVuSans-38\" d=\"M 2034 2216 \nQ 1584 2216 1326 1975 \nQ 1069 1734 1069 1313 \nQ 1069 891 1326 650 \nQ 1584 409 2034 409 \nQ 2484 409 2743 651 \nQ 3003 894 3003 1313 \nQ 3003 1734 2745 1975 \nQ 2488 2216 2034 2216 \nz\nM 1403 2484 \nQ 997 2584 770 2862 \nQ 544 3141 544 3541 \nQ 544 4100 942 4425 \nQ 1341 4750 2034 4750 \nQ 2731 4750 3128 4425 \nQ 3525 4100 3525 3541 \nQ 3525 3141 3298 2862 \nQ 3072 2584 2669 2484 \nQ 3125 2378 3379 2068 \nQ 3634 1759 3634 1313 \nQ 3634 634 3220 271 \nQ 2806 -91 2034 -91 \nQ 1263 -91 848 271 \nQ 434 634 434 1313 \nQ 434 1759 690 2068 \nQ 947 2378 1403 2484 \nz\nM 1172 3481 \nQ 1172 3119 1398 2916 \nQ 1625 2713 2034 2713 \nQ 2441 2713 2670 2916 \nQ 2900 3119 2900 3481 \nQ 2900 3844 2670 4047 \nQ 2441 4250 2034 4250 \nQ 1625 4250 1398 4047 \nQ 1172 3844 1172 3481 \nz\n\" transform=\"scale(0.015625)\"/>\n        <path id=\"DejaVuSans-2d\" d=\"M 313 2009 \nL 1997 2009 \nL 1997 1497 \nL 313 1497 \nL 313 2009 \nz\n\" transform=\"scale(0.015625)\"/>\n        <path id=\"DejaVuSans-32\" d=\"M 1228 531 \nL 3431 531 \nL 3431 0 \nL 469 0 \nL 469 531 \nQ 828 903 1448 1529 \nQ 2069 2156 2228 2338 \nQ 2531 2678 2651 2914 \nQ 2772 3150 2772 3378 \nQ 2772 3750 2511 3984 \nQ 2250 4219 1831 4219 \nQ 1534 4219 1204 4116 \nQ 875 4013 500 3803 \nL 500 4441 \nQ 881 4594 1212 4672 \nQ 1544 4750 1819 4750 \nQ 2544 4750 2975 4387 \nQ 3406 4025 3406 3419 \nQ 3406 3131 3298 2873 \nQ 3191 2616 2906 2266 \nQ 2828 2175 2409 1742 \nQ 1991 1309 1228 531 \nz\n\" transform=\"scale(0.015625)\"/>\n        <path id=\"DejaVuSans-34\" d=\"M 2419 4116 \nL 825 1625 \nL 2419 1625 \nL 2419 4116 \nz\nM 2253 4666 \nL 3047 4666 \nL 3047 1625 \nL 3713 1625 \nL 3713 1100 \nL 3047 1100 \nL 3047 0 \nL 2419 0 \nL 2419 1100 \nL 313 1100 \nL 313 1709 \nL 2253 4666 \nz\n\" transform=\"scale(0.015625)\"/>\n       </defs>\n       <use xlink:href=\"#DejaVuSans-31\"/>\n       <use xlink:href=\"#DejaVuSans-38\" x=\"63.623047\"/>\n       <use xlink:href=\"#DejaVuSans-2d\" x=\"127.246094\"/>\n       <use xlink:href=\"#DejaVuSans-32\" x=\"163.330078\"/>\n       <use xlink:href=\"#DejaVuSans-34\" x=\"226.953125\"/>\n      </g>\n     </g>\n    </g>\n    <g id=\"xtick_2\">\n     <g id=\"line2d_2\">\n      <g>\n       <use xlink:href=\"#m90dd822818\" x=\"156.727937\" y=\"273.312\" style=\"stroke: #000000; stroke-width: 0.8\"/>\n      </g>\n     </g>\n     <g id=\"text_2\">\n      <!-- 25-34 -->\n      <g transform=\"translate(142.199031 287.910437)scale(0.1 -0.1)\">\n       <defs>\n        <path id=\"DejaVuSans-35\" d=\"M 691 4666 \nL 3169 4666 \nL 3169 4134 \nL 1269 4134 \nL 1269 2991 \nQ 1406 3038 1543 3061 \nQ 1681 3084 1819 3084 \nQ 2600 3084 3056 2656 \nQ 3513 2228 3513 1497 \nQ 3513 744 3044 326 \nQ 2575 -91 1722 -91 \nQ 1428 -91 1123 -41 \nQ 819 9 494 109 \nL 494 744 \nQ 775 591 1075 516 \nQ 1375 441 1709 441 \nQ 2250 441 2565 725 \nQ 2881 1009 2881 1497 \nQ 2881 1984 2565 2268 \nQ 2250 2553 1709 2553 \nQ 1456 2553 1204 2497 \nQ 953 2441 691 2322 \nL 691 4666 \nz\n\" transform=\"scale(0.015625)\"/>\n        <path id=\"DejaVuSans-33\" d=\"M 2597 2516 \nQ 3050 2419 3304 2112 \nQ 3559 1806 3559 1356 \nQ 3559 666 3084 287 \nQ 2609 -91 1734 -91 \nQ 1441 -91 1130 -33 \nQ 819 25 488 141 \nL 488 750 \nQ 750 597 1062 519 \nQ 1375 441 1716 441 \nQ 2309 441 2620 675 \nQ 2931 909 2931 1356 \nQ 2931 1769 2642 2001 \nQ 2353 2234 1838 2234 \nL 1294 2234 \nL 1294 2753 \nL 1863 2753 \nQ 2328 2753 2575 2939 \nQ 2822 3125 2822 3475 \nQ 2822 3834 2567 4026 \nQ 2313 4219 1838 4219 \nQ 1578 4219 1281 4162 \nQ 984 4106 628 3988 \nL 628 4550 \nQ 988 4650 1302 4700 \nQ 1616 4750 1894 4750 \nQ 2613 4750 3031 4423 \nQ 3450 4097 3450 3541 \nQ 3450 3153 3228 2886 \nQ 3006 2619 2597 2516 \nz\n\" transform=\"scale(0.015625)\"/>\n       </defs>\n       <use xlink:href=\"#DejaVuSans-32\"/>\n       <use xlink:href=\"#DejaVuSans-35\" x=\"63.623047\"/>\n       <use xlink:href=\"#DejaVuSans-2d\" x=\"127.246094\"/>\n       <use xlink:href=\"#DejaVuSans-33\" x=\"163.330078\"/>\n       <use xlink:href=\"#DejaVuSans-34\" x=\"226.953125\"/>\n      </g>\n     </g>\n    </g>\n    <g id=\"xtick_3\">\n     <g id=\"line2d_3\">\n      <g>\n       <use xlink:href=\"#m90dd822818\" x=\"223.255937\" y=\"273.312\" style=\"stroke: #000000; stroke-width: 0.8\"/>\n      </g>\n     </g>\n     <g id=\"text_3\">\n      <!-- &lt;18 -->\n      <g transform=\"translate(212.703594 287.910437)scale(0.1 -0.1)\">\n       <defs>\n        <path id=\"DejaVuSans-3c\" d=\"M 4684 3150 \nL 1459 2003 \nL 4684 863 \nL 4684 294 \nL 678 1747 \nL 678 2266 \nL 4684 3719 \nL 4684 3150 \nz\n\" transform=\"scale(0.015625)\"/>\n       </defs>\n       <use xlink:href=\"#DejaVuSans-3c\"/>\n       <use xlink:href=\"#DejaVuSans-31\" x=\"83.789062\"/>\n       <use xlink:href=\"#DejaVuSans-38\" x=\"147.412109\"/>\n      </g>\n     </g>\n    </g>\n    <g id=\"xtick_4\">\n     <g id=\"line2d_4\">\n      <g>\n       <use xlink:href=\"#m90dd822818\" x=\"289.783937\" y=\"273.312\" style=\"stroke: #000000; stroke-width: 0.8\"/>\n      </g>\n     </g>\n     <g id=\"text_4\">\n      <!-- &gt;35 -->\n      <g transform=\"translate(279.231594 287.910437)scale(0.1 -0.1)\">\n       <defs>\n        <path id=\"DejaVuSans-3e\" d=\"M 678 3150 \nL 678 3719 \nL 4684 2266 \nL 4684 1747 \nL 678 294 \nL 678 863 \nL 3897 2003 \nL 678 3150 \nz\n\" transform=\"scale(0.015625)\"/>\n       </defs>\n       <use xlink:href=\"#DejaVuSans-3e\"/>\n       <use xlink:href=\"#DejaVuSans-33\" x=\"83.789062\"/>\n       <use xlink:href=\"#DejaVuSans-35\" x=\"147.412109\"/>\n      </g>\n     </g>\n    </g>\n    <g id=\"text_5\">\n     <!-- Predicted label -->\n     <g transform=\"translate(152.839594 301.588562)scale(0.1 -0.1)\">\n      <defs>\n       <path id=\"DejaVuSans-50\" d=\"M 1259 4147 \nL 1259 2394 \nL 2053 2394 \nQ 2494 2394 2734 2622 \nQ 2975 2850 2975 3272 \nQ 2975 3691 2734 3919 \nQ 2494 4147 2053 4147 \nL 1259 4147 \nz\nM 628 4666 \nL 2053 4666 \nQ 2838 4666 3239 4311 \nQ 3641 3956 3641 3272 \nQ 3641 2581 3239 2228 \nQ 2838 1875 2053 1875 \nL 1259 1875 \nL 1259 0 \nL 628 0 \nL 628 4666 \nz\n\" transform=\"scale(0.015625)\"/>\n       <path id=\"DejaVuSans-72\" d=\"M 2631 2963 \nQ 2534 3019 2420 3045 \nQ 2306 3072 2169 3072 \nQ 1681 3072 1420 2755 \nQ 1159 2438 1159 1844 \nL 1159 0 \nL 581 0 \nL 581 3500 \nL 1159 3500 \nL 1159 2956 \nQ 1341 3275 1631 3429 \nQ 1922 3584 2338 3584 \nQ 2397 3584 2469 3576 \nQ 2541 3569 2628 3553 \nL 2631 2963 \nz\n\" transform=\"scale(0.015625)\"/>\n       <path id=\"DejaVuSans-65\" d=\"M 3597 1894 \nL 3597 1613 \nL 953 1613 \nQ 991 1019 1311 708 \nQ 1631 397 2203 397 \nQ 2534 397 2845 478 \nQ 3156 559 3463 722 \nL 3463 178 \nQ 3153 47 2828 -22 \nQ 2503 -91 2169 -91 \nQ 1331 -91 842 396 \nQ 353 884 353 1716 \nQ 353 2575 817 3079 \nQ 1281 3584 2069 3584 \nQ 2775 3584 3186 3129 \nQ 3597 2675 3597 1894 \nz\nM 3022 2063 \nQ 3016 2534 2758 2815 \nQ 2500 3097 2075 3097 \nQ 1594 3097 1305 2825 \nQ 1016 2553 972 2059 \nL 3022 2063 \nz\n\" transform=\"scale(0.015625)\"/>\n       <path id=\"DejaVuSans-64\" d=\"M 2906 2969 \nL 2906 4863 \nL 3481 4863 \nL 3481 0 \nL 2906 0 \nL 2906 525 \nQ 2725 213 2448 61 \nQ 2172 -91 1784 -91 \nQ 1150 -91 751 415 \nQ 353 922 353 1747 \nQ 353 2572 751 3078 \nQ 1150 3584 1784 3584 \nQ 2172 3584 2448 3432 \nQ 2725 3281 2906 2969 \nz\nM 947 1747 \nQ 947 1113 1208 752 \nQ 1469 391 1925 391 \nQ 2381 391 2643 752 \nQ 2906 1113 2906 1747 \nQ 2906 2381 2643 2742 \nQ 2381 3103 1925 3103 \nQ 1469 3103 1208 2742 \nQ 947 2381 947 1747 \nz\n\" transform=\"scale(0.015625)\"/>\n       <path id=\"DejaVuSans-69\" d=\"M 603 3500 \nL 1178 3500 \nL 1178 0 \nL 603 0 \nL 603 3500 \nz\nM 603 4863 \nL 1178 4863 \nL 1178 4134 \nL 603 4134 \nL 603 4863 \nz\n\" transform=\"scale(0.015625)\"/>\n       <path id=\"DejaVuSans-63\" d=\"M 3122 3366 \nL 3122 2828 \nQ 2878 2963 2633 3030 \nQ 2388 3097 2138 3097 \nQ 1578 3097 1268 2742 \nQ 959 2388 959 1747 \nQ 959 1106 1268 751 \nQ 1578 397 2138 397 \nQ 2388 397 2633 464 \nQ 2878 531 3122 666 \nL 3122 134 \nQ 2881 22 2623 -34 \nQ 2366 -91 2075 -91 \nQ 1284 -91 818 406 \nQ 353 903 353 1747 \nQ 353 2603 823 3093 \nQ 1294 3584 2113 3584 \nQ 2378 3584 2631 3529 \nQ 2884 3475 3122 3366 \nz\n\" transform=\"scale(0.015625)\"/>\n       <path id=\"DejaVuSans-74\" d=\"M 1172 4494 \nL 1172 3500 \nL 2356 3500 \nL 2356 3053 \nL 1172 3053 \nL 1172 1153 \nQ 1172 725 1289 603 \nQ 1406 481 1766 481 \nL 2356 481 \nL 2356 0 \nL 1766 0 \nQ 1100 0 847 248 \nQ 594 497 594 1153 \nL 594 3053 \nL 172 3053 \nL 172 3500 \nL 594 3500 \nL 594 4494 \nL 1172 4494 \nz\n\" transform=\"scale(0.015625)\"/>\n       <path id=\"DejaVuSans-20\" transform=\"scale(0.015625)\"/>\n       <path id=\"DejaVuSans-6c\" d=\"M 603 4863 \nL 1178 4863 \nL 1178 0 \nL 603 0 \nL 603 4863 \nz\n\" transform=\"scale(0.015625)\"/>\n       <path id=\"DejaVuSans-61\" d=\"M 2194 1759 \nQ 1497 1759 1228 1600 \nQ 959 1441 959 1056 \nQ 959 750 1161 570 \nQ 1363 391 1709 391 \nQ 2188 391 2477 730 \nQ 2766 1069 2766 1631 \nL 2766 1759 \nL 2194 1759 \nz\nM 3341 1997 \nL 3341 0 \nL 2766 0 \nL 2766 531 \nQ 2569 213 2275 61 \nQ 1981 -91 1556 -91 \nQ 1019 -91 701 211 \nQ 384 513 384 1019 \nQ 384 1609 779 1909 \nQ 1175 2209 1959 2209 \nL 2766 2209 \nL 2766 2266 \nQ 2766 2663 2505 2880 \nQ 2244 3097 1772 3097 \nQ 1472 3097 1187 3025 \nQ 903 2953 641 2809 \nL 641 3341 \nQ 956 3463 1253 3523 \nQ 1550 3584 1831 3584 \nQ 2591 3584 2966 3190 \nQ 3341 2797 3341 1997 \nz\n\" transform=\"scale(0.015625)\"/>\n       <path id=\"DejaVuSans-62\" d=\"M 3116 1747 \nQ 3116 2381 2855 2742 \nQ 2594 3103 2138 3103 \nQ 1681 3103 1420 2742 \nQ 1159 2381 1159 1747 \nQ 1159 1113 1420 752 \nQ 1681 391 2138 391 \nQ 2594 391 2855 752 \nQ 3116 1113 3116 1747 \nz\nM 1159 2969 \nQ 1341 3281 1617 3432 \nQ 1894 3584 2278 3584 \nQ 2916 3584 3314 3078 \nQ 3713 2572 3713 1747 \nQ 3713 922 3314 415 \nQ 2916 -91 2278 -91 \nQ 1894 -91 1617 61 \nQ 1341 213 1159 525 \nL 1159 0 \nL 581 0 \nL 581 4863 \nL 1159 4863 \nL 1159 2969 \nz\n\" transform=\"scale(0.015625)\"/>\n      </defs>\n      <use xlink:href=\"#DejaVuSans-50\"/>\n      <use xlink:href=\"#DejaVuSans-72\" x=\"58.552734\"/>\n      <use xlink:href=\"#DejaVuSans-65\" x=\"97.416016\"/>\n      <use xlink:href=\"#DejaVuSans-64\" x=\"158.939453\"/>\n      <use xlink:href=\"#DejaVuSans-69\" x=\"222.416016\"/>\n      <use xlink:href=\"#DejaVuSans-63\" x=\"250.199219\"/>\n      <use xlink:href=\"#DejaVuSans-74\" x=\"305.179688\"/>\n      <use xlink:href=\"#DejaVuSans-65\" x=\"344.388672\"/>\n      <use xlink:href=\"#DejaVuSans-64\" x=\"405.912109\"/>\n      <use xlink:href=\"#DejaVuSans-20\" x=\"469.388672\"/>\n      <use xlink:href=\"#DejaVuSans-6c\" x=\"501.175781\"/>\n      <use xlink:href=\"#DejaVuSans-61\" x=\"528.958984\"/>\n      <use xlink:href=\"#DejaVuSans-62\" x=\"590.238281\"/>\n      <use xlink:href=\"#DejaVuSans-65\" x=\"653.714844\"/>\n      <use xlink:href=\"#DejaVuSans-6c\" x=\"715.238281\"/>\n     </g>\n    </g>\n   </g>\n   <g id=\"matplotlib.axis_2\">\n    <g id=\"ytick_1\">\n     <g id=\"line2d_5\">\n      <defs>\n       <path id=\"mdc7f451ff8\" d=\"M 0 0 \nL -3.5 0 \n\" style=\"stroke: #000000; stroke-width: 0.8\"/>\n      </defs>\n      <g>\n       <use xlink:href=\"#mdc7f451ff8\" x=\"56.935937\" y=\"40.464\" style=\"stroke: #000000; stroke-width: 0.8\"/>\n      </g>\n     </g>\n     <g id=\"text_6\">\n      <!-- 18-24 -->\n      <g transform=\"translate(20.878125 44.263219)scale(0.1 -0.1)\">\n       <use xlink:href=\"#DejaVuSans-31\"/>\n       <use xlink:href=\"#DejaVuSans-38\" x=\"63.623047\"/>\n       <use xlink:href=\"#DejaVuSans-2d\" x=\"127.246094\"/>\n       <use xlink:href=\"#DejaVuSans-32\" x=\"163.330078\"/>\n       <use xlink:href=\"#DejaVuSans-34\" x=\"226.953125\"/>\n      </g>\n     </g>\n    </g>\n    <g id=\"ytick_2\">\n     <g id=\"line2d_6\">\n      <g>\n       <use xlink:href=\"#mdc7f451ff8\" x=\"56.935937\" y=\"106.992\" style=\"stroke: #000000; stroke-width: 0.8\"/>\n      </g>\n     </g>\n     <g id=\"text_7\">\n      <!-- 25-34 -->\n      <g transform=\"translate(20.878125 110.791219)scale(0.1 -0.1)\">\n       <use xlink:href=\"#DejaVuSans-32\"/>\n       <use xlink:href=\"#DejaVuSans-35\" x=\"63.623047\"/>\n       <use xlink:href=\"#DejaVuSans-2d\" x=\"127.246094\"/>\n       <use xlink:href=\"#DejaVuSans-33\" x=\"163.330078\"/>\n       <use xlink:href=\"#DejaVuSans-34\" x=\"226.953125\"/>\n      </g>\n     </g>\n    </g>\n    <g id=\"ytick_3\">\n     <g id=\"line2d_7\">\n      <g>\n       <use xlink:href=\"#mdc7f451ff8\" x=\"56.935937\" y=\"173.52\" style=\"stroke: #000000; stroke-width: 0.8\"/>\n      </g>\n     </g>\n     <g id=\"text_8\">\n      <!-- &lt;18 -->\n      <g transform=\"translate(28.83125 177.319219)scale(0.1 -0.1)\">\n       <use xlink:href=\"#DejaVuSans-3c\"/>\n       <use xlink:href=\"#DejaVuSans-31\" x=\"83.789062\"/>\n       <use xlink:href=\"#DejaVuSans-38\" x=\"147.412109\"/>\n      </g>\n     </g>\n    </g>\n    <g id=\"ytick_4\">\n     <g id=\"line2d_8\">\n      <g>\n       <use xlink:href=\"#mdc7f451ff8\" x=\"56.935937\" y=\"240.048\" style=\"stroke: #000000; stroke-width: 0.8\"/>\n      </g>\n     </g>\n     <g id=\"text_9\">\n      <!-- &gt;35 -->\n      <g transform=\"translate(28.83125 243.847219)scale(0.1 -0.1)\">\n       <use xlink:href=\"#DejaVuSans-3e\"/>\n       <use xlink:href=\"#DejaVuSans-33\" x=\"83.789062\"/>\n       <use xlink:href=\"#DejaVuSans-35\" x=\"147.412109\"/>\n      </g>\n     </g>\n    </g>\n    <g id=\"text_10\">\n     <!-- True label -->\n     <g transform=\"translate(14.798437 164.555219)rotate(-90)scale(0.1 -0.1)\">\n      <defs>\n       <path id=\"DejaVuSans-54\" d=\"M -19 4666 \nL 3928 4666 \nL 3928 4134 \nL 2272 4134 \nL 2272 0 \nL 1638 0 \nL 1638 4134 \nL -19 4134 \nL -19 4666 \nz\n\" transform=\"scale(0.015625)\"/>\n       <path id=\"DejaVuSans-75\" d=\"M 544 1381 \nL 544 3500 \nL 1119 3500 \nL 1119 1403 \nQ 1119 906 1312 657 \nQ 1506 409 1894 409 \nQ 2359 409 2629 706 \nQ 2900 1003 2900 1516 \nL 2900 3500 \nL 3475 3500 \nL 3475 0 \nL 2900 0 \nL 2900 538 \nQ 2691 219 2414 64 \nQ 2138 -91 1772 -91 \nQ 1169 -91 856 284 \nQ 544 659 544 1381 \nz\nM 1991 3584 \nL 1991 3584 \nz\n\" transform=\"scale(0.015625)\"/>\n      </defs>\n      <use xlink:href=\"#DejaVuSans-54\"/>\n      <use xlink:href=\"#DejaVuSans-72\" x=\"46.333984\"/>\n      <use xlink:href=\"#DejaVuSans-75\" x=\"87.447266\"/>\n      <use xlink:href=\"#DejaVuSans-65\" x=\"150.826172\"/>\n      <use xlink:href=\"#DejaVuSans-20\" x=\"212.349609\"/>\n      <use xlink:href=\"#DejaVuSans-6c\" x=\"244.136719\"/>\n      <use xlink:href=\"#DejaVuSans-61\" x=\"271.919922\"/>\n      <use xlink:href=\"#DejaVuSans-62\" x=\"333.199219\"/>\n      <use xlink:href=\"#DejaVuSans-65\" x=\"396.675781\"/>\n      <use xlink:href=\"#DejaVuSans-6c\" x=\"458.199219\"/>\n     </g>\n    </g>\n   </g>\n   <g id=\"patch_3\">\n    <path d=\"M 56.935937 273.312 \nL 56.935937 7.2 \n\" style=\"fill: none; stroke: #000000; stroke-width: 0.8; stroke-linejoin: miter; stroke-linecap: square\"/>\n   </g>\n   <g id=\"patch_4\">\n    <path d=\"M 323.047937 273.312 \nL 323.047937 7.2 \n\" style=\"fill: none; stroke: #000000; stroke-width: 0.8; stroke-linejoin: miter; stroke-linecap: square\"/>\n   </g>\n   <g id=\"patch_5\">\n    <path d=\"M 56.935937 273.312 \nL 323.047937 273.312 \n\" style=\"fill: none; stroke: #000000; stroke-width: 0.8; stroke-linejoin: miter; stroke-linecap: square\"/>\n   </g>\n   <g id=\"patch_6\">\n    <path d=\"M 56.935937 7.2 \nL 323.047937 7.2 \n\" style=\"fill: none; stroke: #000000; stroke-width: 0.8; stroke-linejoin: miter; stroke-linecap: square\"/>\n   </g>\n   <g id=\"text_11\">\n    <!-- 2004 -->\n    <g style=\"fill: #f7fbff\" transform=\"translate(77.474937 43.223375)scale(0.1 -0.1)\">\n     <defs>\n      <path id=\"DejaVuSans-30\" d=\"M 2034 4250 \nQ 1547 4250 1301 3770 \nQ 1056 3291 1056 2328 \nQ 1056 1369 1301 889 \nQ 1547 409 2034 409 \nQ 2525 409 2770 889 \nQ 3016 1369 3016 2328 \nQ 3016 3291 2770 3770 \nQ 2525 4250 2034 4250 \nz\nM 2034 4750 \nQ 2819 4750 3233 4129 \nQ 3647 3509 3647 2328 \nQ 3647 1150 3233 529 \nQ 2819 -91 2034 -91 \nQ 1250 -91 836 529 \nQ 422 1150 422 2328 \nQ 422 3509 836 4129 \nQ 1250 4750 2034 4750 \nz\n\" transform=\"scale(0.015625)\"/>\n     </defs>\n     <use xlink:href=\"#DejaVuSans-32\"/>\n     <use xlink:href=\"#DejaVuSans-30\" x=\"63.623047\"/>\n     <use xlink:href=\"#DejaVuSans-30\" x=\"127.246094\"/>\n     <use xlink:href=\"#DejaVuSans-34\" x=\"190.869141\"/>\n    </g>\n   </g>\n   <g id=\"text_12\">\n    <!-- 1186 -->\n    <g style=\"fill: #08306b\" transform=\"translate(144.002938 43.223375)scale(0.1 -0.1)\">\n     <defs>\n      <path id=\"DejaVuSans-36\" d=\"M 2113 2584 \nQ 1688 2584 1439 2293 \nQ 1191 2003 1191 1497 \nQ 1191 994 1439 701 \nQ 1688 409 2113 409 \nQ 2538 409 2786 701 \nQ 3034 994 3034 1497 \nQ 3034 2003 2786 2293 \nQ 2538 2584 2113 2584 \nz\nM 3366 4563 \nL 3366 3988 \nQ 3128 4100 2886 4159 \nQ 2644 4219 2406 4219 \nQ 1781 4219 1451 3797 \nQ 1122 3375 1075 2522 \nQ 1259 2794 1537 2939 \nQ 1816 3084 2150 3084 \nQ 2853 3084 3261 2657 \nQ 3669 2231 3669 1497 \nQ 3669 778 3244 343 \nQ 2819 -91 2113 -91 \nQ 1303 -91 875 529 \nQ 447 1150 447 2328 \nQ 447 3434 972 4092 \nQ 1497 4750 2381 4750 \nQ 2619 4750 2861 4703 \nQ 3103 4656 3366 4563 \nz\n\" transform=\"scale(0.015625)\"/>\n     </defs>\n     <use xlink:href=\"#DejaVuSans-31\"/>\n     <use xlink:href=\"#DejaVuSans-31\" x=\"63.623047\"/>\n     <use xlink:href=\"#DejaVuSans-38\" x=\"127.246094\"/>\n     <use xlink:href=\"#DejaVuSans-36\" x=\"190.869141\"/>\n    </g>\n   </g>\n   <g id=\"text_13\">\n    <!-- 840 -->\n    <g style=\"fill: #08306b\" transform=\"translate(213.712187 43.223375)scale(0.1 -0.1)\">\n     <use xlink:href=\"#DejaVuSans-38\"/>\n     <use xlink:href=\"#DejaVuSans-34\" x=\"63.623047\"/>\n     <use xlink:href=\"#DejaVuSans-30\" x=\"127.246094\"/>\n    </g>\n   </g>\n   <g id=\"text_14\">\n    <!-- 957 -->\n    <g style=\"fill: #08306b\" transform=\"translate(280.240187 43.223375)scale(0.1 -0.1)\">\n     <defs>\n      <path id=\"DejaVuSans-39\" d=\"M 703 97 \nL 703 672 \nQ 941 559 1184 500 \nQ 1428 441 1663 441 \nQ 2288 441 2617 861 \nQ 2947 1281 2994 2138 \nQ 2813 1869 2534 1725 \nQ 2256 1581 1919 1581 \nQ 1219 1581 811 2004 \nQ 403 2428 403 3163 \nQ 403 3881 828 4315 \nQ 1253 4750 1959 4750 \nQ 2769 4750 3195 4129 \nQ 3622 3509 3622 2328 \nQ 3622 1225 3098 567 \nQ 2575 -91 1691 -91 \nQ 1453 -91 1209 -44 \nQ 966 3 703 97 \nz\nM 1959 2075 \nQ 2384 2075 2632 2365 \nQ 2881 2656 2881 3163 \nQ 2881 3666 2632 3958 \nQ 2384 4250 1959 4250 \nQ 1534 4250 1286 3958 \nQ 1038 3666 1038 3163 \nQ 1038 2656 1286 2365 \nQ 1534 2075 1959 2075 \nz\n\" transform=\"scale(0.015625)\"/>\n      <path id=\"DejaVuSans-37\" d=\"M 525 4666 \nL 3525 4666 \nL 3525 4397 \nL 1831 0 \nL 1172 0 \nL 2766 4134 \nL 525 4134 \nL 525 4666 \nz\n\" transform=\"scale(0.015625)\"/>\n     </defs>\n     <use xlink:href=\"#DejaVuSans-39\"/>\n     <use xlink:href=\"#DejaVuSans-35\" x=\"63.623047\"/>\n     <use xlink:href=\"#DejaVuSans-37\" x=\"127.246094\"/>\n    </g>\n   </g>\n   <g id=\"text_15\">\n    <!-- 1313 -->\n    <g style=\"fill: #08306b\" transform=\"translate(77.474937 109.751375)scale(0.1 -0.1)\">\n     <use xlink:href=\"#DejaVuSans-31\"/>\n     <use xlink:href=\"#DejaVuSans-33\" x=\"63.623047\"/>\n     <use xlink:href=\"#DejaVuSans-31\" x=\"127.246094\"/>\n     <use xlink:href=\"#DejaVuSans-33\" x=\"190.869141\"/>\n    </g>\n   </g>\n   <g id=\"text_16\">\n    <!-- 1854 -->\n    <g style=\"fill: #08306b\" transform=\"translate(144.002938 109.751375)scale(0.1 -0.1)\">\n     <use xlink:href=\"#DejaVuSans-31\"/>\n     <use xlink:href=\"#DejaVuSans-38\" x=\"63.623047\"/>\n     <use xlink:href=\"#DejaVuSans-35\" x=\"127.246094\"/>\n     <use xlink:href=\"#DejaVuSans-34\" x=\"190.869141\"/>\n    </g>\n   </g>\n   <g id=\"text_17\">\n    <!-- 619 -->\n    <g style=\"fill: #08306b\" transform=\"translate(213.712187 109.751375)scale(0.1 -0.1)\">\n     <use xlink:href=\"#DejaVuSans-36\"/>\n     <use xlink:href=\"#DejaVuSans-31\" x=\"63.623047\"/>\n     <use xlink:href=\"#DejaVuSans-39\" x=\"127.246094\"/>\n    </g>\n   </g>\n   <g id=\"text_18\">\n    <!-- 1235 -->\n    <g style=\"fill: #08306b\" transform=\"translate(277.058937 109.751375)scale(0.1 -0.1)\">\n     <use xlink:href=\"#DejaVuSans-31\"/>\n     <use xlink:href=\"#DejaVuSans-32\" x=\"63.623047\"/>\n     <use xlink:href=\"#DejaVuSans-33\" x=\"127.246094\"/>\n     <use xlink:href=\"#DejaVuSans-35\" x=\"190.869141\"/>\n    </g>\n   </g>\n   <g id=\"text_19\">\n    <!-- 548 -->\n    <g style=\"fill: #08306b\" transform=\"translate(80.656187 176.279375)scale(0.1 -0.1)\">\n     <use xlink:href=\"#DejaVuSans-35\"/>\n     <use xlink:href=\"#DejaVuSans-34\" x=\"63.623047\"/>\n     <use xlink:href=\"#DejaVuSans-38\" x=\"127.246094\"/>\n    </g>\n   </g>\n   <g id=\"text_20\">\n    <!-- 415 -->\n    <g style=\"fill: #08306b\" transform=\"translate(147.184188 176.279375)scale(0.1 -0.1)\">\n     <use xlink:href=\"#DejaVuSans-34\"/>\n     <use xlink:href=\"#DejaVuSans-31\" x=\"63.623047\"/>\n     <use xlink:href=\"#DejaVuSans-35\" x=\"127.246094\"/>\n    </g>\n   </g>\n   <g id=\"text_21\">\n    <!-- 3626 -->\n    <g style=\"fill: #f7fbff\" transform=\"translate(210.530937 176.279375)scale(0.1 -0.1)\">\n     <use xlink:href=\"#DejaVuSans-33\"/>\n     <use xlink:href=\"#DejaVuSans-36\" x=\"63.623047\"/>\n     <use xlink:href=\"#DejaVuSans-32\" x=\"127.246094\"/>\n     <use xlink:href=\"#DejaVuSans-36\" x=\"190.869141\"/>\n    </g>\n   </g>\n   <g id=\"text_22\">\n    <!-- 360 -->\n    <g style=\"fill: #08306b\" transform=\"translate(280.240187 176.279375)scale(0.1 -0.1)\">\n     <use xlink:href=\"#DejaVuSans-33\"/>\n     <use xlink:href=\"#DejaVuSans-36\" x=\"63.623047\"/>\n     <use xlink:href=\"#DejaVuSans-30\" x=\"127.246094\"/>\n    </g>\n   </g>\n   <g id=\"text_23\">\n    <!-- 814 -->\n    <g style=\"fill: #08306b\" transform=\"translate(80.656187 242.807375)scale(0.1 -0.1)\">\n     <use xlink:href=\"#DejaVuSans-38\"/>\n     <use xlink:href=\"#DejaVuSans-31\" x=\"63.623047\"/>\n     <use xlink:href=\"#DejaVuSans-34\" x=\"127.246094\"/>\n    </g>\n   </g>\n   <g id=\"text_24\">\n    <!-- 994 -->\n    <g style=\"fill: #08306b\" transform=\"translate(147.184188 242.807375)scale(0.1 -0.1)\">\n     <use xlink:href=\"#DejaVuSans-39\"/>\n     <use xlink:href=\"#DejaVuSans-39\" x=\"63.623047\"/>\n     <use xlink:href=\"#DejaVuSans-34\" x=\"127.246094\"/>\n    </g>\n   </g>\n   <g id=\"text_25\">\n    <!-- 335 -->\n    <g style=\"fill: #08306b\" transform=\"translate(213.712187 242.807375)scale(0.1 -0.1)\">\n     <use xlink:href=\"#DejaVuSans-33\"/>\n     <use xlink:href=\"#DejaVuSans-33\" x=\"63.623047\"/>\n     <use xlink:href=\"#DejaVuSans-35\" x=\"127.246094\"/>\n    </g>\n   </g>\n   <g id=\"text_26\">\n    <!-- 2900 -->\n    <g style=\"fill: #f7fbff\" transform=\"translate(277.058937 242.807375)scale(0.1 -0.1)\">\n     <use xlink:href=\"#DejaVuSans-32\"/>\n     <use xlink:href=\"#DejaVuSans-39\" x=\"63.623047\"/>\n     <use xlink:href=\"#DejaVuSans-30\" x=\"127.246094\"/>\n     <use xlink:href=\"#DejaVuSans-30\" x=\"190.869141\"/>\n    </g>\n   </g>\n  </g>\n  <g id=\"axes_2\">\n   <g id=\"patch_7\">\n    <path d=\"M 340.903937 273.312 \nL 354.209537 273.312 \nL 354.209537 7.2 \nL 340.903937 7.2 \nz\n\" style=\"fill: #ffffff\"/>\n   </g>\n   <g id=\"patch_8\">\n    <path clip-path=\"url(#pd376709c0e)\" style=\"fill: #ffffff; stroke: #ffffff; stroke-width: 0.01; stroke-linejoin: miter\"/>\n   </g>\n   <image xlink:href=\"data:image/png;base64,\niVBORw0KGgoAAAANSUhEUgAAABMAAAFyCAYAAAAXj+GHAAABwElEQVR4nO2cW4rtMBADfYfsf7v3YyCZNSgUpEDSAkTKcnfbOY9//3+f50D6oYzOOefinuuc6zmc2wV60WuGmokxl2ZsJsYE09RiljRHNSYnFpNsQUvzhZl5BjQ0x5ZRd5ZmbtbRHOEZwEk9A5ZmqJI01ROdNBNjLs3YTIwpTXPNMddGXa6l+cJszTE326iLtTRzsWneYJybAblYzLsDc2nmZi2vo8k1u7Vbo6QCluYLM87rXA/4aHBzJM28mEszN/NiegudvAesAnLRFcCZ0WfaimMoisneA7xr1nFDQdMUt20WkzOjMa2FLl4zstDFmB2F3jKdrAcX9ORYsmbqCqgodHPbJqcTZqXeGiWjjn1904EpThM1s94DxM3RO9GX5gszzKrmGLoZkEuM6U1z3ySJtRnwygzzapkBJWmKm2MNpnRrDDOXF1NdAajZMEMNM5cXc2uWS4x5g1cUMWZJmtrjgfoUZN0a7E97tZglaaKY2xrfmq3Qc7WkuUKP1bI1lua3ZmLMbY1vzcSY4v8k6UjzsGly3w5Fn4xes2F+aVZSASWYPRUwzFBmTO2HC9q2XbM1hplqmLm8mDsF5UIx/wDHIBugkihNwwAAAABJRU5ErkJggg==\" id=\"image2a6693b99e\" transform=\"scale(1 -1)translate(0 -266.4)\" x=\"340.56\" y=\"-6.48\" width=\"13.68\" height=\"266.4\"/>\n   <g id=\"matplotlib.axis_3\">\n    <g id=\"ytick_5\">\n     <g id=\"line2d_9\">\n      <defs>\n       <path id=\"m412959b0ab\" d=\"M 0 0 \nL 3.5 0 \n\" style=\"stroke: #000000; stroke-width: 0.8\"/>\n      </defs>\n      <g>\n       <use xlink:href=\"#m412959b0ab\" x=\"354.209537\" y=\"259.970013\" style=\"stroke: #000000; stroke-width: 0.8\"/>\n      </g>\n     </g>\n     <g id=\"text_27\">\n      <!-- 500 -->\n      <g transform=\"translate(361.209537 263.769232)scale(0.1 -0.1)\">\n       <use xlink:href=\"#DejaVuSans-35\"/>\n       <use xlink:href=\"#DejaVuSans-30\" x=\"63.623047\"/>\n       <use xlink:href=\"#DejaVuSans-30\" x=\"127.246094\"/>\n      </g>\n     </g>\n    </g>\n    <g id=\"ytick_6\">\n     <g id=\"line2d_10\">\n      <g>\n       <use xlink:href=\"#m412959b0ab\" x=\"354.209537\" y=\"219.539748\" style=\"stroke: #000000; stroke-width: 0.8\"/>\n      </g>\n     </g>\n     <g id=\"text_28\">\n      <!-- 1000 -->\n      <g transform=\"translate(361.209537 223.338967)scale(0.1 -0.1)\">\n       <use xlink:href=\"#DejaVuSans-31\"/>\n       <use xlink:href=\"#DejaVuSans-30\" x=\"63.623047\"/>\n       <use xlink:href=\"#DejaVuSans-30\" x=\"127.246094\"/>\n       <use xlink:href=\"#DejaVuSans-30\" x=\"190.869141\"/>\n      </g>\n     </g>\n    </g>\n    <g id=\"ytick_7\">\n     <g id=\"line2d_11\">\n      <g>\n       <use xlink:href=\"#m412959b0ab\" x=\"354.209537\" y=\"179.109484\" style=\"stroke: #000000; stroke-width: 0.8\"/>\n      </g>\n     </g>\n     <g id=\"text_29\">\n      <!-- 1500 -->\n      <g transform=\"translate(361.209537 182.908703)scale(0.1 -0.1)\">\n       <use xlink:href=\"#DejaVuSans-31\"/>\n       <use xlink:href=\"#DejaVuSans-35\" x=\"63.623047\"/>\n       <use xlink:href=\"#DejaVuSans-30\" x=\"127.246094\"/>\n       <use xlink:href=\"#DejaVuSans-30\" x=\"190.869141\"/>\n      </g>\n     </g>\n    </g>\n    <g id=\"ytick_8\">\n     <g id=\"line2d_12\">\n      <g>\n       <use xlink:href=\"#m412959b0ab\" x=\"354.209537\" y=\"138.67922\" style=\"stroke: #000000; stroke-width: 0.8\"/>\n      </g>\n     </g>\n     <g id=\"text_30\">\n      <!-- 2000 -->\n      <g transform=\"translate(361.209537 142.478438)scale(0.1 -0.1)\">\n       <use xlink:href=\"#DejaVuSans-32\"/>\n       <use xlink:href=\"#DejaVuSans-30\" x=\"63.623047\"/>\n       <use xlink:href=\"#DejaVuSans-30\" x=\"127.246094\"/>\n       <use xlink:href=\"#DejaVuSans-30\" x=\"190.869141\"/>\n      </g>\n     </g>\n    </g>\n    <g id=\"ytick_9\">\n     <g id=\"line2d_13\">\n      <g>\n       <use xlink:href=\"#m412959b0ab\" x=\"354.209537\" y=\"98.248955\" style=\"stroke: #000000; stroke-width: 0.8\"/>\n      </g>\n     </g>\n     <g id=\"text_31\">\n      <!-- 2500 -->\n      <g transform=\"translate(361.209537 102.048174)scale(0.1 -0.1)\">\n       <use xlink:href=\"#DejaVuSans-32\"/>\n       <use xlink:href=\"#DejaVuSans-35\" x=\"63.623047\"/>\n       <use xlink:href=\"#DejaVuSans-30\" x=\"127.246094\"/>\n       <use xlink:href=\"#DejaVuSans-30\" x=\"190.869141\"/>\n      </g>\n     </g>\n    </g>\n    <g id=\"ytick_10\">\n     <g id=\"line2d_14\">\n      <g>\n       <use xlink:href=\"#m412959b0ab\" x=\"354.209537\" y=\"57.818691\" style=\"stroke: #000000; stroke-width: 0.8\"/>\n      </g>\n     </g>\n     <g id=\"text_32\">\n      <!-- 3000 -->\n      <g transform=\"translate(361.209537 61.61791)scale(0.1 -0.1)\">\n       <use xlink:href=\"#DejaVuSans-33\"/>\n       <use xlink:href=\"#DejaVuSans-30\" x=\"63.623047\"/>\n       <use xlink:href=\"#DejaVuSans-30\" x=\"127.246094\"/>\n       <use xlink:href=\"#DejaVuSans-30\" x=\"190.869141\"/>\n      </g>\n     </g>\n    </g>\n    <g id=\"ytick_11\">\n     <g id=\"line2d_15\">\n      <g>\n       <use xlink:href=\"#m412959b0ab\" x=\"354.209537\" y=\"17.388427\" style=\"stroke: #000000; stroke-width: 0.8\"/>\n      </g>\n     </g>\n     <g id=\"text_33\">\n      <!-- 3500 -->\n      <g transform=\"translate(361.209537 21.187645)scale(0.1 -0.1)\">\n       <use xlink:href=\"#DejaVuSans-33\"/>\n       <use xlink:href=\"#DejaVuSans-35\" x=\"63.623047\"/>\n       <use xlink:href=\"#DejaVuSans-30\" x=\"127.246094\"/>\n       <use xlink:href=\"#DejaVuSans-30\" x=\"190.869141\"/>\n      </g>\n     </g>\n    </g>\n   </g>\n   <g id=\"LineCollection_1\"/>\n   <g id=\"patch_9\">\n    <path d=\"M 340.903937 273.312 \nL 347.556737 273.312 \nL 354.209537 273.312 \nL 354.209537 7.2 \nL 347.556737 7.2 \nL 340.903937 7.2 \nL 340.903937 273.312 \nz\n\" style=\"fill: none; stroke: #000000; stroke-width: 0.8; stroke-linejoin: miter; stroke-linecap: square\"/>\n   </g>\n  </g>\n </g>\n <defs>\n  <clipPath id=\"pabe8ba763c\">\n   <rect x=\"56.935937\" y=\"7.2\" width=\"266.112\" height=\"266.112\"/>\n  </clipPath>\n  <clipPath id=\"pd376709c0e\">\n   <rect x=\"340.903937\" y=\"7.2\" width=\"13.3056\" height=\"266.112\"/>\n  </clipPath>\n </defs>\n</svg>\n",
      "text/plain": [
       "<Figure size 640x480 with 2 Axes>"
      ]
     },
     "metadata": {},
     "output_type": "display_data"
    }
   ],
   "source": [
    "cm = confusion_matrix(y_test, y_pred, labels=gs.classes_)\n",
    "disp = ConfusionMatrixDisplay(confusion_matrix=cm, display_labels=gs.classes_)\n",
    "disp.display_labels = encoded_labels\n",
    "disp.plot(cmap='Blues');"
   ]
  },
  {
   "cell_type": "code",
   "execution_count": 13,
   "metadata": {},
   "outputs": [
    {
     "data": {
      "text/plain": [
       "['age_baseline.joblib']"
      ]
     },
     "execution_count": 13,
     "metadata": {},
     "output_type": "execute_result"
    }
   ],
   "source": [
    "import joblib\n",
    "\n",
    "joblib.dump(gs, 'age_baseline.joblib')"
   ]
  },
  {
   "cell_type": "markdown",
   "metadata": {},
   "source": [
    "## Test the model"
   ]
  },
  {
   "cell_type": "code",
   "execution_count": 14,
   "metadata": {},
   "outputs": [],
   "source": [
    "model = joblib.load('age_baseline.joblib')\n",
    "\n",
    "def predict_age(text):\n",
    "    classes = encoded_labels\n",
    "    classes = {v: k for k, v in classes.items()} # reverse the dict\n",
    "    return classes[model.predict([text])[0]]"
   ]
  },
  {
   "cell_type": "code",
   "execution_count": 15,
   "metadata": {},
   "outputs": [
    {
     "data": {
      "text/plain": [
       "'18-24'"
      ]
     },
     "execution_count": 15,
     "metadata": {},
     "output_type": "execute_result"
    }
   ],
   "source": [
    "predict_age(\"Thanks to the best teams ever for making it possible!\") # Male -> Correct"
   ]
  },
  {
   "cell_type": "code",
   "execution_count": 16,
   "metadata": {},
   "outputs": [
    {
     "data": {
      "text/plain": [
       "'>35'"
      ]
     },
     "execution_count": 16,
     "metadata": {},
     "output_type": "execute_result"
    }
   ],
   "source": [
    "predict_age(\"First time I got involved in a challenge was on 31-12-16 I took me almost 3 years, but I completed all the challenges\") # Female -> Wrong"
   ]
  },
  {
   "cell_type": "code",
   "execution_count": 17,
   "metadata": {},
   "outputs": [
    {
     "data": {
      "text/plain": [
       "'<18'"
      ]
     },
     "execution_count": 17,
     "metadata": {},
     "output_type": "execute_result"
    }
   ],
   "source": [
    "predict_age(\"GM, and have a beautiful week everyone!\") # Female -> Correct"
   ]
  },
  {
   "cell_type": "code",
   "execution_count": 18,
   "metadata": {},
   "outputs": [
    {
     "data": {
      "text/plain": [
       "'>35'"
      ]
     },
     "execution_count": 18,
     "metadata": {},
     "output_type": "execute_result"
    }
   ],
   "source": [
    "predict_age(\"I welcome the opportunity to meet the EU fishing sector in person and answer their questions about our EU Implementing Act on vulnerable marine ecosystems today.\") # Male -> Correct"
   ]
  },
  {
   "cell_type": "markdown",
   "metadata": {},
   "source": [
    "## Add *n*-gram features"
   ]
  },
  {
   "cell_type": "code",
   "execution_count": 19,
   "metadata": {},
   "outputs": [],
   "source": [
    "from tempfile import mkdtemp\n",
    "from shutil import rmtree"
   ]
  },
  {
   "cell_type": "code",
   "execution_count": 20,
   "metadata": {},
   "outputs": [],
   "source": [
    "cache_dir = mkdtemp()\n",
    "\n",
    "pipe = Pipeline(\n",
    "    [\n",
    "        ('vect', TfidfVectorizer()),\n",
    "        ('clf', LinearSVC(random_state=97))\n",
    "    ],\n",
    "    memory=cache_dir\n",
    ")"
   ]
  },
  {
   "cell_type": "code",
   "execution_count": 21,
   "metadata": {},
   "outputs": [],
   "source": [
    "param_grid = {\n",
    "    'vect__ngram_range': [(1, 1), (1, 2), (1, 3)],\n",
    "    'vect__analyzer': ['word', 'char'],\n",
    "}"
   ]
  },
  {
   "cell_type": "code",
   "execution_count": 22,
   "metadata": {},
   "outputs": [
    {
     "name": "stdout",
     "output_type": "stream",
     "text": [
      "Fitting 5 folds for each of 6 candidates, totalling 30 fits\n"
     ]
    },
    {
     "name": "stderr",
     "output_type": "stream",
     "text": [
      "c:\\Users\\dimboump\\workspace\\clips-internship\\venv\\lib\\site-packages\\sklearn\\pipeline.py:336: UserWarning: Persisting input arguments took 17.85s to run.\n",
      "If this happens often in your code, it can cause performance problems \n",
      "(results will be correct in all cases). \n",
      "The reason for this is probably some large input arguments for a wrapped\n",
      " function (e.g. large strings).\n",
      "THIS IS A JOBLIB ISSUE. If you can, kindly provide the joblib's team with an\n",
      " example so that they can fix the problem.\n",
      "  X, fitted_transformer = fit_transform_one_cached(\n"
     ]
    },
    {
     "name": "stdout",
     "output_type": "stream",
     "text": [
      "{'vect__analyzer': 'word', 'vect__ngram_range': (1, 2)}\n"
     ]
    }
   ],
   "source": [
    "gs = GridSearchCV(pipe, param_grid, cv=5, scoring='f1_macro', n_jobs=-1, refit=True, verbose=5)\n",
    "\n",
    "gs.fit(X_train, y_train)\n",
    "print(gs.best_params_)"
   ]
  },
  {
   "cell_type": "code",
   "execution_count": 23,
   "metadata": {},
   "outputs": [
    {
     "name": "stdout",
     "output_type": "stream",
     "text": [
      "              precision    recall  f1-score   support\n",
      "\n",
      "           0       0.44      0.39      0.42      4987\n",
      "           1       0.43      0.37      0.39      5021\n",
      "           2       0.67      0.75      0.71      4949\n",
      "           3       0.55      0.62      0.58      5043\n",
      "\n",
      "    accuracy                           0.53     20000\n",
      "   macro avg       0.52      0.53      0.52     20000\n",
      "weighted avg       0.52      0.53      0.52     20000\n",
      "\n"
     ]
    }
   ],
   "source": [
    "y_pred = gs.predict(X_test)\n",
    "print(classification_report(y_test, y_pred))"
   ]
  },
  {
   "cell_type": "code",
   "execution_count": 24,
   "metadata": {},
   "outputs": [
    {
     "data": {
      "image/svg+xml": "<?xml version=\"1.0\" encoding=\"utf-8\" standalone=\"no\"?>\n<!DOCTYPE svg PUBLIC \"-//W3C//DTD SVG 1.1//EN\"\n  \"http://www.w3.org/Graphics/SVG/1.1/DTD/svg11.dtd\">\n<svg xmlns:xlink=\"http://www.w3.org/1999/xlink\" width=\"393.859537pt\" height=\"310.86825pt\" viewBox=\"0 0 393.859537 310.86825\" xmlns=\"http://www.w3.org/2000/svg\" version=\"1.1\">\n <metadata>\n  <rdf:RDF xmlns:dc=\"http://purl.org/dc/elements/1.1/\" xmlns:cc=\"http://creativecommons.org/ns#\" xmlns:rdf=\"http://www.w3.org/1999/02/22-rdf-syntax-ns#\">\n   <cc:Work>\n    <dc:type rdf:resource=\"http://purl.org/dc/dcmitype/StillImage\"/>\n    <dc:date>2022-11-09T13:19:54.012436</dc:date>\n    <dc:format>image/svg+xml</dc:format>\n    <dc:creator>\n     <cc:Agent>\n      <dc:title>Matplotlib v3.5.3, https://matplotlib.org/</dc:title>\n     </cc:Agent>\n    </dc:creator>\n   </cc:Work>\n  </rdf:RDF>\n </metadata>\n <defs>\n  <style type=\"text/css\">*{stroke-linejoin: round; stroke-linecap: butt}</style>\n </defs>\n <g id=\"figure_1\">\n  <g id=\"patch_1\">\n   <path d=\"M 0 310.86825 \nL 393.859537 310.86825 \nL 393.859537 0 \nL 0 0 \nz\n\" style=\"fill: #ffffff\"/>\n  </g>\n  <g id=\"axes_1\">\n   <g id=\"patch_2\">\n    <path d=\"M 56.935937 273.312 \nL 323.047937 273.312 \nL 323.047937 7.2 \nL 56.935937 7.2 \nz\n\" style=\"fill: #ffffff\"/>\n   </g>\n   <g clip-path=\"url(#p721f8f5976)\">\n    <image xlink:href=\"data:image/png;base64,\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\" id=\"image0a2b021341\" transform=\"scale(1 -1)translate(0 -266.4)\" x=\"56.935937\" y=\"-6.912\" width=\"266.4\" height=\"266.4\"/>\n   </g>\n   <g id=\"matplotlib.axis_1\">\n    <g id=\"xtick_1\">\n     <g id=\"line2d_1\">\n      <defs>\n       <path id=\"m729c1144a1\" d=\"M 0 0 \nL 0 3.5 \n\" style=\"stroke: #000000; stroke-width: 0.8\"/>\n      </defs>\n      <g>\n       <use xlink:href=\"#m729c1144a1\" x=\"90.199937\" y=\"273.312\" style=\"stroke: #000000; stroke-width: 0.8\"/>\n      </g>\n     </g>\n     <g id=\"text_1\">\n      <!-- 18-24 -->\n      <g transform=\"translate(75.671031 287.910437)scale(0.1 -0.1)\">\n       <defs>\n        <path id=\"DejaVuSans-31\" d=\"M 794 531 \nL 1825 531 \nL 1825 4091 \nL 703 3866 \nL 703 4441 \nL 1819 4666 \nL 2450 4666 \nL 2450 531 \nL 3481 531 \nL 3481 0 \nL 794 0 \nL 794 531 \nz\n\" transform=\"scale(0.015625)\"/>\n        <path id=\"DejaVuSans-38\" d=\"M 2034 2216 \nQ 1584 2216 1326 1975 \nQ 1069 1734 1069 1313 \nQ 1069 891 1326 650 \nQ 1584 409 2034 409 \nQ 2484 409 2743 651 \nQ 3003 894 3003 1313 \nQ 3003 1734 2745 1975 \nQ 2488 2216 2034 2216 \nz\nM 1403 2484 \nQ 997 2584 770 2862 \nQ 544 3141 544 3541 \nQ 544 4100 942 4425 \nQ 1341 4750 2034 4750 \nQ 2731 4750 3128 4425 \nQ 3525 4100 3525 3541 \nQ 3525 3141 3298 2862 \nQ 3072 2584 2669 2484 \nQ 3125 2378 3379 2068 \nQ 3634 1759 3634 1313 \nQ 3634 634 3220 271 \nQ 2806 -91 2034 -91 \nQ 1263 -91 848 271 \nQ 434 634 434 1313 \nQ 434 1759 690 2068 \nQ 947 2378 1403 2484 \nz\nM 1172 3481 \nQ 1172 3119 1398 2916 \nQ 1625 2713 2034 2713 \nQ 2441 2713 2670 2916 \nQ 2900 3119 2900 3481 \nQ 2900 3844 2670 4047 \nQ 2441 4250 2034 4250 \nQ 1625 4250 1398 4047 \nQ 1172 3844 1172 3481 \nz\n\" transform=\"scale(0.015625)\"/>\n        <path id=\"DejaVuSans-2d\" d=\"M 313 2009 \nL 1997 2009 \nL 1997 1497 \nL 313 1497 \nL 313 2009 \nz\n\" transform=\"scale(0.015625)\"/>\n        <path id=\"DejaVuSans-32\" d=\"M 1228 531 \nL 3431 531 \nL 3431 0 \nL 469 0 \nL 469 531 \nQ 828 903 1448 1529 \nQ 2069 2156 2228 2338 \nQ 2531 2678 2651 2914 \nQ 2772 3150 2772 3378 \nQ 2772 3750 2511 3984 \nQ 2250 4219 1831 4219 \nQ 1534 4219 1204 4116 \nQ 875 4013 500 3803 \nL 500 4441 \nQ 881 4594 1212 4672 \nQ 1544 4750 1819 4750 \nQ 2544 4750 2975 4387 \nQ 3406 4025 3406 3419 \nQ 3406 3131 3298 2873 \nQ 3191 2616 2906 2266 \nQ 2828 2175 2409 1742 \nQ 1991 1309 1228 531 \nz\n\" transform=\"scale(0.015625)\"/>\n        <path id=\"DejaVuSans-34\" d=\"M 2419 4116 \nL 825 1625 \nL 2419 1625 \nL 2419 4116 \nz\nM 2253 4666 \nL 3047 4666 \nL 3047 1625 \nL 3713 1625 \nL 3713 1100 \nL 3047 1100 \nL 3047 0 \nL 2419 0 \nL 2419 1100 \nL 313 1100 \nL 313 1709 \nL 2253 4666 \nz\n\" transform=\"scale(0.015625)\"/>\n       </defs>\n       <use xlink:href=\"#DejaVuSans-31\"/>\n       <use xlink:href=\"#DejaVuSans-38\" x=\"63.623047\"/>\n       <use xlink:href=\"#DejaVuSans-2d\" x=\"127.246094\"/>\n       <use xlink:href=\"#DejaVuSans-32\" x=\"163.330078\"/>\n       <use xlink:href=\"#DejaVuSans-34\" x=\"226.953125\"/>\n      </g>\n     </g>\n    </g>\n    <g id=\"xtick_2\">\n     <g id=\"line2d_2\">\n      <g>\n       <use xlink:href=\"#m729c1144a1\" x=\"156.727937\" y=\"273.312\" style=\"stroke: #000000; stroke-width: 0.8\"/>\n      </g>\n     </g>\n     <g id=\"text_2\">\n      <!-- 25-34 -->\n      <g transform=\"translate(142.199031 287.910437)scale(0.1 -0.1)\">\n       <defs>\n        <path id=\"DejaVuSans-35\" d=\"M 691 4666 \nL 3169 4666 \nL 3169 4134 \nL 1269 4134 \nL 1269 2991 \nQ 1406 3038 1543 3061 \nQ 1681 3084 1819 3084 \nQ 2600 3084 3056 2656 \nQ 3513 2228 3513 1497 \nQ 3513 744 3044 326 \nQ 2575 -91 1722 -91 \nQ 1428 -91 1123 -41 \nQ 819 9 494 109 \nL 494 744 \nQ 775 591 1075 516 \nQ 1375 441 1709 441 \nQ 2250 441 2565 725 \nQ 2881 1009 2881 1497 \nQ 2881 1984 2565 2268 \nQ 2250 2553 1709 2553 \nQ 1456 2553 1204 2497 \nQ 953 2441 691 2322 \nL 691 4666 \nz\n\" transform=\"scale(0.015625)\"/>\n        <path id=\"DejaVuSans-33\" d=\"M 2597 2516 \nQ 3050 2419 3304 2112 \nQ 3559 1806 3559 1356 \nQ 3559 666 3084 287 \nQ 2609 -91 1734 -91 \nQ 1441 -91 1130 -33 \nQ 819 25 488 141 \nL 488 750 \nQ 750 597 1062 519 \nQ 1375 441 1716 441 \nQ 2309 441 2620 675 \nQ 2931 909 2931 1356 \nQ 2931 1769 2642 2001 \nQ 2353 2234 1838 2234 \nL 1294 2234 \nL 1294 2753 \nL 1863 2753 \nQ 2328 2753 2575 2939 \nQ 2822 3125 2822 3475 \nQ 2822 3834 2567 4026 \nQ 2313 4219 1838 4219 \nQ 1578 4219 1281 4162 \nQ 984 4106 628 3988 \nL 628 4550 \nQ 988 4650 1302 4700 \nQ 1616 4750 1894 4750 \nQ 2613 4750 3031 4423 \nQ 3450 4097 3450 3541 \nQ 3450 3153 3228 2886 \nQ 3006 2619 2597 2516 \nz\n\" transform=\"scale(0.015625)\"/>\n       </defs>\n       <use xlink:href=\"#DejaVuSans-32\"/>\n       <use xlink:href=\"#DejaVuSans-35\" x=\"63.623047\"/>\n       <use xlink:href=\"#DejaVuSans-2d\" x=\"127.246094\"/>\n       <use xlink:href=\"#DejaVuSans-33\" x=\"163.330078\"/>\n       <use xlink:href=\"#DejaVuSans-34\" x=\"226.953125\"/>\n      </g>\n     </g>\n    </g>\n    <g id=\"xtick_3\">\n     <g id=\"line2d_3\">\n      <g>\n       <use xlink:href=\"#m729c1144a1\" x=\"223.255937\" y=\"273.312\" style=\"stroke: #000000; stroke-width: 0.8\"/>\n      </g>\n     </g>\n     <g id=\"text_3\">\n      <!-- &lt;18 -->\n      <g transform=\"translate(212.703594 287.910437)scale(0.1 -0.1)\">\n       <defs>\n        <path id=\"DejaVuSans-3c\" d=\"M 4684 3150 \nL 1459 2003 \nL 4684 863 \nL 4684 294 \nL 678 1747 \nL 678 2266 \nL 4684 3719 \nL 4684 3150 \nz\n\" transform=\"scale(0.015625)\"/>\n       </defs>\n       <use xlink:href=\"#DejaVuSans-3c\"/>\n       <use xlink:href=\"#DejaVuSans-31\" x=\"83.789062\"/>\n       <use xlink:href=\"#DejaVuSans-38\" x=\"147.412109\"/>\n      </g>\n     </g>\n    </g>\n    <g id=\"xtick_4\">\n     <g id=\"line2d_4\">\n      <g>\n       <use xlink:href=\"#m729c1144a1\" x=\"289.783937\" y=\"273.312\" style=\"stroke: #000000; stroke-width: 0.8\"/>\n      </g>\n     </g>\n     <g id=\"text_4\">\n      <!-- &gt;35 -->\n      <g transform=\"translate(279.231594 287.910437)scale(0.1 -0.1)\">\n       <defs>\n        <path id=\"DejaVuSans-3e\" d=\"M 678 3150 \nL 678 3719 \nL 4684 2266 \nL 4684 1747 \nL 678 294 \nL 678 863 \nL 3897 2003 \nL 678 3150 \nz\n\" transform=\"scale(0.015625)\"/>\n       </defs>\n       <use xlink:href=\"#DejaVuSans-3e\"/>\n       <use xlink:href=\"#DejaVuSans-33\" x=\"83.789062\"/>\n       <use xlink:href=\"#DejaVuSans-35\" x=\"147.412109\"/>\n      </g>\n     </g>\n    </g>\n    <g id=\"text_5\">\n     <!-- Predicted label -->\n     <g transform=\"translate(152.839594 301.588562)scale(0.1 -0.1)\">\n      <defs>\n       <path id=\"DejaVuSans-50\" d=\"M 1259 4147 \nL 1259 2394 \nL 2053 2394 \nQ 2494 2394 2734 2622 \nQ 2975 2850 2975 3272 \nQ 2975 3691 2734 3919 \nQ 2494 4147 2053 4147 \nL 1259 4147 \nz\nM 628 4666 \nL 2053 4666 \nQ 2838 4666 3239 4311 \nQ 3641 3956 3641 3272 \nQ 3641 2581 3239 2228 \nQ 2838 1875 2053 1875 \nL 1259 1875 \nL 1259 0 \nL 628 0 \nL 628 4666 \nz\n\" transform=\"scale(0.015625)\"/>\n       <path id=\"DejaVuSans-72\" d=\"M 2631 2963 \nQ 2534 3019 2420 3045 \nQ 2306 3072 2169 3072 \nQ 1681 3072 1420 2755 \nQ 1159 2438 1159 1844 \nL 1159 0 \nL 581 0 \nL 581 3500 \nL 1159 3500 \nL 1159 2956 \nQ 1341 3275 1631 3429 \nQ 1922 3584 2338 3584 \nQ 2397 3584 2469 3576 \nQ 2541 3569 2628 3553 \nL 2631 2963 \nz\n\" transform=\"scale(0.015625)\"/>\n       <path id=\"DejaVuSans-65\" d=\"M 3597 1894 \nL 3597 1613 \nL 953 1613 \nQ 991 1019 1311 708 \nQ 1631 397 2203 397 \nQ 2534 397 2845 478 \nQ 3156 559 3463 722 \nL 3463 178 \nQ 3153 47 2828 -22 \nQ 2503 -91 2169 -91 \nQ 1331 -91 842 396 \nQ 353 884 353 1716 \nQ 353 2575 817 3079 \nQ 1281 3584 2069 3584 \nQ 2775 3584 3186 3129 \nQ 3597 2675 3597 1894 \nz\nM 3022 2063 \nQ 3016 2534 2758 2815 \nQ 2500 3097 2075 3097 \nQ 1594 3097 1305 2825 \nQ 1016 2553 972 2059 \nL 3022 2063 \nz\n\" transform=\"scale(0.015625)\"/>\n       <path id=\"DejaVuSans-64\" d=\"M 2906 2969 \nL 2906 4863 \nL 3481 4863 \nL 3481 0 \nL 2906 0 \nL 2906 525 \nQ 2725 213 2448 61 \nQ 2172 -91 1784 -91 \nQ 1150 -91 751 415 \nQ 353 922 353 1747 \nQ 353 2572 751 3078 \nQ 1150 3584 1784 3584 \nQ 2172 3584 2448 3432 \nQ 2725 3281 2906 2969 \nz\nM 947 1747 \nQ 947 1113 1208 752 \nQ 1469 391 1925 391 \nQ 2381 391 2643 752 \nQ 2906 1113 2906 1747 \nQ 2906 2381 2643 2742 \nQ 2381 3103 1925 3103 \nQ 1469 3103 1208 2742 \nQ 947 2381 947 1747 \nz\n\" transform=\"scale(0.015625)\"/>\n       <path id=\"DejaVuSans-69\" d=\"M 603 3500 \nL 1178 3500 \nL 1178 0 \nL 603 0 \nL 603 3500 \nz\nM 603 4863 \nL 1178 4863 \nL 1178 4134 \nL 603 4134 \nL 603 4863 \nz\n\" transform=\"scale(0.015625)\"/>\n       <path id=\"DejaVuSans-63\" d=\"M 3122 3366 \nL 3122 2828 \nQ 2878 2963 2633 3030 \nQ 2388 3097 2138 3097 \nQ 1578 3097 1268 2742 \nQ 959 2388 959 1747 \nQ 959 1106 1268 751 \nQ 1578 397 2138 397 \nQ 2388 397 2633 464 \nQ 2878 531 3122 666 \nL 3122 134 \nQ 2881 22 2623 -34 \nQ 2366 -91 2075 -91 \nQ 1284 -91 818 406 \nQ 353 903 353 1747 \nQ 353 2603 823 3093 \nQ 1294 3584 2113 3584 \nQ 2378 3584 2631 3529 \nQ 2884 3475 3122 3366 \nz\n\" transform=\"scale(0.015625)\"/>\n       <path id=\"DejaVuSans-74\" d=\"M 1172 4494 \nL 1172 3500 \nL 2356 3500 \nL 2356 3053 \nL 1172 3053 \nL 1172 1153 \nQ 1172 725 1289 603 \nQ 1406 481 1766 481 \nL 2356 481 \nL 2356 0 \nL 1766 0 \nQ 1100 0 847 248 \nQ 594 497 594 1153 \nL 594 3053 \nL 172 3053 \nL 172 3500 \nL 594 3500 \nL 594 4494 \nL 1172 4494 \nz\n\" transform=\"scale(0.015625)\"/>\n       <path id=\"DejaVuSans-20\" transform=\"scale(0.015625)\"/>\n       <path id=\"DejaVuSans-6c\" d=\"M 603 4863 \nL 1178 4863 \nL 1178 0 \nL 603 0 \nL 603 4863 \nz\n\" transform=\"scale(0.015625)\"/>\n       <path id=\"DejaVuSans-61\" d=\"M 2194 1759 \nQ 1497 1759 1228 1600 \nQ 959 1441 959 1056 \nQ 959 750 1161 570 \nQ 1363 391 1709 391 \nQ 2188 391 2477 730 \nQ 2766 1069 2766 1631 \nL 2766 1759 \nL 2194 1759 \nz\nM 3341 1997 \nL 3341 0 \nL 2766 0 \nL 2766 531 \nQ 2569 213 2275 61 \nQ 1981 -91 1556 -91 \nQ 1019 -91 701 211 \nQ 384 513 384 1019 \nQ 384 1609 779 1909 \nQ 1175 2209 1959 2209 \nL 2766 2209 \nL 2766 2266 \nQ 2766 2663 2505 2880 \nQ 2244 3097 1772 3097 \nQ 1472 3097 1187 3025 \nQ 903 2953 641 2809 \nL 641 3341 \nQ 956 3463 1253 3523 \nQ 1550 3584 1831 3584 \nQ 2591 3584 2966 3190 \nQ 3341 2797 3341 1997 \nz\n\" transform=\"scale(0.015625)\"/>\n       <path id=\"DejaVuSans-62\" d=\"M 3116 1747 \nQ 3116 2381 2855 2742 \nQ 2594 3103 2138 3103 \nQ 1681 3103 1420 2742 \nQ 1159 2381 1159 1747 \nQ 1159 1113 1420 752 \nQ 1681 391 2138 391 \nQ 2594 391 2855 752 \nQ 3116 1113 3116 1747 \nz\nM 1159 2969 \nQ 1341 3281 1617 3432 \nQ 1894 3584 2278 3584 \nQ 2916 3584 3314 3078 \nQ 3713 2572 3713 1747 \nQ 3713 922 3314 415 \nQ 2916 -91 2278 -91 \nQ 1894 -91 1617 61 \nQ 1341 213 1159 525 \nL 1159 0 \nL 581 0 \nL 581 4863 \nL 1159 4863 \nL 1159 2969 \nz\n\" transform=\"scale(0.015625)\"/>\n      </defs>\n      <use xlink:href=\"#DejaVuSans-50\"/>\n      <use xlink:href=\"#DejaVuSans-72\" x=\"58.552734\"/>\n      <use xlink:href=\"#DejaVuSans-65\" x=\"97.416016\"/>\n      <use xlink:href=\"#DejaVuSans-64\" x=\"158.939453\"/>\n      <use xlink:href=\"#DejaVuSans-69\" x=\"222.416016\"/>\n      <use xlink:href=\"#DejaVuSans-63\" x=\"250.199219\"/>\n      <use xlink:href=\"#DejaVuSans-74\" x=\"305.179688\"/>\n      <use xlink:href=\"#DejaVuSans-65\" x=\"344.388672\"/>\n      <use xlink:href=\"#DejaVuSans-64\" x=\"405.912109\"/>\n      <use xlink:href=\"#DejaVuSans-20\" x=\"469.388672\"/>\n      <use xlink:href=\"#DejaVuSans-6c\" x=\"501.175781\"/>\n      <use xlink:href=\"#DejaVuSans-61\" x=\"528.958984\"/>\n      <use xlink:href=\"#DejaVuSans-62\" x=\"590.238281\"/>\n      <use xlink:href=\"#DejaVuSans-65\" x=\"653.714844\"/>\n      <use xlink:href=\"#DejaVuSans-6c\" x=\"715.238281\"/>\n     </g>\n    </g>\n   </g>\n   <g id=\"matplotlib.axis_2\">\n    <g id=\"ytick_1\">\n     <g id=\"line2d_5\">\n      <defs>\n       <path id=\"mfa15f346e6\" d=\"M 0 0 \nL -3.5 0 \n\" style=\"stroke: #000000; stroke-width: 0.8\"/>\n      </defs>\n      <g>\n       <use xlink:href=\"#mfa15f346e6\" x=\"56.935937\" y=\"40.464\" style=\"stroke: #000000; stroke-width: 0.8\"/>\n      </g>\n     </g>\n     <g id=\"text_6\">\n      <!-- 18-24 -->\n      <g transform=\"translate(20.878125 44.263219)scale(0.1 -0.1)\">\n       <use xlink:href=\"#DejaVuSans-31\"/>\n       <use xlink:href=\"#DejaVuSans-38\" x=\"63.623047\"/>\n       <use xlink:href=\"#DejaVuSans-2d\" x=\"127.246094\"/>\n       <use xlink:href=\"#DejaVuSans-32\" x=\"163.330078\"/>\n       <use xlink:href=\"#DejaVuSans-34\" x=\"226.953125\"/>\n      </g>\n     </g>\n    </g>\n    <g id=\"ytick_2\">\n     <g id=\"line2d_6\">\n      <g>\n       <use xlink:href=\"#mfa15f346e6\" x=\"56.935937\" y=\"106.992\" style=\"stroke: #000000; stroke-width: 0.8\"/>\n      </g>\n     </g>\n     <g id=\"text_7\">\n      <!-- 25-34 -->\n      <g transform=\"translate(20.878125 110.791219)scale(0.1 -0.1)\">\n       <use xlink:href=\"#DejaVuSans-32\"/>\n       <use xlink:href=\"#DejaVuSans-35\" x=\"63.623047\"/>\n       <use xlink:href=\"#DejaVuSans-2d\" x=\"127.246094\"/>\n       <use xlink:href=\"#DejaVuSans-33\" x=\"163.330078\"/>\n       <use xlink:href=\"#DejaVuSans-34\" x=\"226.953125\"/>\n      </g>\n     </g>\n    </g>\n    <g id=\"ytick_3\">\n     <g id=\"line2d_7\">\n      <g>\n       <use xlink:href=\"#mfa15f346e6\" x=\"56.935937\" y=\"173.52\" style=\"stroke: #000000; stroke-width: 0.8\"/>\n      </g>\n     </g>\n     <g id=\"text_8\">\n      <!-- &lt;18 -->\n      <g transform=\"translate(28.83125 177.319219)scale(0.1 -0.1)\">\n       <use xlink:href=\"#DejaVuSans-3c\"/>\n       <use xlink:href=\"#DejaVuSans-31\" x=\"83.789062\"/>\n       <use xlink:href=\"#DejaVuSans-38\" x=\"147.412109\"/>\n      </g>\n     </g>\n    </g>\n    <g id=\"ytick_4\">\n     <g id=\"line2d_8\">\n      <g>\n       <use xlink:href=\"#mfa15f346e6\" x=\"56.935937\" y=\"240.048\" style=\"stroke: #000000; stroke-width: 0.8\"/>\n      </g>\n     </g>\n     <g id=\"text_9\">\n      <!-- &gt;35 -->\n      <g transform=\"translate(28.83125 243.847219)scale(0.1 -0.1)\">\n       <use xlink:href=\"#DejaVuSans-3e\"/>\n       <use xlink:href=\"#DejaVuSans-33\" x=\"83.789062\"/>\n       <use xlink:href=\"#DejaVuSans-35\" x=\"147.412109\"/>\n      </g>\n     </g>\n    </g>\n    <g id=\"text_10\">\n     <!-- True label -->\n     <g transform=\"translate(14.798437 164.555219)rotate(-90)scale(0.1 -0.1)\">\n      <defs>\n       <path id=\"DejaVuSans-54\" d=\"M -19 4666 \nL 3928 4666 \nL 3928 4134 \nL 2272 4134 \nL 2272 0 \nL 1638 0 \nL 1638 4134 \nL -19 4134 \nL -19 4666 \nz\n\" transform=\"scale(0.015625)\"/>\n       <path id=\"DejaVuSans-75\" d=\"M 544 1381 \nL 544 3500 \nL 1119 3500 \nL 1119 1403 \nQ 1119 906 1312 657 \nQ 1506 409 1894 409 \nQ 2359 409 2629 706 \nQ 2900 1003 2900 1516 \nL 2900 3500 \nL 3475 3500 \nL 3475 0 \nL 2900 0 \nL 2900 538 \nQ 2691 219 2414 64 \nQ 2138 -91 1772 -91 \nQ 1169 -91 856 284 \nQ 544 659 544 1381 \nz\nM 1991 3584 \nL 1991 3584 \nz\n\" transform=\"scale(0.015625)\"/>\n      </defs>\n      <use xlink:href=\"#DejaVuSans-54\"/>\n      <use xlink:href=\"#DejaVuSans-72\" x=\"46.333984\"/>\n      <use xlink:href=\"#DejaVuSans-75\" x=\"87.447266\"/>\n      <use xlink:href=\"#DejaVuSans-65\" x=\"150.826172\"/>\n      <use xlink:href=\"#DejaVuSans-20\" x=\"212.349609\"/>\n      <use xlink:href=\"#DejaVuSans-6c\" x=\"244.136719\"/>\n      <use xlink:href=\"#DejaVuSans-61\" x=\"271.919922\"/>\n      <use xlink:href=\"#DejaVuSans-62\" x=\"333.199219\"/>\n      <use xlink:href=\"#DejaVuSans-65\" x=\"396.675781\"/>\n      <use xlink:href=\"#DejaVuSans-6c\" x=\"458.199219\"/>\n     </g>\n    </g>\n   </g>\n   <g id=\"patch_3\">\n    <path d=\"M 56.935937 273.312 \nL 56.935937 7.2 \n\" style=\"fill: none; stroke: #000000; stroke-width: 0.8; stroke-linejoin: miter; stroke-linecap: square\"/>\n   </g>\n   <g id=\"patch_4\">\n    <path d=\"M 323.047937 273.312 \nL 323.047937 7.2 \n\" style=\"fill: none; stroke: #000000; stroke-width: 0.8; stroke-linejoin: miter; stroke-linecap: square\"/>\n   </g>\n   <g id=\"patch_5\">\n    <path d=\"M 56.935937 273.312 \nL 323.047937 273.312 \n\" style=\"fill: none; stroke: #000000; stroke-width: 0.8; stroke-linejoin: miter; stroke-linecap: square\"/>\n   </g>\n   <g id=\"patch_6\">\n    <path d=\"M 56.935937 7.2 \nL 323.047937 7.2 \n\" style=\"fill: none; stroke: #000000; stroke-width: 0.8; stroke-linejoin: miter; stroke-linecap: square\"/>\n   </g>\n   <g id=\"text_11\">\n    <!-- 1961 -->\n    <g style=\"fill: #08306b\" transform=\"translate(77.474937 43.223375)scale(0.1 -0.1)\">\n     <defs>\n      <path id=\"DejaVuSans-39\" d=\"M 703 97 \nL 703 672 \nQ 941 559 1184 500 \nQ 1428 441 1663 441 \nQ 2288 441 2617 861 \nQ 2947 1281 2994 2138 \nQ 2813 1869 2534 1725 \nQ 2256 1581 1919 1581 \nQ 1219 1581 811 2004 \nQ 403 2428 403 3163 \nQ 403 3881 828 4315 \nQ 1253 4750 1959 4750 \nQ 2769 4750 3195 4129 \nQ 3622 3509 3622 2328 \nQ 3622 1225 3098 567 \nQ 2575 -91 1691 -91 \nQ 1453 -91 1209 -44 \nQ 966 3 703 97 \nz\nM 1959 2075 \nQ 2384 2075 2632 2365 \nQ 2881 2656 2881 3163 \nQ 2881 3666 2632 3958 \nQ 2384 4250 1959 4250 \nQ 1534 4250 1286 3958 \nQ 1038 3666 1038 3163 \nQ 1038 2656 1286 2365 \nQ 1534 2075 1959 2075 \nz\n\" transform=\"scale(0.015625)\"/>\n      <path id=\"DejaVuSans-36\" d=\"M 2113 2584 \nQ 1688 2584 1439 2293 \nQ 1191 2003 1191 1497 \nQ 1191 994 1439 701 \nQ 1688 409 2113 409 \nQ 2538 409 2786 701 \nQ 3034 994 3034 1497 \nQ 3034 2003 2786 2293 \nQ 2538 2584 2113 2584 \nz\nM 3366 4563 \nL 3366 3988 \nQ 3128 4100 2886 4159 \nQ 2644 4219 2406 4219 \nQ 1781 4219 1451 3797 \nQ 1122 3375 1075 2522 \nQ 1259 2794 1537 2939 \nQ 1816 3084 2150 3084 \nQ 2853 3084 3261 2657 \nQ 3669 2231 3669 1497 \nQ 3669 778 3244 343 \nQ 2819 -91 2113 -91 \nQ 1303 -91 875 529 \nQ 447 1150 447 2328 \nQ 447 3434 972 4092 \nQ 1497 4750 2381 4750 \nQ 2619 4750 2861 4703 \nQ 3103 4656 3366 4563 \nz\n\" transform=\"scale(0.015625)\"/>\n     </defs>\n     <use xlink:href=\"#DejaVuSans-31\"/>\n     <use xlink:href=\"#DejaVuSans-39\" x=\"63.623047\"/>\n     <use xlink:href=\"#DejaVuSans-36\" x=\"127.246094\"/>\n     <use xlink:href=\"#DejaVuSans-31\" x=\"190.869141\"/>\n    </g>\n   </g>\n   <g id=\"text_12\">\n    <!-- 1185 -->\n    <g style=\"fill: #08306b\" transform=\"translate(144.002938 43.223375)scale(0.1 -0.1)\">\n     <use xlink:href=\"#DejaVuSans-31\"/>\n     <use xlink:href=\"#DejaVuSans-31\" x=\"63.623047\"/>\n     <use xlink:href=\"#DejaVuSans-38\" x=\"127.246094\"/>\n     <use xlink:href=\"#DejaVuSans-35\" x=\"190.869141\"/>\n    </g>\n   </g>\n   <g id=\"text_13\">\n    <!-- 894 -->\n    <g style=\"fill: #08306b\" transform=\"translate(213.712187 43.223375)scale(0.1 -0.1)\">\n     <use xlink:href=\"#DejaVuSans-38\"/>\n     <use xlink:href=\"#DejaVuSans-39\" x=\"63.623047\"/>\n     <use xlink:href=\"#DejaVuSans-34\" x=\"127.246094\"/>\n    </g>\n   </g>\n   <g id=\"text_14\">\n    <!-- 947 -->\n    <g style=\"fill: #08306b\" transform=\"translate(280.240187 43.223375)scale(0.1 -0.1)\">\n     <defs>\n      <path id=\"DejaVuSans-37\" d=\"M 525 4666 \nL 3525 4666 \nL 3525 4397 \nL 1831 0 \nL 1172 0 \nL 2766 4134 \nL 525 4134 \nL 525 4666 \nz\n\" transform=\"scale(0.015625)\"/>\n     </defs>\n     <use xlink:href=\"#DejaVuSans-39\"/>\n     <use xlink:href=\"#DejaVuSans-34\" x=\"63.623047\"/>\n     <use xlink:href=\"#DejaVuSans-37\" x=\"127.246094\"/>\n    </g>\n   </g>\n   <g id=\"text_15\">\n    <!-- 1262 -->\n    <g style=\"fill: #08306b\" transform=\"translate(77.474937 109.751375)scale(0.1 -0.1)\">\n     <use xlink:href=\"#DejaVuSans-31\"/>\n     <use xlink:href=\"#DejaVuSans-32\" x=\"63.623047\"/>\n     <use xlink:href=\"#DejaVuSans-36\" x=\"127.246094\"/>\n     <use xlink:href=\"#DejaVuSans-32\" x=\"190.869141\"/>\n    </g>\n   </g>\n   <g id=\"text_16\">\n    <!-- 1836 -->\n    <g style=\"fill: #08306b\" transform=\"translate(144.002938 109.751375)scale(0.1 -0.1)\">\n     <use xlink:href=\"#DejaVuSans-31\"/>\n     <use xlink:href=\"#DejaVuSans-38\" x=\"63.623047\"/>\n     <use xlink:href=\"#DejaVuSans-33\" x=\"127.246094\"/>\n     <use xlink:href=\"#DejaVuSans-36\" x=\"190.869141\"/>\n    </g>\n   </g>\n   <g id=\"text_17\">\n    <!-- 627 -->\n    <g style=\"fill: #08306b\" transform=\"translate(213.712187 109.751375)scale(0.1 -0.1)\">\n     <use xlink:href=\"#DejaVuSans-36\"/>\n     <use xlink:href=\"#DejaVuSans-32\" x=\"63.623047\"/>\n     <use xlink:href=\"#DejaVuSans-37\" x=\"127.246094\"/>\n    </g>\n   </g>\n   <g id=\"text_18\">\n    <!-- 1296 -->\n    <g style=\"fill: #08306b\" transform=\"translate(277.058937 109.751375)scale(0.1 -0.1)\">\n     <use xlink:href=\"#DejaVuSans-31\"/>\n     <use xlink:href=\"#DejaVuSans-32\" x=\"63.623047\"/>\n     <use xlink:href=\"#DejaVuSans-39\" x=\"127.246094\"/>\n     <use xlink:href=\"#DejaVuSans-36\" x=\"190.869141\"/>\n    </g>\n   </g>\n   <g id=\"text_19\">\n    <!-- 516 -->\n    <g style=\"fill: #08306b\" transform=\"translate(80.656187 176.279375)scale(0.1 -0.1)\">\n     <use xlink:href=\"#DejaVuSans-35\"/>\n     <use xlink:href=\"#DejaVuSans-31\" x=\"63.623047\"/>\n     <use xlink:href=\"#DejaVuSans-36\" x=\"127.246094\"/>\n    </g>\n   </g>\n   <g id=\"text_20\">\n    <!-- 393 -->\n    <g style=\"fill: #08306b\" transform=\"translate(147.184188 176.279375)scale(0.1 -0.1)\">\n     <use xlink:href=\"#DejaVuSans-33\"/>\n     <use xlink:href=\"#DejaVuSans-39\" x=\"63.623047\"/>\n     <use xlink:href=\"#DejaVuSans-33\" x=\"127.246094\"/>\n    </g>\n   </g>\n   <g id=\"text_21\">\n    <!-- 3717 -->\n    <g style=\"fill: #f7fbff\" transform=\"translate(210.530937 176.279375)scale(0.1 -0.1)\">\n     <use xlink:href=\"#DejaVuSans-33\"/>\n     <use xlink:href=\"#DejaVuSans-37\" x=\"63.623047\"/>\n     <use xlink:href=\"#DejaVuSans-31\" x=\"127.246094\"/>\n     <use xlink:href=\"#DejaVuSans-37\" x=\"190.869141\"/>\n    </g>\n   </g>\n   <g id=\"text_22\">\n    <!-- 323 -->\n    <g style=\"fill: #08306b\" transform=\"translate(280.240187 176.279375)scale(0.1 -0.1)\">\n     <use xlink:href=\"#DejaVuSans-33\"/>\n     <use xlink:href=\"#DejaVuSans-32\" x=\"63.623047\"/>\n     <use xlink:href=\"#DejaVuSans-33\" x=\"127.246094\"/>\n    </g>\n   </g>\n   <g id=\"text_23\">\n    <!-- 712 -->\n    <g style=\"fill: #08306b\" transform=\"translate(80.656187 242.807375)scale(0.1 -0.1)\">\n     <use xlink:href=\"#DejaVuSans-37\"/>\n     <use xlink:href=\"#DejaVuSans-31\" x=\"63.623047\"/>\n     <use xlink:href=\"#DejaVuSans-32\" x=\"127.246094\"/>\n    </g>\n   </g>\n   <g id=\"text_24\">\n    <!-- 902 -->\n    <g style=\"fill: #08306b\" transform=\"translate(147.184188 242.807375)scale(0.1 -0.1)\">\n     <defs>\n      <path id=\"DejaVuSans-30\" d=\"M 2034 4250 \nQ 1547 4250 1301 3770 \nQ 1056 3291 1056 2328 \nQ 1056 1369 1301 889 \nQ 1547 409 2034 409 \nQ 2525 409 2770 889 \nQ 3016 1369 3016 2328 \nQ 3016 3291 2770 3770 \nQ 2525 4250 2034 4250 \nz\nM 2034 4750 \nQ 2819 4750 3233 4129 \nQ 3647 3509 3647 2328 \nQ 3647 1150 3233 529 \nQ 2819 -91 2034 -91 \nQ 1250 -91 836 529 \nQ 422 1150 422 2328 \nQ 422 3509 836 4129 \nQ 1250 4750 2034 4750 \nz\n\" transform=\"scale(0.015625)\"/>\n     </defs>\n     <use xlink:href=\"#DejaVuSans-39\"/>\n     <use xlink:href=\"#DejaVuSans-30\" x=\"63.623047\"/>\n     <use xlink:href=\"#DejaVuSans-32\" x=\"127.246094\"/>\n    </g>\n   </g>\n   <g id=\"text_25\">\n    <!-- 316 -->\n    <g style=\"fill: #08306b\" transform=\"translate(213.712187 242.807375)scale(0.1 -0.1)\">\n     <use xlink:href=\"#DejaVuSans-33\"/>\n     <use xlink:href=\"#DejaVuSans-31\" x=\"63.623047\"/>\n     <use xlink:href=\"#DejaVuSans-36\" x=\"127.246094\"/>\n    </g>\n   </g>\n   <g id=\"text_26\">\n    <!-- 3113 -->\n    <g style=\"fill: #f7fbff\" transform=\"translate(277.058937 242.807375)scale(0.1 -0.1)\">\n     <use xlink:href=\"#DejaVuSans-33\"/>\n     <use xlink:href=\"#DejaVuSans-31\" x=\"63.623047\"/>\n     <use xlink:href=\"#DejaVuSans-31\" x=\"127.246094\"/>\n     <use xlink:href=\"#DejaVuSans-33\" x=\"190.869141\"/>\n    </g>\n   </g>\n  </g>\n  <g id=\"axes_2\">\n   <g id=\"patch_7\">\n    <path d=\"M 340.903937 273.312 \nL 354.209537 273.312 \nL 354.209537 7.2 \nL 340.903937 7.2 \nz\n\" style=\"fill: #ffffff\"/>\n   </g>\n   <g id=\"patch_8\">\n    <path clip-path=\"url(#p52cc617f23)\" style=\"fill: #ffffff; stroke: #ffffff; stroke-width: 0.01; stroke-linejoin: miter\"/>\n   </g>\n   <image xlink:href=\"data:image/png;base64,\niVBORw0KGgoAAAANSUhEUgAAABMAAAFyCAYAAAAXj+GHAAABwElEQVR4nO2cW4rtMBADfYfsf7v3YyCZNSgUpEDSAkTKcnfbOY9//3+f50D6oYzOOefinuuc6zmc2wV60WuGmokxl2ZsJsYE09RiljRHNSYnFpNsQUvzhZl5BjQ0x5ZRd5ZmbtbRHOEZwEk9A5ZmqJI01ROdNBNjLs3YTIwpTXPNMddGXa6l+cJszTE326iLtTRzsWneYJybAblYzLsDc2nmZi2vo8k1u7Vbo6QCluYLM87rXA/4aHBzJM28mEszN/NiegudvAesAnLRFcCZ0WfaimMoisneA7xr1nFDQdMUt20WkzOjMa2FLl4zstDFmB2F3jKdrAcX9ORYsmbqCqgodHPbJqcTZqXeGiWjjn1904EpThM1s94DxM3RO9GX5gszzKrmGLoZkEuM6U1z3ySJtRnwygzzapkBJWmKm2MNpnRrDDOXF1NdAajZMEMNM5cXc2uWS4x5g1cUMWZJmtrjgfoUZN0a7E97tZglaaKY2xrfmq3Qc7WkuUKP1bI1lua3ZmLMbY1vzcSY4v8k6UjzsGly3w5Fn4xes2F+aVZSASWYPRUwzFBmTO2HC9q2XbM1hplqmLm8mDsF5UIx/wDHIBugkihNwwAAAABJRU5ErkJggg==\" id=\"image4b821ba310\" transform=\"scale(1 -1)translate(0 -266.4)\" x=\"340.56\" y=\"-6.48\" width=\"13.68\" height=\"266.4\"/>\n   <g id=\"matplotlib.axis_3\">\n    <g id=\"ytick_5\">\n     <g id=\"line2d_9\">\n      <defs>\n       <path id=\"m94ead6b9e0\" d=\"M 0 0 \nL 3.5 0 \n\" style=\"stroke: #000000; stroke-width: 0.8\"/>\n      </defs>\n      <g>\n       <use xlink:href=\"#m94ead6b9e0\" x=\"354.209537\" y=\"258.914879\" style=\"stroke: #000000; stroke-width: 0.8\"/>\n      </g>\n     </g>\n     <g id=\"text_27\">\n      <!-- 500 -->\n      <g transform=\"translate(361.209537 262.714098)scale(0.1 -0.1)\">\n       <use xlink:href=\"#DejaVuSans-35\"/>\n       <use xlink:href=\"#DejaVuSans-30\" x=\"63.623047\"/>\n       <use xlink:href=\"#DejaVuSans-30\" x=\"127.246094\"/>\n      </g>\n     </g>\n    </g>\n    <g id=\"ytick_6\">\n     <g id=\"line2d_10\">\n      <g>\n       <use xlink:href=\"#m94ead6b9e0\" x=\"354.209537\" y=\"219.792268\" style=\"stroke: #000000; stroke-width: 0.8\"/>\n      </g>\n     </g>\n     <g id=\"text_28\">\n      <!-- 1000 -->\n      <g transform=\"translate(361.209537 223.591487)scale(0.1 -0.1)\">\n       <use xlink:href=\"#DejaVuSans-31\"/>\n       <use xlink:href=\"#DejaVuSans-30\" x=\"63.623047\"/>\n       <use xlink:href=\"#DejaVuSans-30\" x=\"127.246094\"/>\n       <use xlink:href=\"#DejaVuSans-30\" x=\"190.869141\"/>\n      </g>\n     </g>\n    </g>\n    <g id=\"ytick_7\">\n     <g id=\"line2d_11\">\n      <g>\n       <use xlink:href=\"#m94ead6b9e0\" x=\"354.209537\" y=\"180.669657\" style=\"stroke: #000000; stroke-width: 0.8\"/>\n      </g>\n     </g>\n     <g id=\"text_29\">\n      <!-- 1500 -->\n      <g transform=\"translate(361.209537 184.468876)scale(0.1 -0.1)\">\n       <use xlink:href=\"#DejaVuSans-31\"/>\n       <use xlink:href=\"#DejaVuSans-35\" x=\"63.623047\"/>\n       <use xlink:href=\"#DejaVuSans-30\" x=\"127.246094\"/>\n       <use xlink:href=\"#DejaVuSans-30\" x=\"190.869141\"/>\n      </g>\n     </g>\n    </g>\n    <g id=\"ytick_8\">\n     <g id=\"line2d_12\">\n      <g>\n       <use xlink:href=\"#m94ead6b9e0\" x=\"354.209537\" y=\"141.547046\" style=\"stroke: #000000; stroke-width: 0.8\"/>\n      </g>\n     </g>\n     <g id=\"text_30\">\n      <!-- 2000 -->\n      <g transform=\"translate(361.209537 145.346265)scale(0.1 -0.1)\">\n       <use xlink:href=\"#DejaVuSans-32\"/>\n       <use xlink:href=\"#DejaVuSans-30\" x=\"63.623047\"/>\n       <use xlink:href=\"#DejaVuSans-30\" x=\"127.246094\"/>\n       <use xlink:href=\"#DejaVuSans-30\" x=\"190.869141\"/>\n      </g>\n     </g>\n    </g>\n    <g id=\"ytick_9\">\n     <g id=\"line2d_13\">\n      <g>\n       <use xlink:href=\"#m94ead6b9e0\" x=\"354.209537\" y=\"102.424435\" style=\"stroke: #000000; stroke-width: 0.8\"/>\n      </g>\n     </g>\n     <g id=\"text_31\">\n      <!-- 2500 -->\n      <g transform=\"translate(361.209537 106.223654)scale(0.1 -0.1)\">\n       <use xlink:href=\"#DejaVuSans-32\"/>\n       <use xlink:href=\"#DejaVuSans-35\" x=\"63.623047\"/>\n       <use xlink:href=\"#DejaVuSans-30\" x=\"127.246094\"/>\n       <use xlink:href=\"#DejaVuSans-30\" x=\"190.869141\"/>\n      </g>\n     </g>\n    </g>\n    <g id=\"ytick_10\">\n     <g id=\"line2d_14\">\n      <g>\n       <use xlink:href=\"#m94ead6b9e0\" x=\"354.209537\" y=\"63.301824\" style=\"stroke: #000000; stroke-width: 0.8\"/>\n      </g>\n     </g>\n     <g id=\"text_32\">\n      <!-- 3000 -->\n      <g transform=\"translate(361.209537 67.101043)scale(0.1 -0.1)\">\n       <use xlink:href=\"#DejaVuSans-33\"/>\n       <use xlink:href=\"#DejaVuSans-30\" x=\"63.623047\"/>\n       <use xlink:href=\"#DejaVuSans-30\" x=\"127.246094\"/>\n       <use xlink:href=\"#DejaVuSans-30\" x=\"190.869141\"/>\n      </g>\n     </g>\n    </g>\n    <g id=\"ytick_11\">\n     <g id=\"line2d_15\">\n      <g>\n       <use xlink:href=\"#m94ead6b9e0\" x=\"354.209537\" y=\"24.179213\" style=\"stroke: #000000; stroke-width: 0.8\"/>\n      </g>\n     </g>\n     <g id=\"text_33\">\n      <!-- 3500 -->\n      <g transform=\"translate(361.209537 27.978432)scale(0.1 -0.1)\">\n       <use xlink:href=\"#DejaVuSans-33\"/>\n       <use xlink:href=\"#DejaVuSans-35\" x=\"63.623047\"/>\n       <use xlink:href=\"#DejaVuSans-30\" x=\"127.246094\"/>\n       <use xlink:href=\"#DejaVuSans-30\" x=\"190.869141\"/>\n      </g>\n     </g>\n    </g>\n   </g>\n   <g id=\"LineCollection_1\"/>\n   <g id=\"patch_9\">\n    <path d=\"M 340.903937 273.312 \nL 347.556737 273.312 \nL 354.209537 273.312 \nL 354.209537 7.2 \nL 347.556737 7.2 \nL 340.903937 7.2 \nL 340.903937 273.312 \nz\n\" style=\"fill: none; stroke: #000000; stroke-width: 0.8; stroke-linejoin: miter; stroke-linecap: square\"/>\n   </g>\n  </g>\n </g>\n <defs>\n  <clipPath id=\"p721f8f5976\">\n   <rect x=\"56.935937\" y=\"7.2\" width=\"266.112\" height=\"266.112\"/>\n  </clipPath>\n  <clipPath id=\"p52cc617f23\">\n   <rect x=\"340.903937\" y=\"7.2\" width=\"13.3056\" height=\"266.112\"/>\n  </clipPath>\n </defs>\n</svg>\n",
      "text/plain": [
       "<Figure size 640x480 with 2 Axes>"
      ]
     },
     "metadata": {},
     "output_type": "display_data"
    }
   ],
   "source": [
    "cm = confusion_matrix(y_test, y_pred, labels=gs.classes_)\n",
    "disp = ConfusionMatrixDisplay(confusion_matrix=cm, display_labels=gs.classes_)\n",
    "disp.display_labels = encoded_labels\n",
    "disp.plot(cmap='Blues');"
   ]
  },
  {
   "cell_type": "code",
   "execution_count": 25,
   "metadata": {},
   "outputs": [
    {
     "data": {
      "text/plain": [
       "['age_ngram.joblib']"
      ]
     },
     "execution_count": 25,
     "metadata": {},
     "output_type": "execute_result"
    }
   ],
   "source": [
    "import joblib\n",
    "\n",
    "joblib.dump(gs, 'age_ngram.joblib')"
   ]
  },
  {
   "cell_type": "code",
   "execution_count": 26,
   "metadata": {},
   "outputs": [],
   "source": [
    "rmtree(cache_dir)"
   ]
  },
  {
   "cell_type": "markdown",
   "metadata": {},
   "source": [
    "### Add PoS and punctuation features"
   ]
  },
  {
   "cell_type": "code",
   "execution_count": 27,
   "metadata": {},
   "outputs": [
    {
     "data": {
      "text/html": [
       "<div>\n",
       "<style scoped>\n",
       "    .dataframe tbody tr th:only-of-type {\n",
       "        vertical-align: middle;\n",
       "    }\n",
       "\n",
       "    .dataframe tbody tr th {\n",
       "        vertical-align: top;\n",
       "    }\n",
       "\n",
       "    .dataframe thead th {\n",
       "        text-align: right;\n",
       "    }\n",
       "</style>\n",
       "<table border=\"1\" class=\"dataframe\">\n",
       "  <thead>\n",
       "    <tr style=\"text-align: right;\">\n",
       "      <th></th>\n",
       "      <th>text</th>\n",
       "      <th>gender</th>\n",
       "      <th>horoscope</th>\n",
       "      <th>job</th>\n",
       "      <th>age_group</th>\n",
       "      <th>tokenized</th>\n",
       "      <th>pos</th>\n",
       "      <th>total_punct</th>\n",
       "      <th>punct_dist</th>\n",
       "      <th>count_punct</th>\n",
       "    </tr>\n",
       "  </thead>\n",
       "  <tbody>\n",
       "    <tr>\n",
       "      <th>104759</th>\n",
       "      <td>MAGNANIMITY This is Continuation of my earlier...</td>\n",
       "      <td>male</td>\n",
       "      <td>Virgo</td>\n",
       "      <td>Student</td>\n",
       "      <td>25-34</td>\n",
       "      <td>magnanimity this is continuation of my earlier...</td>\n",
       "      <td>PROPN DET AUX NOUN ADP PRON ADJ NOUN PUNCT PRO...</td>\n",
       "      <td>17</td>\n",
       "      <td>0.016983</td>\n",
       "      <td>{'!': 0, '\"': 0, '#': 0, '$': 0, '%': 0, '&amp;': ...</td>\n",
       "    </tr>\n",
       "    <tr>\n",
       "      <th>453046</th>\n",
       "      <td>Well it does if this is posted Joker ===== \"Co...</td>\n",
       "      <td>male</td>\n",
       "      <td>Capricorn</td>\n",
       "      <td>Government</td>\n",
       "      <td>18-24</td>\n",
       "      <td>well it does if this is posted joker = = = = =...</td>\n",
       "      <td>INTJ PRON AUX SCONJ DET AUX VERB PROPN PROPN N...</td>\n",
       "      <td>50</td>\n",
       "      <td>0.173010</td>\n",
       "      <td>{'!': 2, '\"': 2, '#': 0, '$': 0, '%': 0, '&amp;': ...</td>\n",
       "    </tr>\n",
       "    <tr>\n",
       "      <th>632687</th>\n",
       "      <td>Feeling pretty crappy, still... shouldn't a co...</td>\n",
       "      <td>male</td>\n",
       "      <td>Libra</td>\n",
       "      <td>Arts</td>\n",
       "      <td>18-24</td>\n",
       "      <td>feeling pretty crappy , still ... should n't a...</td>\n",
       "      <td>VERB ADV ADJ PUNCT ADV PUNCT AUX PART DET ADJ ...</td>\n",
       "      <td>29</td>\n",
       "      <td>0.048414</td>\n",
       "      <td>{'!': 1, '\"': 2, '#': 0, '$': 0, '%': 0, '&amp;': ...</td>\n",
       "    </tr>\n",
       "    <tr>\n",
       "      <th>339210</th>\n",
       "      <td>sent via my phone while in a meeting Just a q...</td>\n",
       "      <td>male</td>\n",
       "      <td>Libra</td>\n",
       "      <td>Communications-Media</td>\n",
       "      <td>25-34</td>\n",
       "      <td>sent via my phone while in a meeting just a ...</td>\n",
       "      <td>SPACE VERB ADP PRON NOUN SCONJ ADP DET NOUN AD...</td>\n",
       "      <td>35</td>\n",
       "      <td>0.059625</td>\n",
       "      <td>{'!': 4, '\"': 4, '#': 0, '$': 0, '%': 0, '&amp;': ...</td>\n",
       "    </tr>\n",
       "    <tr>\n",
       "      <th>2998</th>\n",
       "      <td>i just found out that D is getting married in ...</td>\n",
       "      <td>female</td>\n",
       "      <td>Aquarius</td>\n",
       "      <td>indUnk</td>\n",
       "      <td>18-24</td>\n",
       "      <td>i just found out that d is getting married in ...</td>\n",
       "      <td>PRON ADV VERB ADP SCONJ PROPN AUX VERB VERB AD...</td>\n",
       "      <td>45</td>\n",
       "      <td>0.031337</td>\n",
       "      <td>{'!': 0, '\"': 0, '#': 0, '$': 0, '%': 0, '&amp;': ...</td>\n",
       "    </tr>\n",
       "  </tbody>\n",
       "</table>\n",
       "</div>"
      ],
      "text/plain": [
       "                                                     text  gender  horoscope  \\\n",
       "104759  MAGNANIMITY This is Continuation of my earlier...    male      Virgo   \n",
       "453046  Well it does if this is posted Joker ===== \"Co...    male  Capricorn   \n",
       "632687  Feeling pretty crappy, still... shouldn't a co...    male      Libra   \n",
       "339210   sent via my phone while in a meeting Just a q...    male      Libra   \n",
       "2998    i just found out that D is getting married in ...  female   Aquarius   \n",
       "\n",
       "                         job age_group  \\\n",
       "104759               Student     25-34   \n",
       "453046            Government     18-24   \n",
       "632687                  Arts     18-24   \n",
       "339210  Communications-Media     25-34   \n",
       "2998                  indUnk     18-24   \n",
       "\n",
       "                                                tokenized  \\\n",
       "104759  magnanimity this is continuation of my earlier...   \n",
       "453046  well it does if this is posted joker = = = = =...   \n",
       "632687  feeling pretty crappy , still ... should n't a...   \n",
       "339210    sent via my phone while in a meeting just a ...   \n",
       "2998    i just found out that d is getting married in ...   \n",
       "\n",
       "                                                      pos  total_punct  \\\n",
       "104759  PROPN DET AUX NOUN ADP PRON ADJ NOUN PUNCT PRO...           17   \n",
       "453046  INTJ PRON AUX SCONJ DET AUX VERB PROPN PROPN N...           50   \n",
       "632687  VERB ADV ADJ PUNCT ADV PUNCT AUX PART DET ADJ ...           29   \n",
       "339210  SPACE VERB ADP PRON NOUN SCONJ ADP DET NOUN AD...           35   \n",
       "2998    PRON ADV VERB ADP SCONJ PROPN AUX VERB VERB AD...           45   \n",
       "\n",
       "        punct_dist                                        count_punct  \n",
       "104759    0.016983  {'!': 0, '\"': 0, '#': 0, '$': 0, '%': 0, '&': ...  \n",
       "453046    0.173010  {'!': 2, '\"': 2, '#': 0, '$': 0, '%': 0, '&': ...  \n",
       "632687    0.048414  {'!': 1, '\"': 2, '#': 0, '$': 0, '%': 0, '&': ...  \n",
       "339210    0.059625  {'!': 4, '\"': 4, '#': 0, '$': 0, '%': 0, '&': ...  \n",
       "2998      0.031337  {'!': 0, '\"': 0, '#': 0, '$': 0, '%': 0, '&': ...  "
      ]
     },
     "execution_count": 27,
     "metadata": {},
     "output_type": "execute_result"
    }
   ],
   "source": [
    "DATA_DIR = '../../datasets/tokenized'\n",
    "\n",
    "df = pd.read_csv(f'{DATA_DIR}/blog_authorship_tokenized_pos_punct_final.csv')\n",
    "df.sample(5)"
   ]
  },
  {
   "cell_type": "code",
   "execution_count": 28,
   "metadata": {},
   "outputs": [
    {
     "data": {
      "text/html": [
       "<div>\n",
       "<style scoped>\n",
       "    .dataframe tbody tr th:only-of-type {\n",
       "        vertical-align: middle;\n",
       "    }\n",
       "\n",
       "    .dataframe tbody tr th {\n",
       "        vertical-align: top;\n",
       "    }\n",
       "\n",
       "    .dataframe thead th {\n",
       "        text-align: right;\n",
       "    }\n",
       "</style>\n",
       "<table border=\"1\" class=\"dataframe\">\n",
       "  <thead>\n",
       "    <tr style=\"text-align: right;\">\n",
       "      <th></th>\n",
       "      <th>text</th>\n",
       "      <th>age_group</th>\n",
       "      <th>pos</th>\n",
       "      <th>total_punct</th>\n",
       "      <th>punct_dist</th>\n",
       "      <th>count_punct</th>\n",
       "    </tr>\n",
       "  </thead>\n",
       "  <tbody>\n",
       "    <tr>\n",
       "      <th>1429</th>\n",
       "      <td>Good day turned bad turned good. Thats the way...</td>\n",
       "      <td>&lt;18</td>\n",
       "      <td>ADJ NOUN VERB ADJ VERB ADJ PUNCT DET VERB DET ...</td>\n",
       "      <td>30</td>\n",
       "      <td>0.052632</td>\n",
       "      <td>{'!': 0, '\"': 2, '#': 0, '$': 0, '%': 0, '&amp;': ...</td>\n",
       "    </tr>\n",
       "    <tr>\n",
       "      <th>558720</th>\n",
       "      <td>You may think I'm a bit weird but I've never p...</td>\n",
       "      <td>25-34</td>\n",
       "      <td>PRON AUX VERB PRON AUX DET NOUN ADJ CCONJ PRON...</td>\n",
       "      <td>110</td>\n",
       "      <td>0.049909</td>\n",
       "      <td>{'!': 0, '\"': 0, '#': 0, '$': 2, '%': 0, '&amp;': ...</td>\n",
       "    </tr>\n",
       "    <tr>\n",
       "      <th>626294</th>\n",
       "      <td>My good friend Holly called me from Melbourne ...</td>\n",
       "      <td>18-24</td>\n",
       "      <td>PRON ADJ NOUN PROPN VERB PRON ADP PROPN ADJ NO...</td>\n",
       "      <td>40</td>\n",
       "      <td>0.027082</td>\n",
       "      <td>{'!': 0, '\"': 2, '#': 0, '$': 0, '%': 0, '&amp;': ...</td>\n",
       "    </tr>\n",
       "    <tr>\n",
       "      <th>562614</th>\n",
       "      <td>Recent Events Shit on my end has been kinda up...</td>\n",
       "      <td>&gt;35</td>\n",
       "      <td>ADJ NOUN INTJ ADP PRON NOUN AUX AUX ADV ADV CC...</td>\n",
       "      <td>119</td>\n",
       "      <td>0.041034</td>\n",
       "      <td>{'!': 7, '\"': 2, '#': 0, '$': 0, '%': 0, '&amp;': ...</td>\n",
       "    </tr>\n",
       "    <tr>\n",
       "      <th>535375</th>\n",
       "      <td>According to a new study about the life of chu...</td>\n",
       "      <td>&gt;35</td>\n",
       "      <td>VERB ADP DET ADJ NOUN ADP DET NOUN ADP NOUN AD...</td>\n",
       "      <td>44</td>\n",
       "      <td>0.045314</td>\n",
       "      <td>{'!': 0, '\"': 4, '#': 0, '$': 0, '%': 0, '&amp;': ...</td>\n",
       "    </tr>\n",
       "  </tbody>\n",
       "</table>\n",
       "</div>"
      ],
      "text/plain": [
       "                                                     text age_group  \\\n",
       "1429    Good day turned bad turned good. Thats the way...       <18   \n",
       "558720  You may think I'm a bit weird but I've never p...     25-34   \n",
       "626294  My good friend Holly called me from Melbourne ...     18-24   \n",
       "562614  Recent Events Shit on my end has been kinda up...       >35   \n",
       "535375  According to a new study about the life of chu...       >35   \n",
       "\n",
       "                                                      pos  total_punct  \\\n",
       "1429    ADJ NOUN VERB ADJ VERB ADJ PUNCT DET VERB DET ...           30   \n",
       "558720  PRON AUX VERB PRON AUX DET NOUN ADJ CCONJ PRON...          110   \n",
       "626294  PRON ADJ NOUN PROPN VERB PRON ADP PROPN ADJ NO...           40   \n",
       "562614  ADJ NOUN INTJ ADP PRON NOUN AUX AUX ADV ADV CC...          119   \n",
       "535375  VERB ADP DET ADJ NOUN ADP DET NOUN ADP NOUN AD...           44   \n",
       "\n",
       "        punct_dist                                        count_punct  \n",
       "1429      0.052632  {'!': 0, '\"': 2, '#': 0, '$': 0, '%': 0, '&': ...  \n",
       "558720    0.049909  {'!': 0, '\"': 0, '#': 0, '$': 2, '%': 0, '&': ...  \n",
       "626294    0.027082  {'!': 0, '\"': 2, '#': 0, '$': 0, '%': 0, '&': ...  \n",
       "562614    0.041034  {'!': 7, '\"': 2, '#': 0, '$': 0, '%': 0, '&': ...  \n",
       "535375    0.045314  {'!': 0, '\"': 4, '#': 0, '$': 0, '%': 0, '&': ...  "
      ]
     },
     "execution_count": 28,
     "metadata": {},
     "output_type": "execute_result"
    }
   ],
   "source": [
    "df_ = df.drop(['horoscope', 'job', 'gender', 'tokenized'], axis=1)\n",
    "df_ = df_.groupby('age_group').sample(25000)\n",
    "df_.sample(5)"
   ]
  },
  {
   "cell_type": "code",
   "execution_count": 29,
   "metadata": {},
   "outputs": [
    {
     "data": {
      "text/plain": [
       "18-24    25000\n",
       "25-34    25000\n",
       "<18      25000\n",
       ">35      25000\n",
       "Name: age_group, dtype: int64"
      ]
     },
     "execution_count": 29,
     "metadata": {},
     "output_type": "execute_result"
    }
   ],
   "source": [
    "df_['age_group'].value_counts(dropna=False)"
   ]
  },
  {
   "cell_type": "code",
   "execution_count": 30,
   "metadata": {},
   "outputs": [
    {
     "data": {
      "text/plain": [
       "{'18-24': 0, '25-34': 1, '<18': 2, '>35': 3}"
      ]
     },
     "execution_count": 30,
     "metadata": {},
     "output_type": "execute_result"
    }
   ],
   "source": [
    "enc = LabelEncoder()\n",
    "enc.fit(df_['age_group'])\n",
    "encoded_labels = dict(zip(enc.classes_, enc.transform(enc.classes_))) # will use that in the cm later\n",
    "df_['age_group'] = enc.transform(df_['age_group'])\n",
    "encoded_labels"
   ]
  },
  {
   "cell_type": "code",
   "execution_count": 31,
   "metadata": {},
   "outputs": [
    {
     "data": {
      "text/plain": [
       "((80000, 5), (20000, 5), (80000,), (20000,))"
      ]
     },
     "execution_count": 31,
     "metadata": {},
     "output_type": "execute_result"
    }
   ],
   "source": [
    "X = df_.drop('age_group', axis=1)\n",
    "y = df_['age_group']\n",
    "\n",
    "X_train, X_test, y_train, y_test = train_test_split(X, y, test_size=0.2, random_state=97)\n",
    "X_train.shape, X_test.shape, y_train.shape, y_test.shape"
   ]
  },
  {
   "cell_type": "code",
   "execution_count": 32,
   "metadata": {},
   "outputs": [],
   "source": [
    "class ItemSelector(BaseEstimator, TransformerMixin):\n",
    "    def __init__(self, key):\n",
    "        self.key = key\n",
    "\n",
    "    def fit(self, x, y=None):\n",
    "        return self\n",
    "\n",
    "    def transform(self, data_dict):\n",
    "        return data_dict[self.key]\n",
    "\n",
    "\n",
    "class RowIterator(TransformerMixin):\n",
    "    \"\"\" Prepare Series for DictVectorizer \"\"\"\n",
    "    def fit(self, X, y=None):\n",
    "        return self\n",
    "\n",
    "    def transform(self, X):\n",
    "        from ast import literal_eval\n",
    "        return X.apply(literal_eval)"
   ]
  },
  {
   "cell_type": "code",
   "execution_count": 33,
   "metadata": {},
   "outputs": [],
   "source": [
    "from sklearn.pipeline import make_pipeline\n",
    "\n",
    "word_pipe = Pipeline([\n",
    "    ('selector', ItemSelector(key='text')),\n",
    "    ('vect', TfidfVectorizer(analyzer='word'))\n",
    "])\n",
    "\n",
    "pos_pipe = Pipeline([\n",
    "    ('selector', ItemSelector(key='pos')),\n",
    "    ('vect', TfidfVectorizer(analyzer='word'))\n",
    "])\n",
    "   \n",
    "num_pipe = Pipeline([\n",
    "    ('selector', ItemSelector(key=['total_punct', 'punct_dist']))\n",
    "])\n",
    "\n",
    "punct_pipe = Pipeline([\n",
    "    ('selector', ItemSelector(key='count_punct')),\n",
    "    ('iter', RowIterator()),\n",
    "    ('vect', DictVectorizer())\n",
    "])\n",
    "\n",
    "pipe = Pipeline([\n",
    "    ('feats', FeatureUnion([  \n",
    "            ('word', word_pipe),\n",
    "            ('pos', pos_pipe),\n",
    "            ('num', num_pipe),\n",
    "            ('punct', punct_pipe)\n",
    "        ],\n",
    "    )),\n",
    "    ('clf', LinearSVC(random_state=97, class_weight='balanced'))\n",
    "])"
   ]
  },
  {
   "cell_type": "code",
   "execution_count": 34,
   "metadata": {},
   "outputs": [],
   "source": [
    "param_grid = {\n",
    "    'feats__word__vect__ngram_range': [(1, 2), (1, 3)],\n",
    "    'feats__pos__vect__ngram_range': [(1, 2), (1, 3)],\n",
    "    'clf__C': [10**x for x in range(-2, 2)],\n",
    "}"
   ]
  },
  {
   "cell_type": "code",
   "execution_count": 35,
   "metadata": {},
   "outputs": [
    {
     "name": "stdout",
     "output_type": "stream",
     "text": [
      "Fitting 5 folds for each of 16 candidates, totalling 80 fits\n",
      "{'clf__C': 1, 'feats__pos__vect__ngram_range': (1, 2), 'feats__word__vect__ngram_range': (1, 3)}\n"
     ]
    },
    {
     "name": "stderr",
     "output_type": "stream",
     "text": [
      "c:\\Users\\dimboump\\workspace\\clips-internship\\venv\\lib\\site-packages\\sklearn\\svm\\_base.py:1225: ConvergenceWarning: Liblinear failed to converge, increase the number of iterations.\n",
      "  warnings.warn(\n"
     ]
    }
   ],
   "source": [
    "gs = GridSearchCV(pipe, param_grid, cv=5, scoring='f1_macro', n_jobs=-1, refit=True, verbose=5)\n",
    " \n",
    "gs.fit(X_train, y_train)\n",
    "print(gs.best_params_)"
   ]
  },
  {
   "cell_type": "code",
   "execution_count": 36,
   "metadata": {},
   "outputs": [
    {
     "name": "stdout",
     "output_type": "stream",
     "text": [
      "              precision    recall  f1-score   support\n",
      "\n",
      "           0       0.41      0.12      0.19      4987\n",
      "           1       0.46      0.10      0.16      5021\n",
      "           2       0.71      0.47      0.57      4949\n",
      "           3       0.32      0.89      0.47      5043\n",
      "\n",
      "    accuracy                           0.40     20000\n",
      "   macro avg       0.47      0.40      0.35     20000\n",
      "weighted avg       0.47      0.40      0.35     20000\n",
      "\n"
     ]
    }
   ],
   "source": [
    "y_pred = gs.predict(X_test)\n",
    "print(classification_report(y_test, y_pred))"
   ]
  },
  {
   "cell_type": "code",
   "execution_count": 37,
   "metadata": {},
   "outputs": [
    {
     "data": {
      "image/svg+xml": "<?xml version=\"1.0\" encoding=\"utf-8\" standalone=\"no\"?>\n<!DOCTYPE svg PUBLIC \"-//W3C//DTD SVG 1.1//EN\"\n  \"http://www.w3.org/Graphics/SVG/1.1/DTD/svg11.dtd\">\n<svg xmlns:xlink=\"http://www.w3.org/1999/xlink\" width=\"393.859537pt\" height=\"310.86825pt\" viewBox=\"0 0 393.859537 310.86825\" xmlns=\"http://www.w3.org/2000/svg\" version=\"1.1\">\n <metadata>\n  <rdf:RDF xmlns:dc=\"http://purl.org/dc/elements/1.1/\" xmlns:cc=\"http://creativecommons.org/ns#\" xmlns:rdf=\"http://www.w3.org/1999/02/22-rdf-syntax-ns#\">\n   <cc:Work>\n    <dc:type rdf:resource=\"http://purl.org/dc/dcmitype/StillImage\"/>\n    <dc:date>2022-11-09T23:39:29.951717</dc:date>\n    <dc:format>image/svg+xml</dc:format>\n    <dc:creator>\n     <cc:Agent>\n      <dc:title>Matplotlib v3.5.3, https://matplotlib.org/</dc:title>\n     </cc:Agent>\n    </dc:creator>\n   </cc:Work>\n  </rdf:RDF>\n </metadata>\n <defs>\n  <style type=\"text/css\">*{stroke-linejoin: round; stroke-linecap: butt}</style>\n </defs>\n <g id=\"figure_1\">\n  <g id=\"patch_1\">\n   <path d=\"M 0 310.86825 \nL 393.859537 310.86825 \nL 393.859537 0 \nL 0 0 \nz\n\" style=\"fill: #ffffff\"/>\n  </g>\n  <g id=\"axes_1\">\n   <g id=\"patch_2\">\n    <path d=\"M 56.935937 273.312 \nL 323.047937 273.312 \nL 323.047937 7.2 \nL 56.935937 7.2 \nz\n\" style=\"fill: #ffffff\"/>\n   </g>\n   <g clip-path=\"url(#p1a1bfd3cc5)\">\n    <image xlink:href=\"data:image/png;base64,\niVBORw0KGgoAAAANSUhEUgAAAXIAAAFyCAYAAADoJFEJAAAFl0lEQVR4nO3WwUlDQQBFUaOJhmwES7AIW3Llxqrc2ow9uFTBaDDEIoQ/XOecCh7DcGdWH1/H0xn8Yxfnq9ETpnJz9zB6wnTORw8A4G+EHCBOyAHihBwgTsgB4oQcIE7IAeKEHCBOyAHihBwgTsgB4oQcIE7IAeKEHCBOyAHihBwgTsgB4oQcIE7IAeKEHCBOyAHihBwgTsgB4oQcIE7IAeKEHCBOyAHihBwgTsgB4oQcIE7IAeKEHCBOyAHihBwgTsgB4oQcIE7IAeKEHCBOyAHihBwgTsgB4oQcIE7IAeKEHCBOyAHihBwgTsgB4oQcIE7IAeKEHCBOyAHihBwgTsgB4oQcIE7IAeKEHCBOyAHihBwgTsgB4oQcIE7IAeKEHCBOyAHihBwgTsgB4oQcIE7IAeKEHCBOyAHihBwgTsgB4oQcIE7IAeKEHCBOyAHihBwgTsgB4oQcIE7IAeKEHCBOyAHihBwgTsgB4oQcIE7IAeKEHCBOyAHihBwgTsgB4oQcIE7IAeKEHCBu9bY/nkaPmMnl2tu5tMfnl9ETpnK1cceX5sQB4oQcIE7IAeKEHCBOyAHihBwgTsgB4oQcIE7IAeKEHCBOyAHihBwgTsgB4oQcIE7IAeKEHCBOyAHihBwgTsgB4oQcIE7IAeKEHCBOyAHihBwgTsgB4oQcIE7IAeKEHCBOyAHihBwgTsgB4oQcIE7IAeKEHCBOyAHihBwgTsgB4oQcIE7IAeKEHCBOyAHihBwgTsgB4oQcIE7IAeKEHCBOyAHihBwgTsgB4oQcIE7IAeKEHCBOyAHihBwgTsgB4oQcIE7IAeKEHCBOyAHihBwgTsgB4oQcIE7IAeKEHCBOyAHihBwgTsgB4oQcIE7IAeKEHCBOyAHihBwgTsgB4oQcIE7IAeKEHCBOyAHihBwgTsgB4oQcIE7IAeKEHCBOyAHihBwgTsgB4oQcIE7IAeKEHCBOyAHihBwgTsgB4lav74fT6BEz+Tk67qVtN/4rS7q9fxo9YTpuOECckAPECTlAnJADxAk5QJyQA8QJOUCckAPECTlAnJADxAk5QJyQA8QJOUCckAPECTlAnJADxAk5QJyQA8QJOUCckAPECTlAnJADxAk5QJyQA8QJOUCckAPECTlAnJADxAk5QJyQA8QJOUCckAPECTlAnJADxAk5QJyQA8QJOUCckAPECTlAnJADxAk5QJyQA8QJOUCckAPECTlAnJADxAk5QJyQA8QJOUCckAPECTlAnJADxAk5QJyQA8QJOUCckAPECTlAnJADxAk5QJyQA8QJOUCckAPECTlAnJADxAk5QJyQA8QJOUCckAPECTlAnJADxAk5QJyQA8QJOUCckAPECTlAnJADxAk5QJyQA8QJOUCckAPECTlAnJADxAk5QJyQA8QJOUCckAPECTlAnJADxAk5QJyQA8QJOUCckAPErfeH4+gNU7nebUZPmM7ntzu+pO1uO3rCdPzIAeKEHCBOyAHihBwgTsgB4oQcIE7IAeKEHCBOyAHihBwgTsgB4oQcIE7IAeKEHCBOyAHihBwgTsgB4oQcIE7IAeKEHCBOyAHihBwgTsgB4oQcIE7IAeKEHCBOyAHihBwgTsgB4oQcIE7IAeKEHCBOyAHihBwgTsgB4oQcIE7IAeKEHCBOyAHihBwgTsgB4oQcIE7IAeKEHCBOyAHihBwgTsgB4oQcIE7IAeKEHCBOyAHihBwgTsgB4oQcIE7IAeKEHCBOyAHihBwgTsgB4oQcIE7IAeKEHCBOyAHihBwgTsgB4oQcIE7IAeKEHCBOyAHihBwgTsgB4oQcIE7IAeKEHCBOyAHihBwgTsgB4oQcIE7IAeKEHCBOyAHihBwgTsgB4oQcIE7IAeKEHCBOyAHihBwgTsgB4oQcIE7IAeJ+AdeRG5tWXfYSAAAAAElFTkSuQmCC\" id=\"image042b32898e\" transform=\"scale(1 -1)translate(0 -266.4)\" x=\"56.935937\" y=\"-6.912\" width=\"266.4\" height=\"266.4\"/>\n   </g>\n   <g id=\"matplotlib.axis_1\">\n    <g id=\"xtick_1\">\n     <g id=\"line2d_1\">\n      <defs>\n       <path id=\"m983e02f581\" d=\"M 0 0 \nL 0 3.5 \n\" style=\"stroke: #000000; stroke-width: 0.8\"/>\n      </defs>\n      <g>\n       <use xlink:href=\"#m983e02f581\" x=\"90.199937\" y=\"273.312\" style=\"stroke: #000000; stroke-width: 0.8\"/>\n      </g>\n     </g>\n     <g id=\"text_1\">\n      <!-- 18-24 -->\n      <g transform=\"translate(75.671031 287.910437)scale(0.1 -0.1)\">\n       <defs>\n        <path id=\"DejaVuSans-31\" d=\"M 794 531 \nL 1825 531 \nL 1825 4091 \nL 703 3866 \nL 703 4441 \nL 1819 4666 \nL 2450 4666 \nL 2450 531 \nL 3481 531 \nL 3481 0 \nL 794 0 \nL 794 531 \nz\n\" transform=\"scale(0.015625)\"/>\n        <path id=\"DejaVuSans-38\" d=\"M 2034 2216 \nQ 1584 2216 1326 1975 \nQ 1069 1734 1069 1313 \nQ 1069 891 1326 650 \nQ 1584 409 2034 409 \nQ 2484 409 2743 651 \nQ 3003 894 3003 1313 \nQ 3003 1734 2745 1975 \nQ 2488 2216 2034 2216 \nz\nM 1403 2484 \nQ 997 2584 770 2862 \nQ 544 3141 544 3541 \nQ 544 4100 942 4425 \nQ 1341 4750 2034 4750 \nQ 2731 4750 3128 4425 \nQ 3525 4100 3525 3541 \nQ 3525 3141 3298 2862 \nQ 3072 2584 2669 2484 \nQ 3125 2378 3379 2068 \nQ 3634 1759 3634 1313 \nQ 3634 634 3220 271 \nQ 2806 -91 2034 -91 \nQ 1263 -91 848 271 \nQ 434 634 434 1313 \nQ 434 1759 690 2068 \nQ 947 2378 1403 2484 \nz\nM 1172 3481 \nQ 1172 3119 1398 2916 \nQ 1625 2713 2034 2713 \nQ 2441 2713 2670 2916 \nQ 2900 3119 2900 3481 \nQ 2900 3844 2670 4047 \nQ 2441 4250 2034 4250 \nQ 1625 4250 1398 4047 \nQ 1172 3844 1172 3481 \nz\n\" transform=\"scale(0.015625)\"/>\n        <path id=\"DejaVuSans-2d\" d=\"M 313 2009 \nL 1997 2009 \nL 1997 1497 \nL 313 1497 \nL 313 2009 \nz\n\" transform=\"scale(0.015625)\"/>\n        <path id=\"DejaVuSans-32\" d=\"M 1228 531 \nL 3431 531 \nL 3431 0 \nL 469 0 \nL 469 531 \nQ 828 903 1448 1529 \nQ 2069 2156 2228 2338 \nQ 2531 2678 2651 2914 \nQ 2772 3150 2772 3378 \nQ 2772 3750 2511 3984 \nQ 2250 4219 1831 4219 \nQ 1534 4219 1204 4116 \nQ 875 4013 500 3803 \nL 500 4441 \nQ 881 4594 1212 4672 \nQ 1544 4750 1819 4750 \nQ 2544 4750 2975 4387 \nQ 3406 4025 3406 3419 \nQ 3406 3131 3298 2873 \nQ 3191 2616 2906 2266 \nQ 2828 2175 2409 1742 \nQ 1991 1309 1228 531 \nz\n\" transform=\"scale(0.015625)\"/>\n        <path id=\"DejaVuSans-34\" d=\"M 2419 4116 \nL 825 1625 \nL 2419 1625 \nL 2419 4116 \nz\nM 2253 4666 \nL 3047 4666 \nL 3047 1625 \nL 3713 1625 \nL 3713 1100 \nL 3047 1100 \nL 3047 0 \nL 2419 0 \nL 2419 1100 \nL 313 1100 \nL 313 1709 \nL 2253 4666 \nz\n\" transform=\"scale(0.015625)\"/>\n       </defs>\n       <use xlink:href=\"#DejaVuSans-31\"/>\n       <use xlink:href=\"#DejaVuSans-38\" x=\"63.623047\"/>\n       <use xlink:href=\"#DejaVuSans-2d\" x=\"127.246094\"/>\n       <use xlink:href=\"#DejaVuSans-32\" x=\"163.330078\"/>\n       <use xlink:href=\"#DejaVuSans-34\" x=\"226.953125\"/>\n      </g>\n     </g>\n    </g>\n    <g id=\"xtick_2\">\n     <g id=\"line2d_2\">\n      <g>\n       <use xlink:href=\"#m983e02f581\" x=\"156.727937\" y=\"273.312\" style=\"stroke: #000000; stroke-width: 0.8\"/>\n      </g>\n     </g>\n     <g id=\"text_2\">\n      <!-- 25-34 -->\n      <g transform=\"translate(142.199031 287.910437)scale(0.1 -0.1)\">\n       <defs>\n        <path id=\"DejaVuSans-35\" d=\"M 691 4666 \nL 3169 4666 \nL 3169 4134 \nL 1269 4134 \nL 1269 2991 \nQ 1406 3038 1543 3061 \nQ 1681 3084 1819 3084 \nQ 2600 3084 3056 2656 \nQ 3513 2228 3513 1497 \nQ 3513 744 3044 326 \nQ 2575 -91 1722 -91 \nQ 1428 -91 1123 -41 \nQ 819 9 494 109 \nL 494 744 \nQ 775 591 1075 516 \nQ 1375 441 1709 441 \nQ 2250 441 2565 725 \nQ 2881 1009 2881 1497 \nQ 2881 1984 2565 2268 \nQ 2250 2553 1709 2553 \nQ 1456 2553 1204 2497 \nQ 953 2441 691 2322 \nL 691 4666 \nz\n\" transform=\"scale(0.015625)\"/>\n        <path id=\"DejaVuSans-33\" d=\"M 2597 2516 \nQ 3050 2419 3304 2112 \nQ 3559 1806 3559 1356 \nQ 3559 666 3084 287 \nQ 2609 -91 1734 -91 \nQ 1441 -91 1130 -33 \nQ 819 25 488 141 \nL 488 750 \nQ 750 597 1062 519 \nQ 1375 441 1716 441 \nQ 2309 441 2620 675 \nQ 2931 909 2931 1356 \nQ 2931 1769 2642 2001 \nQ 2353 2234 1838 2234 \nL 1294 2234 \nL 1294 2753 \nL 1863 2753 \nQ 2328 2753 2575 2939 \nQ 2822 3125 2822 3475 \nQ 2822 3834 2567 4026 \nQ 2313 4219 1838 4219 \nQ 1578 4219 1281 4162 \nQ 984 4106 628 3988 \nL 628 4550 \nQ 988 4650 1302 4700 \nQ 1616 4750 1894 4750 \nQ 2613 4750 3031 4423 \nQ 3450 4097 3450 3541 \nQ 3450 3153 3228 2886 \nQ 3006 2619 2597 2516 \nz\n\" transform=\"scale(0.015625)\"/>\n       </defs>\n       <use xlink:href=\"#DejaVuSans-32\"/>\n       <use xlink:href=\"#DejaVuSans-35\" x=\"63.623047\"/>\n       <use xlink:href=\"#DejaVuSans-2d\" x=\"127.246094\"/>\n       <use xlink:href=\"#DejaVuSans-33\" x=\"163.330078\"/>\n       <use xlink:href=\"#DejaVuSans-34\" x=\"226.953125\"/>\n      </g>\n     </g>\n    </g>\n    <g id=\"xtick_3\">\n     <g id=\"line2d_3\">\n      <g>\n       <use xlink:href=\"#m983e02f581\" x=\"223.255937\" y=\"273.312\" style=\"stroke: #000000; stroke-width: 0.8\"/>\n      </g>\n     </g>\n     <g id=\"text_3\">\n      <!-- &lt;18 -->\n      <g transform=\"translate(212.703594 287.910437)scale(0.1 -0.1)\">\n       <defs>\n        <path id=\"DejaVuSans-3c\" d=\"M 4684 3150 \nL 1459 2003 \nL 4684 863 \nL 4684 294 \nL 678 1747 \nL 678 2266 \nL 4684 3719 \nL 4684 3150 \nz\n\" transform=\"scale(0.015625)\"/>\n       </defs>\n       <use xlink:href=\"#DejaVuSans-3c\"/>\n       <use xlink:href=\"#DejaVuSans-31\" x=\"83.789062\"/>\n       <use xlink:href=\"#DejaVuSans-38\" x=\"147.412109\"/>\n      </g>\n     </g>\n    </g>\n    <g id=\"xtick_4\">\n     <g id=\"line2d_4\">\n      <g>\n       <use xlink:href=\"#m983e02f581\" x=\"289.783937\" y=\"273.312\" style=\"stroke: #000000; stroke-width: 0.8\"/>\n      </g>\n     </g>\n     <g id=\"text_4\">\n      <!-- &gt;35 -->\n      <g transform=\"translate(279.231594 287.910437)scale(0.1 -0.1)\">\n       <defs>\n        <path id=\"DejaVuSans-3e\" d=\"M 678 3150 \nL 678 3719 \nL 4684 2266 \nL 4684 1747 \nL 678 294 \nL 678 863 \nL 3897 2003 \nL 678 3150 \nz\n\" transform=\"scale(0.015625)\"/>\n       </defs>\n       <use xlink:href=\"#DejaVuSans-3e\"/>\n       <use xlink:href=\"#DejaVuSans-33\" x=\"83.789062\"/>\n       <use xlink:href=\"#DejaVuSans-35\" x=\"147.412109\"/>\n      </g>\n     </g>\n    </g>\n    <g id=\"text_5\">\n     <!-- Predicted label -->\n     <g transform=\"translate(152.839594 301.588562)scale(0.1 -0.1)\">\n      <defs>\n       <path id=\"DejaVuSans-50\" d=\"M 1259 4147 \nL 1259 2394 \nL 2053 2394 \nQ 2494 2394 2734 2622 \nQ 2975 2850 2975 3272 \nQ 2975 3691 2734 3919 \nQ 2494 4147 2053 4147 \nL 1259 4147 \nz\nM 628 4666 \nL 2053 4666 \nQ 2838 4666 3239 4311 \nQ 3641 3956 3641 3272 \nQ 3641 2581 3239 2228 \nQ 2838 1875 2053 1875 \nL 1259 1875 \nL 1259 0 \nL 628 0 \nL 628 4666 \nz\n\" transform=\"scale(0.015625)\"/>\n       <path id=\"DejaVuSans-72\" d=\"M 2631 2963 \nQ 2534 3019 2420 3045 \nQ 2306 3072 2169 3072 \nQ 1681 3072 1420 2755 \nQ 1159 2438 1159 1844 \nL 1159 0 \nL 581 0 \nL 581 3500 \nL 1159 3500 \nL 1159 2956 \nQ 1341 3275 1631 3429 \nQ 1922 3584 2338 3584 \nQ 2397 3584 2469 3576 \nQ 2541 3569 2628 3553 \nL 2631 2963 \nz\n\" transform=\"scale(0.015625)\"/>\n       <path id=\"DejaVuSans-65\" d=\"M 3597 1894 \nL 3597 1613 \nL 953 1613 \nQ 991 1019 1311 708 \nQ 1631 397 2203 397 \nQ 2534 397 2845 478 \nQ 3156 559 3463 722 \nL 3463 178 \nQ 3153 47 2828 -22 \nQ 2503 -91 2169 -91 \nQ 1331 -91 842 396 \nQ 353 884 353 1716 \nQ 353 2575 817 3079 \nQ 1281 3584 2069 3584 \nQ 2775 3584 3186 3129 \nQ 3597 2675 3597 1894 \nz\nM 3022 2063 \nQ 3016 2534 2758 2815 \nQ 2500 3097 2075 3097 \nQ 1594 3097 1305 2825 \nQ 1016 2553 972 2059 \nL 3022 2063 \nz\n\" transform=\"scale(0.015625)\"/>\n       <path id=\"DejaVuSans-64\" d=\"M 2906 2969 \nL 2906 4863 \nL 3481 4863 \nL 3481 0 \nL 2906 0 \nL 2906 525 \nQ 2725 213 2448 61 \nQ 2172 -91 1784 -91 \nQ 1150 -91 751 415 \nQ 353 922 353 1747 \nQ 353 2572 751 3078 \nQ 1150 3584 1784 3584 \nQ 2172 3584 2448 3432 \nQ 2725 3281 2906 2969 \nz\nM 947 1747 \nQ 947 1113 1208 752 \nQ 1469 391 1925 391 \nQ 2381 391 2643 752 \nQ 2906 1113 2906 1747 \nQ 2906 2381 2643 2742 \nQ 2381 3103 1925 3103 \nQ 1469 3103 1208 2742 \nQ 947 2381 947 1747 \nz\n\" transform=\"scale(0.015625)\"/>\n       <path id=\"DejaVuSans-69\" d=\"M 603 3500 \nL 1178 3500 \nL 1178 0 \nL 603 0 \nL 603 3500 \nz\nM 603 4863 \nL 1178 4863 \nL 1178 4134 \nL 603 4134 \nL 603 4863 \nz\n\" transform=\"scale(0.015625)\"/>\n       <path id=\"DejaVuSans-63\" d=\"M 3122 3366 \nL 3122 2828 \nQ 2878 2963 2633 3030 \nQ 2388 3097 2138 3097 \nQ 1578 3097 1268 2742 \nQ 959 2388 959 1747 \nQ 959 1106 1268 751 \nQ 1578 397 2138 397 \nQ 2388 397 2633 464 \nQ 2878 531 3122 666 \nL 3122 134 \nQ 2881 22 2623 -34 \nQ 2366 -91 2075 -91 \nQ 1284 -91 818 406 \nQ 353 903 353 1747 \nQ 353 2603 823 3093 \nQ 1294 3584 2113 3584 \nQ 2378 3584 2631 3529 \nQ 2884 3475 3122 3366 \nz\n\" transform=\"scale(0.015625)\"/>\n       <path id=\"DejaVuSans-74\" d=\"M 1172 4494 \nL 1172 3500 \nL 2356 3500 \nL 2356 3053 \nL 1172 3053 \nL 1172 1153 \nQ 1172 725 1289 603 \nQ 1406 481 1766 481 \nL 2356 481 \nL 2356 0 \nL 1766 0 \nQ 1100 0 847 248 \nQ 594 497 594 1153 \nL 594 3053 \nL 172 3053 \nL 172 3500 \nL 594 3500 \nL 594 4494 \nL 1172 4494 \nz\n\" transform=\"scale(0.015625)\"/>\n       <path id=\"DejaVuSans-20\" transform=\"scale(0.015625)\"/>\n       <path id=\"DejaVuSans-6c\" d=\"M 603 4863 \nL 1178 4863 \nL 1178 0 \nL 603 0 \nL 603 4863 \nz\n\" transform=\"scale(0.015625)\"/>\n       <path id=\"DejaVuSans-61\" d=\"M 2194 1759 \nQ 1497 1759 1228 1600 \nQ 959 1441 959 1056 \nQ 959 750 1161 570 \nQ 1363 391 1709 391 \nQ 2188 391 2477 730 \nQ 2766 1069 2766 1631 \nL 2766 1759 \nL 2194 1759 \nz\nM 3341 1997 \nL 3341 0 \nL 2766 0 \nL 2766 531 \nQ 2569 213 2275 61 \nQ 1981 -91 1556 -91 \nQ 1019 -91 701 211 \nQ 384 513 384 1019 \nQ 384 1609 779 1909 \nQ 1175 2209 1959 2209 \nL 2766 2209 \nL 2766 2266 \nQ 2766 2663 2505 2880 \nQ 2244 3097 1772 3097 \nQ 1472 3097 1187 3025 \nQ 903 2953 641 2809 \nL 641 3341 \nQ 956 3463 1253 3523 \nQ 1550 3584 1831 3584 \nQ 2591 3584 2966 3190 \nQ 3341 2797 3341 1997 \nz\n\" transform=\"scale(0.015625)\"/>\n       <path id=\"DejaVuSans-62\" d=\"M 3116 1747 \nQ 3116 2381 2855 2742 \nQ 2594 3103 2138 3103 \nQ 1681 3103 1420 2742 \nQ 1159 2381 1159 1747 \nQ 1159 1113 1420 752 \nQ 1681 391 2138 391 \nQ 2594 391 2855 752 \nQ 3116 1113 3116 1747 \nz\nM 1159 2969 \nQ 1341 3281 1617 3432 \nQ 1894 3584 2278 3584 \nQ 2916 3584 3314 3078 \nQ 3713 2572 3713 1747 \nQ 3713 922 3314 415 \nQ 2916 -91 2278 -91 \nQ 1894 -91 1617 61 \nQ 1341 213 1159 525 \nL 1159 0 \nL 581 0 \nL 581 4863 \nL 1159 4863 \nL 1159 2969 \nz\n\" transform=\"scale(0.015625)\"/>\n      </defs>\n      <use xlink:href=\"#DejaVuSans-50\"/>\n      <use xlink:href=\"#DejaVuSans-72\" x=\"58.552734\"/>\n      <use xlink:href=\"#DejaVuSans-65\" x=\"97.416016\"/>\n      <use xlink:href=\"#DejaVuSans-64\" x=\"158.939453\"/>\n      <use xlink:href=\"#DejaVuSans-69\" x=\"222.416016\"/>\n      <use xlink:href=\"#DejaVuSans-63\" x=\"250.199219\"/>\n      <use xlink:href=\"#DejaVuSans-74\" x=\"305.179688\"/>\n      <use xlink:href=\"#DejaVuSans-65\" x=\"344.388672\"/>\n      <use xlink:href=\"#DejaVuSans-64\" x=\"405.912109\"/>\n      <use xlink:href=\"#DejaVuSans-20\" x=\"469.388672\"/>\n      <use xlink:href=\"#DejaVuSans-6c\" x=\"501.175781\"/>\n      <use xlink:href=\"#DejaVuSans-61\" x=\"528.958984\"/>\n      <use xlink:href=\"#DejaVuSans-62\" x=\"590.238281\"/>\n      <use xlink:href=\"#DejaVuSans-65\" x=\"653.714844\"/>\n      <use xlink:href=\"#DejaVuSans-6c\" x=\"715.238281\"/>\n     </g>\n    </g>\n   </g>\n   <g id=\"matplotlib.axis_2\">\n    <g id=\"ytick_1\">\n     <g id=\"line2d_5\">\n      <defs>\n       <path id=\"mb478a1159b\" d=\"M 0 0 \nL -3.5 0 \n\" style=\"stroke: #000000; stroke-width: 0.8\"/>\n      </defs>\n      <g>\n       <use xlink:href=\"#mb478a1159b\" x=\"56.935937\" y=\"40.464\" style=\"stroke: #000000; stroke-width: 0.8\"/>\n      </g>\n     </g>\n     <g id=\"text_6\">\n      <!-- 18-24 -->\n      <g transform=\"translate(20.878125 44.263219)scale(0.1 -0.1)\">\n       <use xlink:href=\"#DejaVuSans-31\"/>\n       <use xlink:href=\"#DejaVuSans-38\" x=\"63.623047\"/>\n       <use xlink:href=\"#DejaVuSans-2d\" x=\"127.246094\"/>\n       <use xlink:href=\"#DejaVuSans-32\" x=\"163.330078\"/>\n       <use xlink:href=\"#DejaVuSans-34\" x=\"226.953125\"/>\n      </g>\n     </g>\n    </g>\n    <g id=\"ytick_2\">\n     <g id=\"line2d_6\">\n      <g>\n       <use xlink:href=\"#mb478a1159b\" x=\"56.935937\" y=\"106.992\" style=\"stroke: #000000; stroke-width: 0.8\"/>\n      </g>\n     </g>\n     <g id=\"text_7\">\n      <!-- 25-34 -->\n      <g transform=\"translate(20.878125 110.791219)scale(0.1 -0.1)\">\n       <use xlink:href=\"#DejaVuSans-32\"/>\n       <use xlink:href=\"#DejaVuSans-35\" x=\"63.623047\"/>\n       <use xlink:href=\"#DejaVuSans-2d\" x=\"127.246094\"/>\n       <use xlink:href=\"#DejaVuSans-33\" x=\"163.330078\"/>\n       <use xlink:href=\"#DejaVuSans-34\" x=\"226.953125\"/>\n      </g>\n     </g>\n    </g>\n    <g id=\"ytick_3\">\n     <g id=\"line2d_7\">\n      <g>\n       <use xlink:href=\"#mb478a1159b\" x=\"56.935937\" y=\"173.52\" style=\"stroke: #000000; stroke-width: 0.8\"/>\n      </g>\n     </g>\n     <g id=\"text_8\">\n      <!-- &lt;18 -->\n      <g transform=\"translate(28.83125 177.319219)scale(0.1 -0.1)\">\n       <use xlink:href=\"#DejaVuSans-3c\"/>\n       <use xlink:href=\"#DejaVuSans-31\" x=\"83.789062\"/>\n       <use xlink:href=\"#DejaVuSans-38\" x=\"147.412109\"/>\n      </g>\n     </g>\n    </g>\n    <g id=\"ytick_4\">\n     <g id=\"line2d_8\">\n      <g>\n       <use xlink:href=\"#mb478a1159b\" x=\"56.935937\" y=\"240.048\" style=\"stroke: #000000; stroke-width: 0.8\"/>\n      </g>\n     </g>\n     <g id=\"text_9\">\n      <!-- &gt;35 -->\n      <g transform=\"translate(28.83125 243.847219)scale(0.1 -0.1)\">\n       <use xlink:href=\"#DejaVuSans-3e\"/>\n       <use xlink:href=\"#DejaVuSans-33\" x=\"83.789062\"/>\n       <use xlink:href=\"#DejaVuSans-35\" x=\"147.412109\"/>\n      </g>\n     </g>\n    </g>\n    <g id=\"text_10\">\n     <!-- True label -->\n     <g transform=\"translate(14.798437 164.555219)rotate(-90)scale(0.1 -0.1)\">\n      <defs>\n       <path id=\"DejaVuSans-54\" d=\"M -19 4666 \nL 3928 4666 \nL 3928 4134 \nL 2272 4134 \nL 2272 0 \nL 1638 0 \nL 1638 4134 \nL -19 4134 \nL -19 4666 \nz\n\" transform=\"scale(0.015625)\"/>\n       <path id=\"DejaVuSans-75\" d=\"M 544 1381 \nL 544 3500 \nL 1119 3500 \nL 1119 1403 \nQ 1119 906 1312 657 \nQ 1506 409 1894 409 \nQ 2359 409 2629 706 \nQ 2900 1003 2900 1516 \nL 2900 3500 \nL 3475 3500 \nL 3475 0 \nL 2900 0 \nL 2900 538 \nQ 2691 219 2414 64 \nQ 2138 -91 1772 -91 \nQ 1169 -91 856 284 \nQ 544 659 544 1381 \nz\nM 1991 3584 \nL 1991 3584 \nz\n\" transform=\"scale(0.015625)\"/>\n      </defs>\n      <use xlink:href=\"#DejaVuSans-54\"/>\n      <use xlink:href=\"#DejaVuSans-72\" x=\"46.333984\"/>\n      <use xlink:href=\"#DejaVuSans-75\" x=\"87.447266\"/>\n      <use xlink:href=\"#DejaVuSans-65\" x=\"150.826172\"/>\n      <use xlink:href=\"#DejaVuSans-20\" x=\"212.349609\"/>\n      <use xlink:href=\"#DejaVuSans-6c\" x=\"244.136719\"/>\n      <use xlink:href=\"#DejaVuSans-61\" x=\"271.919922\"/>\n      <use xlink:href=\"#DejaVuSans-62\" x=\"333.199219\"/>\n      <use xlink:href=\"#DejaVuSans-65\" x=\"396.675781\"/>\n      <use xlink:href=\"#DejaVuSans-6c\" x=\"458.199219\"/>\n     </g>\n    </g>\n   </g>\n   <g id=\"patch_3\">\n    <path d=\"M 56.935937 273.312 \nL 56.935937 7.2 \n\" style=\"fill: none; stroke: #000000; stroke-width: 0.8; stroke-linejoin: miter; stroke-linecap: square\"/>\n   </g>\n   <g id=\"patch_4\">\n    <path d=\"M 323.047937 273.312 \nL 323.047937 7.2 \n\" style=\"fill: none; stroke: #000000; stroke-width: 0.8; stroke-linejoin: miter; stroke-linecap: square\"/>\n   </g>\n   <g id=\"patch_5\">\n    <path d=\"M 56.935937 273.312 \nL 323.047937 273.312 \n\" style=\"fill: none; stroke: #000000; stroke-width: 0.8; stroke-linejoin: miter; stroke-linecap: square\"/>\n   </g>\n   <g id=\"patch_6\">\n    <path d=\"M 56.935937 7.2 \nL 323.047937 7.2 \n\" style=\"fill: none; stroke: #000000; stroke-width: 0.8; stroke-linejoin: miter; stroke-linecap: square\"/>\n   </g>\n   <g id=\"text_11\">\n    <!-- 617 -->\n    <g style=\"fill: #08306b\" transform=\"translate(80.656187 43.223375)scale(0.1 -0.1)\">\n     <defs>\n      <path id=\"DejaVuSans-36\" d=\"M 2113 2584 \nQ 1688 2584 1439 2293 \nQ 1191 2003 1191 1497 \nQ 1191 994 1439 701 \nQ 1688 409 2113 409 \nQ 2538 409 2786 701 \nQ 3034 994 3034 1497 \nQ 3034 2003 2786 2293 \nQ 2538 2584 2113 2584 \nz\nM 3366 4563 \nL 3366 3988 \nQ 3128 4100 2886 4159 \nQ 2644 4219 2406 4219 \nQ 1781 4219 1451 3797 \nQ 1122 3375 1075 2522 \nQ 1259 2794 1537 2939 \nQ 1816 3084 2150 3084 \nQ 2853 3084 3261 2657 \nQ 3669 2231 3669 1497 \nQ 3669 778 3244 343 \nQ 2819 -91 2113 -91 \nQ 1303 -91 875 529 \nQ 447 1150 447 2328 \nQ 447 3434 972 4092 \nQ 1497 4750 2381 4750 \nQ 2619 4750 2861 4703 \nQ 3103 4656 3366 4563 \nz\n\" transform=\"scale(0.015625)\"/>\n      <path id=\"DejaVuSans-37\" d=\"M 525 4666 \nL 3525 4666 \nL 3525 4397 \nL 1831 0 \nL 1172 0 \nL 2766 4134 \nL 525 4134 \nL 525 4666 \nz\n\" transform=\"scale(0.015625)\"/>\n     </defs>\n     <use xlink:href=\"#DejaVuSans-36\"/>\n     <use xlink:href=\"#DejaVuSans-31\" x=\"63.623047\"/>\n     <use xlink:href=\"#DejaVuSans-37\" x=\"127.246094\"/>\n    </g>\n   </g>\n   <g id=\"text_12\">\n    <!-- 279 -->\n    <g style=\"fill: #08306b\" transform=\"translate(147.184188 43.223375)scale(0.1 -0.1)\">\n     <defs>\n      <path id=\"DejaVuSans-39\" d=\"M 703 97 \nL 703 672 \nQ 941 559 1184 500 \nQ 1428 441 1663 441 \nQ 2288 441 2617 861 \nQ 2947 1281 2994 2138 \nQ 2813 1869 2534 1725 \nQ 2256 1581 1919 1581 \nQ 1219 1581 811 2004 \nQ 403 2428 403 3163 \nQ 403 3881 828 4315 \nQ 1253 4750 1959 4750 \nQ 2769 4750 3195 4129 \nQ 3622 3509 3622 2328 \nQ 3622 1225 3098 567 \nQ 2575 -91 1691 -91 \nQ 1453 -91 1209 -44 \nQ 966 3 703 97 \nz\nM 1959 2075 \nQ 2384 2075 2632 2365 \nQ 2881 2656 2881 3163 \nQ 2881 3666 2632 3958 \nQ 2384 4250 1959 4250 \nQ 1534 4250 1286 3958 \nQ 1038 3666 1038 3163 \nQ 1038 2656 1286 2365 \nQ 1534 2075 1959 2075 \nz\n\" transform=\"scale(0.015625)\"/>\n     </defs>\n     <use xlink:href=\"#DejaVuSans-32\"/>\n     <use xlink:href=\"#DejaVuSans-37\" x=\"63.623047\"/>\n     <use xlink:href=\"#DejaVuSans-39\" x=\"127.246094\"/>\n    </g>\n   </g>\n   <g id=\"text_13\">\n    <!-- 502 -->\n    <g style=\"fill: #08306b\" transform=\"translate(213.712187 43.223375)scale(0.1 -0.1)\">\n     <defs>\n      <path id=\"DejaVuSans-30\" d=\"M 2034 4250 \nQ 1547 4250 1301 3770 \nQ 1056 3291 1056 2328 \nQ 1056 1369 1301 889 \nQ 1547 409 2034 409 \nQ 2525 409 2770 889 \nQ 3016 1369 3016 2328 \nQ 3016 3291 2770 3770 \nQ 2525 4250 2034 4250 \nz\nM 2034 4750 \nQ 2819 4750 3233 4129 \nQ 3647 3509 3647 2328 \nQ 3647 1150 3233 529 \nQ 2819 -91 2034 -91 \nQ 1250 -91 836 529 \nQ 422 1150 422 2328 \nQ 422 3509 836 4129 \nQ 1250 4750 2034 4750 \nz\n\" transform=\"scale(0.015625)\"/>\n     </defs>\n     <use xlink:href=\"#DejaVuSans-35\"/>\n     <use xlink:href=\"#DejaVuSans-30\" x=\"63.623047\"/>\n     <use xlink:href=\"#DejaVuSans-32\" x=\"127.246094\"/>\n    </g>\n   </g>\n   <g id=\"text_14\">\n    <!-- 3589 -->\n    <g style=\"fill: #f7fbff\" transform=\"translate(277.058937 43.223375)scale(0.1 -0.1)\">\n     <use xlink:href=\"#DejaVuSans-33\"/>\n     <use xlink:href=\"#DejaVuSans-35\" x=\"63.623047\"/>\n     <use xlink:href=\"#DejaVuSans-38\" x=\"127.246094\"/>\n     <use xlink:href=\"#DejaVuSans-39\" x=\"190.869141\"/>\n    </g>\n   </g>\n   <g id=\"text_15\">\n    <!-- 420 -->\n    <g style=\"fill: #08306b\" transform=\"translate(80.656187 109.751375)scale(0.1 -0.1)\">\n     <use xlink:href=\"#DejaVuSans-34\"/>\n     <use xlink:href=\"#DejaVuSans-32\" x=\"63.623047\"/>\n     <use xlink:href=\"#DejaVuSans-30\" x=\"127.246094\"/>\n    </g>\n   </g>\n   <g id=\"text_16\">\n    <!-- 502 -->\n    <g style=\"fill: #08306b\" transform=\"translate(147.184188 109.751375)scale(0.1 -0.1)\">\n     <use xlink:href=\"#DejaVuSans-35\"/>\n     <use xlink:href=\"#DejaVuSans-30\" x=\"63.623047\"/>\n     <use xlink:href=\"#DejaVuSans-32\" x=\"127.246094\"/>\n    </g>\n   </g>\n   <g id=\"text_17\">\n    <!-- 331 -->\n    <g style=\"fill: #08306b\" transform=\"translate(213.712187 109.751375)scale(0.1 -0.1)\">\n     <use xlink:href=\"#DejaVuSans-33\"/>\n     <use xlink:href=\"#DejaVuSans-33\" x=\"63.623047\"/>\n     <use xlink:href=\"#DejaVuSans-31\" x=\"127.246094\"/>\n    </g>\n   </g>\n   <g id=\"text_18\">\n    <!-- 3768 -->\n    <g style=\"fill: #f7fbff\" transform=\"translate(277.058937 109.751375)scale(0.1 -0.1)\">\n     <use xlink:href=\"#DejaVuSans-33\"/>\n     <use xlink:href=\"#DejaVuSans-37\" x=\"63.623047\"/>\n     <use xlink:href=\"#DejaVuSans-36\" x=\"127.246094\"/>\n     <use xlink:href=\"#DejaVuSans-38\" x=\"190.869141\"/>\n    </g>\n   </g>\n   <g id=\"text_19\">\n    <!-- 255 -->\n    <g style=\"fill: #08306b\" transform=\"translate(80.656187 176.279375)scale(0.1 -0.1)\">\n     <use xlink:href=\"#DejaVuSans-32\"/>\n     <use xlink:href=\"#DejaVuSans-35\" x=\"63.623047\"/>\n     <use xlink:href=\"#DejaVuSans-35\" x=\"127.246094\"/>\n    </g>\n   </g>\n   <g id=\"text_20\">\n    <!-- 119 -->\n    <g style=\"fill: #08306b\" transform=\"translate(147.184188 176.279375)scale(0.1 -0.1)\">\n     <use xlink:href=\"#DejaVuSans-31\"/>\n     <use xlink:href=\"#DejaVuSans-31\" x=\"63.623047\"/>\n     <use xlink:href=\"#DejaVuSans-39\" x=\"127.246094\"/>\n    </g>\n   </g>\n   <g id=\"text_21\">\n    <!-- 2338 -->\n    <g style=\"fill: #f7fbff\" transform=\"translate(210.530937 176.279375)scale(0.1 -0.1)\">\n     <use xlink:href=\"#DejaVuSans-32\"/>\n     <use xlink:href=\"#DejaVuSans-33\" x=\"63.623047\"/>\n     <use xlink:href=\"#DejaVuSans-33\" x=\"127.246094\"/>\n     <use xlink:href=\"#DejaVuSans-38\" x=\"190.869141\"/>\n    </g>\n   </g>\n   <g id=\"text_22\">\n    <!-- 2237 -->\n    <g style=\"fill: #08306b\" transform=\"translate(277.058937 176.279375)scale(0.1 -0.1)\">\n     <use xlink:href=\"#DejaVuSans-32\"/>\n     <use xlink:href=\"#DejaVuSans-32\" x=\"63.623047\"/>\n     <use xlink:href=\"#DejaVuSans-33\" x=\"127.246094\"/>\n     <use xlink:href=\"#DejaVuSans-37\" x=\"190.869141\"/>\n    </g>\n   </g>\n   <g id=\"text_23\">\n    <!-- 211 -->\n    <g style=\"fill: #08306b\" transform=\"translate(80.656187 242.807375)scale(0.1 -0.1)\">\n     <use xlink:href=\"#DejaVuSans-32\"/>\n     <use xlink:href=\"#DejaVuSans-31\" x=\"63.623047\"/>\n     <use xlink:href=\"#DejaVuSans-31\" x=\"127.246094\"/>\n    </g>\n   </g>\n   <g id=\"text_24\">\n    <!-- 200 -->\n    <g style=\"fill: #08306b\" transform=\"translate(147.184188 242.807375)scale(0.1 -0.1)\">\n     <use xlink:href=\"#DejaVuSans-32\"/>\n     <use xlink:href=\"#DejaVuSans-30\" x=\"63.623047\"/>\n     <use xlink:href=\"#DejaVuSans-30\" x=\"127.246094\"/>\n    </g>\n   </g>\n   <g id=\"text_25\">\n    <!-- 143 -->\n    <g style=\"fill: #08306b\" transform=\"translate(213.712187 242.807375)scale(0.1 -0.1)\">\n     <use xlink:href=\"#DejaVuSans-31\"/>\n     <use xlink:href=\"#DejaVuSans-34\" x=\"63.623047\"/>\n     <use xlink:href=\"#DejaVuSans-33\" x=\"127.246094\"/>\n    </g>\n   </g>\n   <g id=\"text_26\">\n    <!-- 4489 -->\n    <g style=\"fill: #f7fbff\" transform=\"translate(277.058937 242.807375)scale(0.1 -0.1)\">\n     <use xlink:href=\"#DejaVuSans-34\"/>\n     <use xlink:href=\"#DejaVuSans-34\" x=\"63.623047\"/>\n     <use xlink:href=\"#DejaVuSans-38\" x=\"127.246094\"/>\n     <use xlink:href=\"#DejaVuSans-39\" x=\"190.869141\"/>\n    </g>\n   </g>\n  </g>\n  <g id=\"axes_2\">\n   <g id=\"patch_7\">\n    <path d=\"M 340.903937 273.312 \nL 354.209537 273.312 \nL 354.209537 7.2 \nL 340.903937 7.2 \nz\n\" style=\"fill: #ffffff\"/>\n   </g>\n   <g id=\"patch_8\">\n    <path clip-path=\"url(#p35db86e1d2)\" style=\"fill: #ffffff; stroke: #ffffff; stroke-width: 0.01; stroke-linejoin: miter\"/>\n   </g>\n   <image xlink:href=\"data:image/png;base64,\niVBORw0KGgoAAAANSUhEUgAAABMAAAFyCAYAAAAXj+GHAAABwElEQVR4nO2cW4rtMBADfYfsf7v3YyCZNSgUpEDSAkTKcnfbOY9//3+f50D6oYzOOefinuuc6zmc2wV60WuGmokxl2ZsJsYE09RiljRHNSYnFpNsQUvzhZl5BjQ0x5ZRd5ZmbtbRHOEZwEk9A5ZmqJI01ROdNBNjLs3YTIwpTXPNMddGXa6l+cJszTE326iLtTRzsWneYJybAblYzLsDc2nmZi2vo8k1u7Vbo6QCluYLM87rXA/4aHBzJM28mEszN/NiegudvAesAnLRFcCZ0WfaimMoisneA7xr1nFDQdMUt20WkzOjMa2FLl4zstDFmB2F3jKdrAcX9ORYsmbqCqgodHPbJqcTZqXeGiWjjn1904EpThM1s94DxM3RO9GX5gszzKrmGLoZkEuM6U1z3ySJtRnwygzzapkBJWmKm2MNpnRrDDOXF1NdAajZMEMNM5cXc2uWS4x5g1cUMWZJmtrjgfoUZN0a7E97tZglaaKY2xrfmq3Qc7WkuUKP1bI1lua3ZmLMbY1vzcSY4v8k6UjzsGly3w5Fn4xes2F+aVZSASWYPRUwzFBmTO2HC9q2XbM1hplqmLm8mDsF5UIx/wDHIBugkihNwwAAAABJRU5ErkJggg==\" id=\"imageb16bbaffc6\" transform=\"scale(1 -1)translate(0 -266.4)\" x=\"340.56\" y=\"-6.48\" width=\"13.68\" height=\"266.4\"/>\n   <g id=\"matplotlib.axis_3\">\n    <g id=\"ytick_5\">\n     <g id=\"line2d_9\">\n      <defs>\n       <path id=\"md1e0c29f79\" d=\"M 0 0 \nL 3.5 0 \n\" style=\"stroke: #000000; stroke-width: 0.8\"/>\n      </defs>\n      <g>\n       <use xlink:href=\"#md1e0c29f79\" x=\"354.209537\" y=\"250.110931\" style=\"stroke: #000000; stroke-width: 0.8\"/>\n      </g>\n     </g>\n     <g id=\"text_27\">\n      <!-- 500 -->\n      <g transform=\"translate(361.209537 253.91015)scale(0.1 -0.1)\">\n       <use xlink:href=\"#DejaVuSans-35\"/>\n       <use xlink:href=\"#DejaVuSans-30\" x=\"63.623047\"/>\n       <use xlink:href=\"#DejaVuSans-30\" x=\"127.246094\"/>\n      </g>\n     </g>\n    </g>\n    <g id=\"ytick_6\">\n     <g id=\"line2d_10\">\n      <g>\n       <use xlink:href=\"#md1e0c29f79\" x=\"354.209537\" y=\"219.663334\" style=\"stroke: #000000; stroke-width: 0.8\"/>\n      </g>\n     </g>\n     <g id=\"text_28\">\n      <!-- 1000 -->\n      <g transform=\"translate(361.209537 223.462552)scale(0.1 -0.1)\">\n       <use xlink:href=\"#DejaVuSans-31\"/>\n       <use xlink:href=\"#DejaVuSans-30\" x=\"63.623047\"/>\n       <use xlink:href=\"#DejaVuSans-30\" x=\"127.246094\"/>\n       <use xlink:href=\"#DejaVuSans-30\" x=\"190.869141\"/>\n      </g>\n     </g>\n    </g>\n    <g id=\"ytick_7\">\n     <g id=\"line2d_11\">\n      <g>\n       <use xlink:href=\"#md1e0c29f79\" x=\"354.209537\" y=\"189.215736\" style=\"stroke: #000000; stroke-width: 0.8\"/>\n      </g>\n     </g>\n     <g id=\"text_29\">\n      <!-- 1500 -->\n      <g transform=\"translate(361.209537 193.014955)scale(0.1 -0.1)\">\n       <use xlink:href=\"#DejaVuSans-31\"/>\n       <use xlink:href=\"#DejaVuSans-35\" x=\"63.623047\"/>\n       <use xlink:href=\"#DejaVuSans-30\" x=\"127.246094\"/>\n       <use xlink:href=\"#DejaVuSans-30\" x=\"190.869141\"/>\n      </g>\n     </g>\n    </g>\n    <g id=\"ytick_8\">\n     <g id=\"line2d_12\">\n      <g>\n       <use xlink:href=\"#md1e0c29f79\" x=\"354.209537\" y=\"158.768139\" style=\"stroke: #000000; stroke-width: 0.8\"/>\n      </g>\n     </g>\n     <g id=\"text_30\">\n      <!-- 2000 -->\n      <g transform=\"translate(361.209537 162.567358)scale(0.1 -0.1)\">\n       <use xlink:href=\"#DejaVuSans-32\"/>\n       <use xlink:href=\"#DejaVuSans-30\" x=\"63.623047\"/>\n       <use xlink:href=\"#DejaVuSans-30\" x=\"127.246094\"/>\n       <use xlink:href=\"#DejaVuSans-30\" x=\"190.869141\"/>\n      </g>\n     </g>\n    </g>\n    <g id=\"ytick_9\">\n     <g id=\"line2d_13\">\n      <g>\n       <use xlink:href=\"#md1e0c29f79\" x=\"354.209537\" y=\"128.320542\" style=\"stroke: #000000; stroke-width: 0.8\"/>\n      </g>\n     </g>\n     <g id=\"text_31\">\n      <!-- 2500 -->\n      <g transform=\"translate(361.209537 132.119761)scale(0.1 -0.1)\">\n       <use xlink:href=\"#DejaVuSans-32\"/>\n       <use xlink:href=\"#DejaVuSans-35\" x=\"63.623047\"/>\n       <use xlink:href=\"#DejaVuSans-30\" x=\"127.246094\"/>\n       <use xlink:href=\"#DejaVuSans-30\" x=\"190.869141\"/>\n      </g>\n     </g>\n    </g>\n    <g id=\"ytick_10\">\n     <g id=\"line2d_14\">\n      <g>\n       <use xlink:href=\"#md1e0c29f79\" x=\"354.209537\" y=\"97.872945\" style=\"stroke: #000000; stroke-width: 0.8\"/>\n      </g>\n     </g>\n     <g id=\"text_32\">\n      <!-- 3000 -->\n      <g transform=\"translate(361.209537 101.672163)scale(0.1 -0.1)\">\n       <use xlink:href=\"#DejaVuSans-33\"/>\n       <use xlink:href=\"#DejaVuSans-30\" x=\"63.623047\"/>\n       <use xlink:href=\"#DejaVuSans-30\" x=\"127.246094\"/>\n       <use xlink:href=\"#DejaVuSans-30\" x=\"190.869141\"/>\n      </g>\n     </g>\n    </g>\n    <g id=\"ytick_11\">\n     <g id=\"line2d_15\">\n      <g>\n       <use xlink:href=\"#md1e0c29f79\" x=\"354.209537\" y=\"67.425347\" style=\"stroke: #000000; stroke-width: 0.8\"/>\n      </g>\n     </g>\n     <g id=\"text_33\">\n      <!-- 3500 -->\n      <g transform=\"translate(361.209537 71.224566)scale(0.1 -0.1)\">\n       <use xlink:href=\"#DejaVuSans-33\"/>\n       <use xlink:href=\"#DejaVuSans-35\" x=\"63.623047\"/>\n       <use xlink:href=\"#DejaVuSans-30\" x=\"127.246094\"/>\n       <use xlink:href=\"#DejaVuSans-30\" x=\"190.869141\"/>\n      </g>\n     </g>\n    </g>\n    <g id=\"ytick_12\">\n     <g id=\"line2d_16\">\n      <g>\n       <use xlink:href=\"#md1e0c29f79\" x=\"354.209537\" y=\"36.97775\" style=\"stroke: #000000; stroke-width: 0.8\"/>\n      </g>\n     </g>\n     <g id=\"text_34\">\n      <!-- 4000 -->\n      <g transform=\"translate(361.209537 40.776969)scale(0.1 -0.1)\">\n       <use xlink:href=\"#DejaVuSans-34\"/>\n       <use xlink:href=\"#DejaVuSans-30\" x=\"63.623047\"/>\n       <use xlink:href=\"#DejaVuSans-30\" x=\"127.246094\"/>\n       <use xlink:href=\"#DejaVuSans-30\" x=\"190.869141\"/>\n      </g>\n     </g>\n    </g>\n   </g>\n   <g id=\"LineCollection_1\"/>\n   <g id=\"patch_9\">\n    <path d=\"M 340.903937 273.312 \nL 347.556737 273.312 \nL 354.209537 273.312 \nL 354.209537 7.2 \nL 347.556737 7.2 \nL 340.903937 7.2 \nL 340.903937 273.312 \nz\n\" style=\"fill: none; stroke: #000000; stroke-width: 0.8; stroke-linejoin: miter; stroke-linecap: square\"/>\n   </g>\n  </g>\n </g>\n <defs>\n  <clipPath id=\"p1a1bfd3cc5\">\n   <rect x=\"56.935937\" y=\"7.2\" width=\"266.112\" height=\"266.112\"/>\n  </clipPath>\n  <clipPath id=\"p35db86e1d2\">\n   <rect x=\"340.903937\" y=\"7.2\" width=\"13.3056\" height=\"266.112\"/>\n  </clipPath>\n </defs>\n</svg>\n",
      "text/plain": [
       "<Figure size 640x480 with 2 Axes>"
      ]
     },
     "metadata": {},
     "output_type": "display_data"
    }
   ],
   "source": [
    "cm = confusion_matrix(y_test, y_pred, labels=gs.classes_)\n",
    "disp = ConfusionMatrixDisplay(confusion_matrix=cm, display_labels=gs.classes_)\n",
    "disp.display_labels = encoded_labels\n",
    "disp.plot(cmap='Blues');"
   ]
  },
  {
   "cell_type": "code",
   "execution_count": 38,
   "metadata": {},
   "outputs": [
    {
     "data": {
      "text/plain": [
       "['age_punct.joblib']"
      ]
     },
     "execution_count": 38,
     "metadata": {},
     "output_type": "execute_result"
    }
   ],
   "source": [
    "import joblib\n",
    "\n",
    "joblib.dump(gs, 'age_punct.joblib')"
   ]
  },
  {
   "cell_type": "code",
   "execution_count": 39,
   "metadata": {},
   "outputs": [],
   "source": [
    "# from tempfile import mkdtemp\n",
    "# from shutil import rmtree\n",
    "\n",
    "# cache_dir = mkdtemp()\n",
    "# rmtree(cache_dir)"
   ]
  },
  {
   "cell_type": "markdown",
   "metadata": {},
   "source": [
    "## LIWC features"
   ]
  },
  {
   "cell_type": "code",
   "execution_count": 40,
   "metadata": {},
   "outputs": [],
   "source": [
    "from __future__ import division\n",
    "from __future__ import print_function\n",
    "\n",
    "import re\n",
    "\n",
    "from codecs import open\n",
    "from collections import Counter\n",
    "\n",
    "\n",
    "class DictFeaturizer(object):\n",
    "    def __init__(self, dictionary, relative=True):\n",
    "        self.dict = {}\n",
    "        self.rel = relative\n",
    "        matcher = re.compile(r'([\\*\\+])')\n",
    "\n",
    "        for key, words in dictionary.items():\n",
    "\n",
    "            normal = {x for x in words if not matcher.findall(x)}\n",
    "            regexstring = \"|\".join([matcher.sub(r'\\\\w\\1', x)\n",
    "                                    for x in words if x not in normal])\n",
    "\n",
    "            if regexstring:\n",
    "                wildcards = re.compile(regexstring)\n",
    "            else:\n",
    "                wildcards = None\n",
    "\n",
    "            self.dict[key] = (normal, wildcards)\n",
    "\n",
    "    def transform(self, tokens):\n",
    "        # Make frequency dictionary of the text to diminish number\n",
    "        # of runs in further for loop\n",
    "        freq_dict = Counter(tokens)\n",
    "        features = dict()\n",
    "\n",
    "        for key, wordlists in self.dict.items():\n",
    "\n",
    "            normal, wildcards = wordlists\n",
    "\n",
    "            keys = set(freq_dict.keys())\n",
    "\n",
    "            features[key] = sum([freq_dict[k] for k in normal & keys])\n",
    "            if wildcards:\n",
    "                features[key] += sum([freq_dict[k] for k in keys - normal\n",
    "                                      if wildcards.match(k)])\n",
    "\n",
    "        if self.rel:\n",
    "            return {k: v / len(tokens) for k, v in features.items()}\n",
    "        else:\n",
    "            return features\n",
    "\n",
    "    @staticmethod\n",
    "    def load(path, relative=True):\n",
    "        d = {}\n",
    "        with open(path, \"r\", encoding='utf-8') as f:\n",
    "            for line in f:\n",
    "                line = line.lower().strip().split(\",\")\n",
    "                key, words = line[0], set(line[1:])\n",
    "                d[key] = words\n",
    "\n",
    "        return DictFeaturizer(d, relative=relative)\n"
   ]
  },
  {
   "cell_type": "code",
   "execution_count": 41,
   "metadata": {},
   "outputs": [],
   "source": [
    "liwc = DictFeaturizer.load(\"../../datasets/LIWC/LIWC_English.csv\")\n",
    "sample_df = df.groupby('age_group').sample(25000)"
   ]
  },
  {
   "cell_type": "code",
   "execution_count": 42,
   "metadata": {},
   "outputs": [
    {
     "data": {
      "text/html": [
       "<div>\n",
       "<style scoped>\n",
       "    .dataframe tbody tr th:only-of-type {\n",
       "        vertical-align: middle;\n",
       "    }\n",
       "\n",
       "    .dataframe tbody tr th {\n",
       "        vertical-align: top;\n",
       "    }\n",
       "\n",
       "    .dataframe thead th {\n",
       "        text-align: right;\n",
       "    }\n",
       "</style>\n",
       "<table border=\"1\" class=\"dataframe\">\n",
       "  <thead>\n",
       "    <tr style=\"text-align: right;\">\n",
       "      <th></th>\n",
       "      <th>text</th>\n",
       "      <th>gender</th>\n",
       "      <th>horoscope</th>\n",
       "      <th>job</th>\n",
       "      <th>age_group</th>\n",
       "      <th>tokenized</th>\n",
       "      <th>pos</th>\n",
       "      <th>total_punct</th>\n",
       "      <th>punct_dist</th>\n",
       "      <th>count_punct</th>\n",
       "      <th>liwc</th>\n",
       "    </tr>\n",
       "  </thead>\n",
       "  <tbody>\n",
       "    <tr>\n",
       "      <th>496856</th>\n",
       "      <td>Today, I woke up feeling great, rested.... As ...</td>\n",
       "      <td>female</td>\n",
       "      <td>Virgo</td>\n",
       "      <td>Education</td>\n",
       "      <td>18-24</td>\n",
       "      <td>today , i woke up feeling great , rested .... ...</td>\n",
       "      <td>NOUN PUNCT PRON VERB ADP VERB ADJ PUNCT VERB P...</td>\n",
       "      <td>22</td>\n",
       "      <td>0.049217</td>\n",
       "      <td>{'!': 0, '\"': 0, '#': 0, '$': 0, '%': 0, '&amp;': ...</td>\n",
       "      <td>{'funct': 0.11038961038961038, 'pronoun': 0.04...</td>\n",
       "    </tr>\n",
       "    <tr>\n",
       "      <th>244766</th>\n",
       "      <td>So, I came to Toledo this weekend. Didn't do m...</td>\n",
       "      <td>female</td>\n",
       "      <td>Cancer</td>\n",
       "      <td>Engineering</td>\n",
       "      <td>18-24</td>\n",
       "      <td>so , i came to toledo this weekend . did n't d...</td>\n",
       "      <td>ADV PUNCT PRON VERB ADP PROPN DET NOUN PUNCT A...</td>\n",
       "      <td>75</td>\n",
       "      <td>0.039124</td>\n",
       "      <td>{'!': 0, '\"': 4, '#': 0, '$': 0, '%': 0, '&amp;': ...</td>\n",
       "      <td>{'funct': 0.11430010070493454, 'pronoun': 0.05...</td>\n",
       "    </tr>\n",
       "    <tr>\n",
       "      <th>581356</th>\n",
       "      <td>Saturday December 7, 2002 OK, this is totally ...</td>\n",
       "      <td>female</td>\n",
       "      <td>Libra</td>\n",
       "      <td>indUnk</td>\n",
       "      <td>18-24</td>\n",
       "      <td>saturday december 7 , 2002 ok , this is totall...</td>\n",
       "      <td>PROPN PROPN NUM PUNCT NUM INTJ PUNCT DET AUX A...</td>\n",
       "      <td>30</td>\n",
       "      <td>0.039526</td>\n",
       "      <td>{'!': 1, '\"': 2, '#': 0, '$': 0, '%': 0, '&amp;': ...</td>\n",
       "      <td>{'funct': 0.10406091370558376, 'pronoun': 0.05...</td>\n",
       "    </tr>\n",
       "    <tr>\n",
       "      <th>311881</th>\n",
       "      <td>Planning to finish this before my laptop boots...</td>\n",
       "      <td>male</td>\n",
       "      <td>Virgo</td>\n",
       "      <td>indUnk</td>\n",
       "      <td>18-24</td>\n",
       "      <td>planning to finish this before my laptop boots...</td>\n",
       "      <td>NOUN PART VERB DET ADP PRON NOUN VERB ADP PUNC...</td>\n",
       "      <td>45</td>\n",
       "      <td>0.039199</td>\n",
       "      <td>{'!': 0, '\"': 2, '#': 0, '$': 0, '%': 0, '&amp;': ...</td>\n",
       "      <td>{'funct': 0.11382799325463744, 'pronoun': 0.06...</td>\n",
       "    </tr>\n",
       "    <tr>\n",
       "      <th>590886</th>\n",
       "      <td>One of my biggest pet peeves is being told to ...</td>\n",
       "      <td>female</td>\n",
       "      <td>Scorpio</td>\n",
       "      <td>indUnk</td>\n",
       "      <td>18-24</td>\n",
       "      <td>one of my biggest pet peeves is being told to ...</td>\n",
       "      <td>NUM ADP PRON ADJ ADJ NOUN AUX AUX VERB PART VE...</td>\n",
       "      <td>102</td>\n",
       "      <td>0.047530</td>\n",
       "      <td>{'!': 2, '\"': 10, '#': 0, '$': 0, '%': 0, '&amp;':...</td>\n",
       "      <td>{'funct': 0.11830357142857142, 'pronoun': 0.05...</td>\n",
       "    </tr>\n",
       "    <tr>\n",
       "      <th>...</th>\n",
       "      <td>...</td>\n",
       "      <td>...</td>\n",
       "      <td>...</td>\n",
       "      <td>...</td>\n",
       "      <td>...</td>\n",
       "      <td>...</td>\n",
       "      <td>...</td>\n",
       "      <td>...</td>\n",
       "      <td>...</td>\n",
       "      <td>...</td>\n",
       "      <td>...</td>\n",
       "    </tr>\n",
       "    <tr>\n",
       "      <th>285242</th>\n",
       "      <td>My father was particularly interested in writi...</td>\n",
       "      <td>male</td>\n",
       "      <td>Cancer</td>\n",
       "      <td>Internet</td>\n",
       "      <td>&gt;35</td>\n",
       "      <td>my father was particularly interested in writi...</td>\n",
       "      <td>PRON NOUN AUX ADV ADJ ADP VERB PUNCT PRON VERB...</td>\n",
       "      <td>48</td>\n",
       "      <td>0.020262</td>\n",
       "      <td>{'!': 0, '\"': 0, '#': 0, '$': 0, '%': 0, '&amp;': ...</td>\n",
       "      <td>{'funct': 0.12334437086092716, 'pronoun': 0.05...</td>\n",
       "    </tr>\n",
       "    <tr>\n",
       "      <th>426297</th>\n",
       "      <td>retrograde (by deav) Rio, Jan 2004 (exposed) i...</td>\n",
       "      <td>female</td>\n",
       "      <td>Virgo</td>\n",
       "      <td>indUnk</td>\n",
       "      <td>&gt;35</td>\n",
       "      <td>retrograde ( by deav ) rio , jan 2004 ( expose...</td>\n",
       "      <td>PROPN PUNCT ADP PROPN PUNCT PROPN PUNCT PROPN ...</td>\n",
       "      <td>17</td>\n",
       "      <td>0.034068</td>\n",
       "      <td>{'!': 0, '\"': 0, '#': 0, '$': 0, '%': 0, '&amp;': ...</td>\n",
       "      <td>{'funct': 0.1145631067961165, 'pronoun': 0.075...</td>\n",
       "    </tr>\n",
       "    <tr>\n",
       "      <th>297468</th>\n",
       "      <td>Today we met up with the Bay Area S2k user gro...</td>\n",
       "      <td>female</td>\n",
       "      <td>Gemini</td>\n",
       "      <td>indUnk</td>\n",
       "      <td>&gt;35</td>\n",
       "      <td>today we met up with the bay area s2k user gro...</td>\n",
       "      <td>NOUN PRON VERB ADP ADP DET PROPN PROPN PROPN N...</td>\n",
       "      <td>25</td>\n",
       "      <td>0.023652</td>\n",
       "      <td>{'!': 1, '\"': 0, '#': 0, '$': 0, '%': 0, '&amp;': ...</td>\n",
       "      <td>{'funct': 0.10249307479224377, 'pronoun': 0.04...</td>\n",
       "    </tr>\n",
       "    <tr>\n",
       "      <th>63823</th>\n",
       "      <td>Ok- before I reply, I have to vent a little- I...</td>\n",
       "      <td>female</td>\n",
       "      <td>Scorpio</td>\n",
       "      <td>indUnk</td>\n",
       "      <td>&gt;35</td>\n",
       "      <td>ok- before i reply , i have to vent a little- ...</td>\n",
       "      <td>INTJ ADP PRON VERB PUNCT PRON AUX PART VERB DE...</td>\n",
       "      <td>137</td>\n",
       "      <td>0.055020</td>\n",
       "      <td>{'!': 7, '\"': 10, '#': 0, '$': 0, '%': 0, '&amp;':...</td>\n",
       "      <td>{'funct': 0.1130030959752322, 'pronoun': 0.053...</td>\n",
       "    </tr>\n",
       "    <tr>\n",
       "      <th>413810</th>\n",
       "      <td>\"You're not fat, you're in the wrong country.\"...</td>\n",
       "      <td>female</td>\n",
       "      <td>Scorpio</td>\n",
       "      <td>Technology</td>\n",
       "      <td>&gt;35</td>\n",
       "      <td>\" you 're not fat , you 're in the wrong count...</td>\n",
       "      <td>PUNCT PRON AUX PART ADJ PUNCT PRON AUX ADP DET...</td>\n",
       "      <td>39</td>\n",
       "      <td>0.039959</td>\n",
       "      <td>{'!': 1, '\"': 4, '#': 0, '$': 0, '%': 0, '&amp;': ...</td>\n",
       "      <td>{'funct': 0.11220472440944881, 'pronoun': 0.06...</td>\n",
       "    </tr>\n",
       "  </tbody>\n",
       "</table>\n",
       "<p>100000 rows × 11 columns</p>\n",
       "</div>"
      ],
      "text/plain": [
       "                                                     text  gender horoscope  \\\n",
       "496856  Today, I woke up feeling great, rested.... As ...  female     Virgo   \n",
       "244766  So, I came to Toledo this weekend. Didn't do m...  female    Cancer   \n",
       "581356  Saturday December 7, 2002 OK, this is totally ...  female     Libra   \n",
       "311881  Planning to finish this before my laptop boots...    male     Virgo   \n",
       "590886  One of my biggest pet peeves is being told to ...  female   Scorpio   \n",
       "...                                                   ...     ...       ...   \n",
       "285242  My father was particularly interested in writi...    male    Cancer   \n",
       "426297  retrograde (by deav) Rio, Jan 2004 (exposed) i...  female     Virgo   \n",
       "297468  Today we met up with the Bay Area S2k user gro...  female    Gemini   \n",
       "63823   Ok- before I reply, I have to vent a little- I...  female   Scorpio   \n",
       "413810  \"You're not fat, you're in the wrong country.\"...  female   Scorpio   \n",
       "\n",
       "                job age_group  \\\n",
       "496856    Education     18-24   \n",
       "244766  Engineering     18-24   \n",
       "581356       indUnk     18-24   \n",
       "311881       indUnk     18-24   \n",
       "590886       indUnk     18-24   \n",
       "...             ...       ...   \n",
       "285242     Internet       >35   \n",
       "426297       indUnk       >35   \n",
       "297468       indUnk       >35   \n",
       "63823        indUnk       >35   \n",
       "413810   Technology       >35   \n",
       "\n",
       "                                                tokenized  \\\n",
       "496856  today , i woke up feeling great , rested .... ...   \n",
       "244766  so , i came to toledo this weekend . did n't d...   \n",
       "581356  saturday december 7 , 2002 ok , this is totall...   \n",
       "311881  planning to finish this before my laptop boots...   \n",
       "590886  one of my biggest pet peeves is being told to ...   \n",
       "...                                                   ...   \n",
       "285242  my father was particularly interested in writi...   \n",
       "426297  retrograde ( by deav ) rio , jan 2004 ( expose...   \n",
       "297468  today we met up with the bay area s2k user gro...   \n",
       "63823   ok- before i reply , i have to vent a little- ...   \n",
       "413810  \" you 're not fat , you 're in the wrong count...   \n",
       "\n",
       "                                                      pos  total_punct  \\\n",
       "496856  NOUN PUNCT PRON VERB ADP VERB ADJ PUNCT VERB P...           22   \n",
       "244766  ADV PUNCT PRON VERB ADP PROPN DET NOUN PUNCT A...           75   \n",
       "581356  PROPN PROPN NUM PUNCT NUM INTJ PUNCT DET AUX A...           30   \n",
       "311881  NOUN PART VERB DET ADP PRON NOUN VERB ADP PUNC...           45   \n",
       "590886  NUM ADP PRON ADJ ADJ NOUN AUX AUX VERB PART VE...          102   \n",
       "...                                                   ...          ...   \n",
       "285242  PRON NOUN AUX ADV ADJ ADP VERB PUNCT PRON VERB...           48   \n",
       "426297  PROPN PUNCT ADP PROPN PUNCT PROPN PUNCT PROPN ...           17   \n",
       "297468  NOUN PRON VERB ADP ADP DET PROPN PROPN PROPN N...           25   \n",
       "63823   INTJ ADP PRON VERB PUNCT PRON AUX PART VERB DE...          137   \n",
       "413810  PUNCT PRON AUX PART ADJ PUNCT PRON AUX ADP DET...           39   \n",
       "\n",
       "        punct_dist                                        count_punct  \\\n",
       "496856    0.049217  {'!': 0, '\"': 0, '#': 0, '$': 0, '%': 0, '&': ...   \n",
       "244766    0.039124  {'!': 0, '\"': 4, '#': 0, '$': 0, '%': 0, '&': ...   \n",
       "581356    0.039526  {'!': 1, '\"': 2, '#': 0, '$': 0, '%': 0, '&': ...   \n",
       "311881    0.039199  {'!': 0, '\"': 2, '#': 0, '$': 0, '%': 0, '&': ...   \n",
       "590886    0.047530  {'!': 2, '\"': 10, '#': 0, '$': 0, '%': 0, '&':...   \n",
       "...            ...                                                ...   \n",
       "285242    0.020262  {'!': 0, '\"': 0, '#': 0, '$': 0, '%': 0, '&': ...   \n",
       "426297    0.034068  {'!': 0, '\"': 0, '#': 0, '$': 0, '%': 0, '&': ...   \n",
       "297468    0.023652  {'!': 1, '\"': 0, '#': 0, '$': 0, '%': 0, '&': ...   \n",
       "63823     0.055020  {'!': 7, '\"': 10, '#': 0, '$': 0, '%': 0, '&':...   \n",
       "413810    0.039959  {'!': 1, '\"': 4, '#': 0, '$': 0, '%': 0, '&': ...   \n",
       "\n",
       "                                                     liwc  \n",
       "496856  {'funct': 0.11038961038961038, 'pronoun': 0.04...  \n",
       "244766  {'funct': 0.11430010070493454, 'pronoun': 0.05...  \n",
       "581356  {'funct': 0.10406091370558376, 'pronoun': 0.05...  \n",
       "311881  {'funct': 0.11382799325463744, 'pronoun': 0.06...  \n",
       "590886  {'funct': 0.11830357142857142, 'pronoun': 0.05...  \n",
       "...                                                   ...  \n",
       "285242  {'funct': 0.12334437086092716, 'pronoun': 0.05...  \n",
       "426297  {'funct': 0.1145631067961165, 'pronoun': 0.075...  \n",
       "297468  {'funct': 0.10249307479224377, 'pronoun': 0.04...  \n",
       "63823   {'funct': 0.1130030959752322, 'pronoun': 0.053...  \n",
       "413810  {'funct': 0.11220472440944881, 'pronoun': 0.06...  \n",
       "\n",
       "[100000 rows x 11 columns]"
      ]
     },
     "execution_count": 42,
     "metadata": {},
     "output_type": "execute_result"
    }
   ],
   "source": [
    "sample_df = sample_df.assign(liwc=sample_df['tokenized'].apply(liwc.transform))\n",
    "sample_df"
   ]
  },
  {
   "cell_type": "code",
   "execution_count": 43,
   "metadata": {},
   "outputs": [
    {
     "data": {
      "text/plain": [
       "(100000, 73)"
      ]
     },
     "execution_count": 43,
     "metadata": {},
     "output_type": "execute_result"
    }
   ],
   "source": [
    "liwc_df = sample_df['liwc'].apply(pd.Series).fillna(0).add_prefix('liwc_')\n",
    "sample_df = pd.concat([sample_df, liwc_df], axis=1).drop(['text', 'liwc'], axis=1)\n",
    "sample_df.shape"
   ]
  },
  {
   "cell_type": "code",
   "execution_count": 44,
   "metadata": {},
   "outputs": [
    {
     "data": {
      "text/plain": [
       "18-24    25000\n",
       "25-34    25000\n",
       "<18      25000\n",
       ">35      25000\n",
       "Name: age_group, dtype: int64"
      ]
     },
     "execution_count": 44,
     "metadata": {},
     "output_type": "execute_result"
    }
   ],
   "source": [
    "sample_df['age_group'].value_counts()"
   ]
  },
  {
   "cell_type": "code",
   "execution_count": 45,
   "metadata": {},
   "outputs": [
    {
     "data": {
      "text/plain": [
       "{'18-24': 0, '25-34': 1, '<18': 2, '>35': 3}"
      ]
     },
     "execution_count": 45,
     "metadata": {},
     "output_type": "execute_result"
    }
   ],
   "source": [
    "enc = LabelEncoder()\n",
    "enc.fit(sample_df['age_group'])\n",
    "encoded_labels = dict(zip(enc.classes_, enc.transform(enc.classes_))) # will use that in the cm later\n",
    "sample_df['age_group'] = enc.transform(sample_df['age_group'])\n",
    "encoded_labels"
   ]
  },
  {
   "cell_type": "code",
   "execution_count": 46,
   "metadata": {},
   "outputs": [
    {
     "data": {
      "text/plain": [
       "((80000, 72), (20000, 72), (80000,), (20000,))"
      ]
     },
     "execution_count": 46,
     "metadata": {},
     "output_type": "execute_result"
    }
   ],
   "source": [
    "X = sample_df.drop('age_group', axis=1)\n",
    "y = sample_df['age_group']\n",
    "\n",
    "X_train, X_test, y_train, y_test = train_test_split(X, y, test_size=0.2, random_state=97)\n",
    "X_train.shape, X_test.shape, y_train.shape, y_test.shape"
   ]
  },
  {
   "cell_type": "code",
   "execution_count": 47,
   "metadata": {},
   "outputs": [],
   "source": [
    "word_pipe = Pipeline([\n",
    "    ('selector', ItemSelector(key='tokenized')),\n",
    "    ('vect', TfidfVectorizer(analyzer='word'))\n",
    "])\n",
    "\n",
    "pos_pipe = Pipeline([\n",
    "    ('selector', ItemSelector(key='pos')),\n",
    "    ('vect', TfidfVectorizer(analyzer='word'))\n",
    "])\n",
    "\n",
    "num_cols = ['total_punct', 'punct_dist'] + [col for col in X.columns\n",
    "                                            if col.startswith('liwc_')]\n",
    "\n",
    "num_pipe = Pipeline([\n",
    "    ('selector', ItemSelector(key=num_cols)),\n",
    "])\n",
    "\n",
    "punct_pipe = Pipeline([\n",
    "    ('selector', ItemSelector(key='count_punct')),\n",
    "    ('iter', RowIterator()),\n",
    "    ('vect', DictVectorizer())\n",
    "])\n",
    "\n",
    "pipe = Pipeline([(\n",
    "        'feats', \n",
    "        FeatureUnion([  \n",
    "            ('word', word_pipe),\n",
    "            ('pos', pos_pipe),\n",
    "            ('num', num_pipe),\n",
    "            ('punct', punct_pipe)\n",
    "        ],\n",
    "    )),\n",
    "    ('clf', LinearSVC(random_state=97, class_weight='balanced'))\n",
    "])"
   ]
  },
  {
   "cell_type": "code",
   "execution_count": 48,
   "metadata": {},
   "outputs": [],
   "source": [
    "param_grid = {\n",
    "    'feats__word__vect__ngram_range': [(1, 2), (1, 3)],\n",
    "    'feats__pos__vect__ngram_range': [(1, 2), (1, 3)],\n",
    "    'clf__C': [10**x for x in range(-2, 2)],\n",
    "}"
   ]
  },
  {
   "cell_type": "code",
   "execution_count": 49,
   "metadata": {},
   "outputs": [
    {
     "name": "stdout",
     "output_type": "stream",
     "text": [
      "Fitting 5 folds for each of 16 candidates, totalling 80 fits\n",
      "{'clf__C': 0.1, 'feats__pos__vect__ngram_range': (1, 3), 'feats__word__vect__ngram_range': (1, 2)}\n"
     ]
    },
    {
     "name": "stderr",
     "output_type": "stream",
     "text": [
      "c:\\Users\\dimboump\\workspace\\clips-internship\\venv\\lib\\site-packages\\sklearn\\svm\\_base.py:1225: ConvergenceWarning: Liblinear failed to converge, increase the number of iterations.\n",
      "  warnings.warn(\n"
     ]
    }
   ],
   "source": [
    "gs = GridSearchCV(pipe, param_grid, cv=5, scoring='f1_macro', n_jobs=-1, refit=True, verbose=5)\n",
    "\n",
    "gs.fit(X_train, y_train)\n",
    "print(gs.best_params_)"
   ]
  },
  {
   "cell_type": "code",
   "execution_count": 50,
   "metadata": {},
   "outputs": [
    {
     "name": "stdout",
     "output_type": "stream",
     "text": [
      "              precision    recall  f1-score   support\n",
      "\n",
      "           0       0.40      0.19      0.26      4987\n",
      "           1       0.33      0.63      0.43      5021\n",
      "           2       0.68      0.63      0.65      4949\n",
      "           3       0.55      0.35      0.43      5043\n",
      "\n",
      "    accuracy                           0.45     20000\n",
      "   macro avg       0.49      0.45      0.44     20000\n",
      "weighted avg       0.49      0.45      0.44     20000\n",
      "\n"
     ]
    }
   ],
   "source": [
    "y_pred = gs.predict(X_test)\n",
    "print(classification_report(y_test, y_pred))"
   ]
  },
  {
   "cell_type": "code",
   "execution_count": 51,
   "metadata": {},
   "outputs": [
    {
     "data": {
      "image/svg+xml": "<?xml version=\"1.0\" encoding=\"utf-8\" standalone=\"no\"?>\n<!DOCTYPE svg PUBLIC \"-//W3C//DTD SVG 1.1//EN\"\n  \"http://www.w3.org/Graphics/SVG/1.1/DTD/svg11.dtd\">\n<svg xmlns:xlink=\"http://www.w3.org/1999/xlink\" width=\"393.859537pt\" height=\"310.86825pt\" viewBox=\"0 0 393.859537 310.86825\" xmlns=\"http://www.w3.org/2000/svg\" version=\"1.1\">\n <metadata>\n  <rdf:RDF xmlns:dc=\"http://purl.org/dc/elements/1.1/\" xmlns:cc=\"http://creativecommons.org/ns#\" xmlns:rdf=\"http://www.w3.org/1999/02/22-rdf-syntax-ns#\">\n   <cc:Work>\n    <dc:type rdf:resource=\"http://purl.org/dc/dcmitype/StillImage\"/>\n    <dc:date>2022-11-10T10:10:25.108499</dc:date>\n    <dc:format>image/svg+xml</dc:format>\n    <dc:creator>\n     <cc:Agent>\n      <dc:title>Matplotlib v3.5.3, https://matplotlib.org/</dc:title>\n     </cc:Agent>\n    </dc:creator>\n   </cc:Work>\n  </rdf:RDF>\n </metadata>\n <defs>\n  <style type=\"text/css\">*{stroke-linejoin: round; stroke-linecap: butt}</style>\n </defs>\n <g id=\"figure_1\">\n  <g id=\"patch_1\">\n   <path d=\"M 0 310.86825 \nL 393.859537 310.86825 \nL 393.859537 0 \nL 0 0 \nz\n\" style=\"fill: #ffffff\"/>\n  </g>\n  <g id=\"axes_1\">\n   <g id=\"patch_2\">\n    <path d=\"M 56.935937 273.312 \nL 323.047937 273.312 \nL 323.047937 7.2 \nL 56.935937 7.2 \nz\n\" style=\"fill: #ffffff\"/>\n   </g>\n   <g clip-path=\"url(#pcea427b607)\">\n    <image xlink:href=\"data:image/png;base64,\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\" id=\"image78af72864e\" transform=\"scale(1 -1)translate(0 -266.4)\" x=\"56.935937\" y=\"-6.912\" width=\"266.4\" height=\"266.4\"/>\n   </g>\n   <g id=\"matplotlib.axis_1\">\n    <g id=\"xtick_1\">\n     <g id=\"line2d_1\">\n      <defs>\n       <path id=\"mbd33ee51a4\" d=\"M 0 0 \nL 0 3.5 \n\" style=\"stroke: #000000; stroke-width: 0.8\"/>\n      </defs>\n      <g>\n       <use xlink:href=\"#mbd33ee51a4\" x=\"90.199937\" y=\"273.312\" style=\"stroke: #000000; stroke-width: 0.8\"/>\n      </g>\n     </g>\n     <g id=\"text_1\">\n      <!-- 18-24 -->\n      <g transform=\"translate(75.671031 287.910437)scale(0.1 -0.1)\">\n       <defs>\n        <path id=\"DejaVuSans-31\" d=\"M 794 531 \nL 1825 531 \nL 1825 4091 \nL 703 3866 \nL 703 4441 \nL 1819 4666 \nL 2450 4666 \nL 2450 531 \nL 3481 531 \nL 3481 0 \nL 794 0 \nL 794 531 \nz\n\" transform=\"scale(0.015625)\"/>\n        <path id=\"DejaVuSans-38\" d=\"M 2034 2216 \nQ 1584 2216 1326 1975 \nQ 1069 1734 1069 1313 \nQ 1069 891 1326 650 \nQ 1584 409 2034 409 \nQ 2484 409 2743 651 \nQ 3003 894 3003 1313 \nQ 3003 1734 2745 1975 \nQ 2488 2216 2034 2216 \nz\nM 1403 2484 \nQ 997 2584 770 2862 \nQ 544 3141 544 3541 \nQ 544 4100 942 4425 \nQ 1341 4750 2034 4750 \nQ 2731 4750 3128 4425 \nQ 3525 4100 3525 3541 \nQ 3525 3141 3298 2862 \nQ 3072 2584 2669 2484 \nQ 3125 2378 3379 2068 \nQ 3634 1759 3634 1313 \nQ 3634 634 3220 271 \nQ 2806 -91 2034 -91 \nQ 1263 -91 848 271 \nQ 434 634 434 1313 \nQ 434 1759 690 2068 \nQ 947 2378 1403 2484 \nz\nM 1172 3481 \nQ 1172 3119 1398 2916 \nQ 1625 2713 2034 2713 \nQ 2441 2713 2670 2916 \nQ 2900 3119 2900 3481 \nQ 2900 3844 2670 4047 \nQ 2441 4250 2034 4250 \nQ 1625 4250 1398 4047 \nQ 1172 3844 1172 3481 \nz\n\" transform=\"scale(0.015625)\"/>\n        <path id=\"DejaVuSans-2d\" d=\"M 313 2009 \nL 1997 2009 \nL 1997 1497 \nL 313 1497 \nL 313 2009 \nz\n\" transform=\"scale(0.015625)\"/>\n        <path id=\"DejaVuSans-32\" d=\"M 1228 531 \nL 3431 531 \nL 3431 0 \nL 469 0 \nL 469 531 \nQ 828 903 1448 1529 \nQ 2069 2156 2228 2338 \nQ 2531 2678 2651 2914 \nQ 2772 3150 2772 3378 \nQ 2772 3750 2511 3984 \nQ 2250 4219 1831 4219 \nQ 1534 4219 1204 4116 \nQ 875 4013 500 3803 \nL 500 4441 \nQ 881 4594 1212 4672 \nQ 1544 4750 1819 4750 \nQ 2544 4750 2975 4387 \nQ 3406 4025 3406 3419 \nQ 3406 3131 3298 2873 \nQ 3191 2616 2906 2266 \nQ 2828 2175 2409 1742 \nQ 1991 1309 1228 531 \nz\n\" transform=\"scale(0.015625)\"/>\n        <path id=\"DejaVuSans-34\" d=\"M 2419 4116 \nL 825 1625 \nL 2419 1625 \nL 2419 4116 \nz\nM 2253 4666 \nL 3047 4666 \nL 3047 1625 \nL 3713 1625 \nL 3713 1100 \nL 3047 1100 \nL 3047 0 \nL 2419 0 \nL 2419 1100 \nL 313 1100 \nL 313 1709 \nL 2253 4666 \nz\n\" transform=\"scale(0.015625)\"/>\n       </defs>\n       <use xlink:href=\"#DejaVuSans-31\"/>\n       <use xlink:href=\"#DejaVuSans-38\" x=\"63.623047\"/>\n       <use xlink:href=\"#DejaVuSans-2d\" x=\"127.246094\"/>\n       <use xlink:href=\"#DejaVuSans-32\" x=\"163.330078\"/>\n       <use xlink:href=\"#DejaVuSans-34\" x=\"226.953125\"/>\n      </g>\n     </g>\n    </g>\n    <g id=\"xtick_2\">\n     <g id=\"line2d_2\">\n      <g>\n       <use xlink:href=\"#mbd33ee51a4\" x=\"156.727937\" y=\"273.312\" style=\"stroke: #000000; stroke-width: 0.8\"/>\n      </g>\n     </g>\n     <g id=\"text_2\">\n      <!-- 25-34 -->\n      <g transform=\"translate(142.199031 287.910437)scale(0.1 -0.1)\">\n       <defs>\n        <path id=\"DejaVuSans-35\" d=\"M 691 4666 \nL 3169 4666 \nL 3169 4134 \nL 1269 4134 \nL 1269 2991 \nQ 1406 3038 1543 3061 \nQ 1681 3084 1819 3084 \nQ 2600 3084 3056 2656 \nQ 3513 2228 3513 1497 \nQ 3513 744 3044 326 \nQ 2575 -91 1722 -91 \nQ 1428 -91 1123 -41 \nQ 819 9 494 109 \nL 494 744 \nQ 775 591 1075 516 \nQ 1375 441 1709 441 \nQ 2250 441 2565 725 \nQ 2881 1009 2881 1497 \nQ 2881 1984 2565 2268 \nQ 2250 2553 1709 2553 \nQ 1456 2553 1204 2497 \nQ 953 2441 691 2322 \nL 691 4666 \nz\n\" transform=\"scale(0.015625)\"/>\n        <path id=\"DejaVuSans-33\" d=\"M 2597 2516 \nQ 3050 2419 3304 2112 \nQ 3559 1806 3559 1356 \nQ 3559 666 3084 287 \nQ 2609 -91 1734 -91 \nQ 1441 -91 1130 -33 \nQ 819 25 488 141 \nL 488 750 \nQ 750 597 1062 519 \nQ 1375 441 1716 441 \nQ 2309 441 2620 675 \nQ 2931 909 2931 1356 \nQ 2931 1769 2642 2001 \nQ 2353 2234 1838 2234 \nL 1294 2234 \nL 1294 2753 \nL 1863 2753 \nQ 2328 2753 2575 2939 \nQ 2822 3125 2822 3475 \nQ 2822 3834 2567 4026 \nQ 2313 4219 1838 4219 \nQ 1578 4219 1281 4162 \nQ 984 4106 628 3988 \nL 628 4550 \nQ 988 4650 1302 4700 \nQ 1616 4750 1894 4750 \nQ 2613 4750 3031 4423 \nQ 3450 4097 3450 3541 \nQ 3450 3153 3228 2886 \nQ 3006 2619 2597 2516 \nz\n\" transform=\"scale(0.015625)\"/>\n       </defs>\n       <use xlink:href=\"#DejaVuSans-32\"/>\n       <use xlink:href=\"#DejaVuSans-35\" x=\"63.623047\"/>\n       <use xlink:href=\"#DejaVuSans-2d\" x=\"127.246094\"/>\n       <use xlink:href=\"#DejaVuSans-33\" x=\"163.330078\"/>\n       <use xlink:href=\"#DejaVuSans-34\" x=\"226.953125\"/>\n      </g>\n     </g>\n    </g>\n    <g id=\"xtick_3\">\n     <g id=\"line2d_3\">\n      <g>\n       <use xlink:href=\"#mbd33ee51a4\" x=\"223.255937\" y=\"273.312\" style=\"stroke: #000000; stroke-width: 0.8\"/>\n      </g>\n     </g>\n     <g id=\"text_3\">\n      <!-- &lt;18 -->\n      <g transform=\"translate(212.703594 287.910437)scale(0.1 -0.1)\">\n       <defs>\n        <path id=\"DejaVuSans-3c\" d=\"M 4684 3150 \nL 1459 2003 \nL 4684 863 \nL 4684 294 \nL 678 1747 \nL 678 2266 \nL 4684 3719 \nL 4684 3150 \nz\n\" transform=\"scale(0.015625)\"/>\n       </defs>\n       <use xlink:href=\"#DejaVuSans-3c\"/>\n       <use xlink:href=\"#DejaVuSans-31\" x=\"83.789062\"/>\n       <use xlink:href=\"#DejaVuSans-38\" x=\"147.412109\"/>\n      </g>\n     </g>\n    </g>\n    <g id=\"xtick_4\">\n     <g id=\"line2d_4\">\n      <g>\n       <use xlink:href=\"#mbd33ee51a4\" x=\"289.783937\" y=\"273.312\" style=\"stroke: #000000; stroke-width: 0.8\"/>\n      </g>\n     </g>\n     <g id=\"text_4\">\n      <!-- &gt;35 -->\n      <g transform=\"translate(279.231594 287.910437)scale(0.1 -0.1)\">\n       <defs>\n        <path id=\"DejaVuSans-3e\" d=\"M 678 3150 \nL 678 3719 \nL 4684 2266 \nL 4684 1747 \nL 678 294 \nL 678 863 \nL 3897 2003 \nL 678 3150 \nz\n\" transform=\"scale(0.015625)\"/>\n       </defs>\n       <use xlink:href=\"#DejaVuSans-3e\"/>\n       <use xlink:href=\"#DejaVuSans-33\" x=\"83.789062\"/>\n       <use xlink:href=\"#DejaVuSans-35\" x=\"147.412109\"/>\n      </g>\n     </g>\n    </g>\n    <g id=\"text_5\">\n     <!-- Predicted label -->\n     <g transform=\"translate(152.839594 301.588562)scale(0.1 -0.1)\">\n      <defs>\n       <path id=\"DejaVuSans-50\" d=\"M 1259 4147 \nL 1259 2394 \nL 2053 2394 \nQ 2494 2394 2734 2622 \nQ 2975 2850 2975 3272 \nQ 2975 3691 2734 3919 \nQ 2494 4147 2053 4147 \nL 1259 4147 \nz\nM 628 4666 \nL 2053 4666 \nQ 2838 4666 3239 4311 \nQ 3641 3956 3641 3272 \nQ 3641 2581 3239 2228 \nQ 2838 1875 2053 1875 \nL 1259 1875 \nL 1259 0 \nL 628 0 \nL 628 4666 \nz\n\" transform=\"scale(0.015625)\"/>\n       <path id=\"DejaVuSans-72\" d=\"M 2631 2963 \nQ 2534 3019 2420 3045 \nQ 2306 3072 2169 3072 \nQ 1681 3072 1420 2755 \nQ 1159 2438 1159 1844 \nL 1159 0 \nL 581 0 \nL 581 3500 \nL 1159 3500 \nL 1159 2956 \nQ 1341 3275 1631 3429 \nQ 1922 3584 2338 3584 \nQ 2397 3584 2469 3576 \nQ 2541 3569 2628 3553 \nL 2631 2963 \nz\n\" transform=\"scale(0.015625)\"/>\n       <path id=\"DejaVuSans-65\" d=\"M 3597 1894 \nL 3597 1613 \nL 953 1613 \nQ 991 1019 1311 708 \nQ 1631 397 2203 397 \nQ 2534 397 2845 478 \nQ 3156 559 3463 722 \nL 3463 178 \nQ 3153 47 2828 -22 \nQ 2503 -91 2169 -91 \nQ 1331 -91 842 396 \nQ 353 884 353 1716 \nQ 353 2575 817 3079 \nQ 1281 3584 2069 3584 \nQ 2775 3584 3186 3129 \nQ 3597 2675 3597 1894 \nz\nM 3022 2063 \nQ 3016 2534 2758 2815 \nQ 2500 3097 2075 3097 \nQ 1594 3097 1305 2825 \nQ 1016 2553 972 2059 \nL 3022 2063 \nz\n\" transform=\"scale(0.015625)\"/>\n       <path id=\"DejaVuSans-64\" d=\"M 2906 2969 \nL 2906 4863 \nL 3481 4863 \nL 3481 0 \nL 2906 0 \nL 2906 525 \nQ 2725 213 2448 61 \nQ 2172 -91 1784 -91 \nQ 1150 -91 751 415 \nQ 353 922 353 1747 \nQ 353 2572 751 3078 \nQ 1150 3584 1784 3584 \nQ 2172 3584 2448 3432 \nQ 2725 3281 2906 2969 \nz\nM 947 1747 \nQ 947 1113 1208 752 \nQ 1469 391 1925 391 \nQ 2381 391 2643 752 \nQ 2906 1113 2906 1747 \nQ 2906 2381 2643 2742 \nQ 2381 3103 1925 3103 \nQ 1469 3103 1208 2742 \nQ 947 2381 947 1747 \nz\n\" transform=\"scale(0.015625)\"/>\n       <path id=\"DejaVuSans-69\" d=\"M 603 3500 \nL 1178 3500 \nL 1178 0 \nL 603 0 \nL 603 3500 \nz\nM 603 4863 \nL 1178 4863 \nL 1178 4134 \nL 603 4134 \nL 603 4863 \nz\n\" transform=\"scale(0.015625)\"/>\n       <path id=\"DejaVuSans-63\" d=\"M 3122 3366 \nL 3122 2828 \nQ 2878 2963 2633 3030 \nQ 2388 3097 2138 3097 \nQ 1578 3097 1268 2742 \nQ 959 2388 959 1747 \nQ 959 1106 1268 751 \nQ 1578 397 2138 397 \nQ 2388 397 2633 464 \nQ 2878 531 3122 666 \nL 3122 134 \nQ 2881 22 2623 -34 \nQ 2366 -91 2075 -91 \nQ 1284 -91 818 406 \nQ 353 903 353 1747 \nQ 353 2603 823 3093 \nQ 1294 3584 2113 3584 \nQ 2378 3584 2631 3529 \nQ 2884 3475 3122 3366 \nz\n\" transform=\"scale(0.015625)\"/>\n       <path id=\"DejaVuSans-74\" d=\"M 1172 4494 \nL 1172 3500 \nL 2356 3500 \nL 2356 3053 \nL 1172 3053 \nL 1172 1153 \nQ 1172 725 1289 603 \nQ 1406 481 1766 481 \nL 2356 481 \nL 2356 0 \nL 1766 0 \nQ 1100 0 847 248 \nQ 594 497 594 1153 \nL 594 3053 \nL 172 3053 \nL 172 3500 \nL 594 3500 \nL 594 4494 \nL 1172 4494 \nz\n\" transform=\"scale(0.015625)\"/>\n       <path id=\"DejaVuSans-20\" transform=\"scale(0.015625)\"/>\n       <path id=\"DejaVuSans-6c\" d=\"M 603 4863 \nL 1178 4863 \nL 1178 0 \nL 603 0 \nL 603 4863 \nz\n\" transform=\"scale(0.015625)\"/>\n       <path id=\"DejaVuSans-61\" d=\"M 2194 1759 \nQ 1497 1759 1228 1600 \nQ 959 1441 959 1056 \nQ 959 750 1161 570 \nQ 1363 391 1709 391 \nQ 2188 391 2477 730 \nQ 2766 1069 2766 1631 \nL 2766 1759 \nL 2194 1759 \nz\nM 3341 1997 \nL 3341 0 \nL 2766 0 \nL 2766 531 \nQ 2569 213 2275 61 \nQ 1981 -91 1556 -91 \nQ 1019 -91 701 211 \nQ 384 513 384 1019 \nQ 384 1609 779 1909 \nQ 1175 2209 1959 2209 \nL 2766 2209 \nL 2766 2266 \nQ 2766 2663 2505 2880 \nQ 2244 3097 1772 3097 \nQ 1472 3097 1187 3025 \nQ 903 2953 641 2809 \nL 641 3341 \nQ 956 3463 1253 3523 \nQ 1550 3584 1831 3584 \nQ 2591 3584 2966 3190 \nQ 3341 2797 3341 1997 \nz\n\" transform=\"scale(0.015625)\"/>\n       <path id=\"DejaVuSans-62\" d=\"M 3116 1747 \nQ 3116 2381 2855 2742 \nQ 2594 3103 2138 3103 \nQ 1681 3103 1420 2742 \nQ 1159 2381 1159 1747 \nQ 1159 1113 1420 752 \nQ 1681 391 2138 391 \nQ 2594 391 2855 752 \nQ 3116 1113 3116 1747 \nz\nM 1159 2969 \nQ 1341 3281 1617 3432 \nQ 1894 3584 2278 3584 \nQ 2916 3584 3314 3078 \nQ 3713 2572 3713 1747 \nQ 3713 922 3314 415 \nQ 2916 -91 2278 -91 \nQ 1894 -91 1617 61 \nQ 1341 213 1159 525 \nL 1159 0 \nL 581 0 \nL 581 4863 \nL 1159 4863 \nL 1159 2969 \nz\n\" transform=\"scale(0.015625)\"/>\n      </defs>\n      <use xlink:href=\"#DejaVuSans-50\"/>\n      <use xlink:href=\"#DejaVuSans-72\" x=\"58.552734\"/>\n      <use xlink:href=\"#DejaVuSans-65\" x=\"97.416016\"/>\n      <use xlink:href=\"#DejaVuSans-64\" x=\"158.939453\"/>\n      <use xlink:href=\"#DejaVuSans-69\" x=\"222.416016\"/>\n      <use xlink:href=\"#DejaVuSans-63\" x=\"250.199219\"/>\n      <use xlink:href=\"#DejaVuSans-74\" x=\"305.179688\"/>\n      <use xlink:href=\"#DejaVuSans-65\" x=\"344.388672\"/>\n      <use xlink:href=\"#DejaVuSans-64\" x=\"405.912109\"/>\n      <use xlink:href=\"#DejaVuSans-20\" x=\"469.388672\"/>\n      <use xlink:href=\"#DejaVuSans-6c\" x=\"501.175781\"/>\n      <use xlink:href=\"#DejaVuSans-61\" x=\"528.958984\"/>\n      <use xlink:href=\"#DejaVuSans-62\" x=\"590.238281\"/>\n      <use xlink:href=\"#DejaVuSans-65\" x=\"653.714844\"/>\n      <use xlink:href=\"#DejaVuSans-6c\" x=\"715.238281\"/>\n     </g>\n    </g>\n   </g>\n   <g id=\"matplotlib.axis_2\">\n    <g id=\"ytick_1\">\n     <g id=\"line2d_5\">\n      <defs>\n       <path id=\"m3a5565acb5\" d=\"M 0 0 \nL -3.5 0 \n\" style=\"stroke: #000000; stroke-width: 0.8\"/>\n      </defs>\n      <g>\n       <use xlink:href=\"#m3a5565acb5\" x=\"56.935937\" y=\"40.464\" style=\"stroke: #000000; stroke-width: 0.8\"/>\n      </g>\n     </g>\n     <g id=\"text_6\">\n      <!-- 18-24 -->\n      <g transform=\"translate(20.878125 44.263219)scale(0.1 -0.1)\">\n       <use xlink:href=\"#DejaVuSans-31\"/>\n       <use xlink:href=\"#DejaVuSans-38\" x=\"63.623047\"/>\n       <use xlink:href=\"#DejaVuSans-2d\" x=\"127.246094\"/>\n       <use xlink:href=\"#DejaVuSans-32\" x=\"163.330078\"/>\n       <use xlink:href=\"#DejaVuSans-34\" x=\"226.953125\"/>\n      </g>\n     </g>\n    </g>\n    <g id=\"ytick_2\">\n     <g id=\"line2d_6\">\n      <g>\n       <use xlink:href=\"#m3a5565acb5\" x=\"56.935937\" y=\"106.992\" style=\"stroke: #000000; stroke-width: 0.8\"/>\n      </g>\n     </g>\n     <g id=\"text_7\">\n      <!-- 25-34 -->\n      <g transform=\"translate(20.878125 110.791219)scale(0.1 -0.1)\">\n       <use xlink:href=\"#DejaVuSans-32\"/>\n       <use xlink:href=\"#DejaVuSans-35\" x=\"63.623047\"/>\n       <use xlink:href=\"#DejaVuSans-2d\" x=\"127.246094\"/>\n       <use xlink:href=\"#DejaVuSans-33\" x=\"163.330078\"/>\n       <use xlink:href=\"#DejaVuSans-34\" x=\"226.953125\"/>\n      </g>\n     </g>\n    </g>\n    <g id=\"ytick_3\">\n     <g id=\"line2d_7\">\n      <g>\n       <use xlink:href=\"#m3a5565acb5\" x=\"56.935937\" y=\"173.52\" style=\"stroke: #000000; stroke-width: 0.8\"/>\n      </g>\n     </g>\n     <g id=\"text_8\">\n      <!-- &lt;18 -->\n      <g transform=\"translate(28.83125 177.319219)scale(0.1 -0.1)\">\n       <use xlink:href=\"#DejaVuSans-3c\"/>\n       <use xlink:href=\"#DejaVuSans-31\" x=\"83.789062\"/>\n       <use xlink:href=\"#DejaVuSans-38\" x=\"147.412109\"/>\n      </g>\n     </g>\n    </g>\n    <g id=\"ytick_4\">\n     <g id=\"line2d_8\">\n      <g>\n       <use xlink:href=\"#m3a5565acb5\" x=\"56.935937\" y=\"240.048\" style=\"stroke: #000000; stroke-width: 0.8\"/>\n      </g>\n     </g>\n     <g id=\"text_9\">\n      <!-- &gt;35 -->\n      <g transform=\"translate(28.83125 243.847219)scale(0.1 -0.1)\">\n       <use xlink:href=\"#DejaVuSans-3e\"/>\n       <use xlink:href=\"#DejaVuSans-33\" x=\"83.789062\"/>\n       <use xlink:href=\"#DejaVuSans-35\" x=\"147.412109\"/>\n      </g>\n     </g>\n    </g>\n    <g id=\"text_10\">\n     <!-- True label -->\n     <g transform=\"translate(14.798437 164.555219)rotate(-90)scale(0.1 -0.1)\">\n      <defs>\n       <path id=\"DejaVuSans-54\" d=\"M -19 4666 \nL 3928 4666 \nL 3928 4134 \nL 2272 4134 \nL 2272 0 \nL 1638 0 \nL 1638 4134 \nL -19 4134 \nL -19 4666 \nz\n\" transform=\"scale(0.015625)\"/>\n       <path id=\"DejaVuSans-75\" d=\"M 544 1381 \nL 544 3500 \nL 1119 3500 \nL 1119 1403 \nQ 1119 906 1312 657 \nQ 1506 409 1894 409 \nQ 2359 409 2629 706 \nQ 2900 1003 2900 1516 \nL 2900 3500 \nL 3475 3500 \nL 3475 0 \nL 2900 0 \nL 2900 538 \nQ 2691 219 2414 64 \nQ 2138 -91 1772 -91 \nQ 1169 -91 856 284 \nQ 544 659 544 1381 \nz\nM 1991 3584 \nL 1991 3584 \nz\n\" transform=\"scale(0.015625)\"/>\n      </defs>\n      <use xlink:href=\"#DejaVuSans-54\"/>\n      <use xlink:href=\"#DejaVuSans-72\" x=\"46.333984\"/>\n      <use xlink:href=\"#DejaVuSans-75\" x=\"87.447266\"/>\n      <use xlink:href=\"#DejaVuSans-65\" x=\"150.826172\"/>\n      <use xlink:href=\"#DejaVuSans-20\" x=\"212.349609\"/>\n      <use xlink:href=\"#DejaVuSans-6c\" x=\"244.136719\"/>\n      <use xlink:href=\"#DejaVuSans-61\" x=\"271.919922\"/>\n      <use xlink:href=\"#DejaVuSans-62\" x=\"333.199219\"/>\n      <use xlink:href=\"#DejaVuSans-65\" x=\"396.675781\"/>\n      <use xlink:href=\"#DejaVuSans-6c\" x=\"458.199219\"/>\n     </g>\n    </g>\n   </g>\n   <g id=\"patch_3\">\n    <path d=\"M 56.935937 273.312 \nL 56.935937 7.2 \n\" style=\"fill: none; stroke: #000000; stroke-width: 0.8; stroke-linejoin: miter; stroke-linecap: square\"/>\n   </g>\n   <g id=\"patch_4\">\n    <path d=\"M 323.047937 273.312 \nL 323.047937 7.2 \n\" style=\"fill: none; stroke: #000000; stroke-width: 0.8; stroke-linejoin: miter; stroke-linecap: square\"/>\n   </g>\n   <g id=\"patch_5\">\n    <path d=\"M 56.935937 273.312 \nL 323.047937 273.312 \n\" style=\"fill: none; stroke: #000000; stroke-width: 0.8; stroke-linejoin: miter; stroke-linecap: square\"/>\n   </g>\n   <g id=\"patch_6\">\n    <path d=\"M 56.935937 7.2 \nL 323.047937 7.2 \n\" style=\"fill: none; stroke: #000000; stroke-width: 0.8; stroke-linejoin: miter; stroke-linecap: square\"/>\n   </g>\n   <g id=\"text_11\">\n    <!-- 955 -->\n    <g style=\"fill: #08306b\" transform=\"translate(80.656187 43.223375)scale(0.1 -0.1)\">\n     <defs>\n      <path id=\"DejaVuSans-39\" d=\"M 703 97 \nL 703 672 \nQ 941 559 1184 500 \nQ 1428 441 1663 441 \nQ 2288 441 2617 861 \nQ 2947 1281 2994 2138 \nQ 2813 1869 2534 1725 \nQ 2256 1581 1919 1581 \nQ 1219 1581 811 2004 \nQ 403 2428 403 3163 \nQ 403 3881 828 4315 \nQ 1253 4750 1959 4750 \nQ 2769 4750 3195 4129 \nQ 3622 3509 3622 2328 \nQ 3622 1225 3098 567 \nQ 2575 -91 1691 -91 \nQ 1453 -91 1209 -44 \nQ 966 3 703 97 \nz\nM 1959 2075 \nQ 2384 2075 2632 2365 \nQ 2881 2656 2881 3163 \nQ 2881 3666 2632 3958 \nQ 2384 4250 1959 4250 \nQ 1534 4250 1286 3958 \nQ 1038 3666 1038 3163 \nQ 1038 2656 1286 2365 \nQ 1534 2075 1959 2075 \nz\n\" transform=\"scale(0.015625)\"/>\n     </defs>\n     <use xlink:href=\"#DejaVuSans-39\"/>\n     <use xlink:href=\"#DejaVuSans-35\" x=\"63.623047\"/>\n     <use xlink:href=\"#DejaVuSans-35\" x=\"127.246094\"/>\n    </g>\n   </g>\n   <g id=\"text_12\">\n    <!-- 2800 -->\n    <g style=\"fill: #f7fbff\" transform=\"translate(144.002938 43.223375)scale(0.1 -0.1)\">\n     <defs>\n      <path id=\"DejaVuSans-30\" d=\"M 2034 4250 \nQ 1547 4250 1301 3770 \nQ 1056 3291 1056 2328 \nQ 1056 1369 1301 889 \nQ 1547 409 2034 409 \nQ 2525 409 2770 889 \nQ 3016 1369 3016 2328 \nQ 3016 3291 2770 3770 \nQ 2525 4250 2034 4250 \nz\nM 2034 4750 \nQ 2819 4750 3233 4129 \nQ 3647 3509 3647 2328 \nQ 3647 1150 3233 529 \nQ 2819 -91 2034 -91 \nQ 1250 -91 836 529 \nQ 422 1150 422 2328 \nQ 422 3509 836 4129 \nQ 1250 4750 2034 4750 \nz\n\" transform=\"scale(0.015625)\"/>\n     </defs>\n     <use xlink:href=\"#DejaVuSans-32\"/>\n     <use xlink:href=\"#DejaVuSans-38\" x=\"63.623047\"/>\n     <use xlink:href=\"#DejaVuSans-30\" x=\"127.246094\"/>\n     <use xlink:href=\"#DejaVuSans-30\" x=\"190.869141\"/>\n    </g>\n   </g>\n   <g id=\"text_13\">\n    <!-- 668 -->\n    <g style=\"fill: #08306b\" transform=\"translate(213.712187 43.223375)scale(0.1 -0.1)\">\n     <defs>\n      <path id=\"DejaVuSans-36\" d=\"M 2113 2584 \nQ 1688 2584 1439 2293 \nQ 1191 2003 1191 1497 \nQ 1191 994 1439 701 \nQ 1688 409 2113 409 \nQ 2538 409 2786 701 \nQ 3034 994 3034 1497 \nQ 3034 2003 2786 2293 \nQ 2538 2584 2113 2584 \nz\nM 3366 4563 \nL 3366 3988 \nQ 3128 4100 2886 4159 \nQ 2644 4219 2406 4219 \nQ 1781 4219 1451 3797 \nQ 1122 3375 1075 2522 \nQ 1259 2794 1537 2939 \nQ 1816 3084 2150 3084 \nQ 2853 3084 3261 2657 \nQ 3669 2231 3669 1497 \nQ 3669 778 3244 343 \nQ 2819 -91 2113 -91 \nQ 1303 -91 875 529 \nQ 447 1150 447 2328 \nQ 447 3434 972 4092 \nQ 1497 4750 2381 4750 \nQ 2619 4750 2861 4703 \nQ 3103 4656 3366 4563 \nz\n\" transform=\"scale(0.015625)\"/>\n     </defs>\n     <use xlink:href=\"#DejaVuSans-36\"/>\n     <use xlink:href=\"#DejaVuSans-36\" x=\"63.623047\"/>\n     <use xlink:href=\"#DejaVuSans-38\" x=\"127.246094\"/>\n    </g>\n   </g>\n   <g id=\"text_14\">\n    <!-- 564 -->\n    <g style=\"fill: #08306b\" transform=\"translate(280.240187 43.223375)scale(0.1 -0.1)\">\n     <use xlink:href=\"#DejaVuSans-35\"/>\n     <use xlink:href=\"#DejaVuSans-36\" x=\"63.623047\"/>\n     <use xlink:href=\"#DejaVuSans-34\" x=\"127.246094\"/>\n    </g>\n   </g>\n   <g id=\"text_15\">\n    <!-- 655 -->\n    <g style=\"fill: #08306b\" transform=\"translate(80.656187 109.751375)scale(0.1 -0.1)\">\n     <use xlink:href=\"#DejaVuSans-36\"/>\n     <use xlink:href=\"#DejaVuSans-35\" x=\"63.623047\"/>\n     <use xlink:href=\"#DejaVuSans-35\" x=\"127.246094\"/>\n    </g>\n   </g>\n   <g id=\"text_16\">\n    <!-- 3185 -->\n    <g style=\"fill: #f7fbff\" transform=\"translate(144.002938 109.751375)scale(0.1 -0.1)\">\n     <use xlink:href=\"#DejaVuSans-33\"/>\n     <use xlink:href=\"#DejaVuSans-31\" x=\"63.623047\"/>\n     <use xlink:href=\"#DejaVuSans-38\" x=\"127.246094\"/>\n     <use xlink:href=\"#DejaVuSans-35\" x=\"190.869141\"/>\n    </g>\n   </g>\n   <g id=\"text_17\">\n    <!-- 497 -->\n    <g style=\"fill: #08306b\" transform=\"translate(213.712187 109.751375)scale(0.1 -0.1)\">\n     <defs>\n      <path id=\"DejaVuSans-37\" d=\"M 525 4666 \nL 3525 4666 \nL 3525 4397 \nL 1831 0 \nL 1172 0 \nL 2766 4134 \nL 525 4134 \nL 525 4666 \nz\n\" transform=\"scale(0.015625)\"/>\n     </defs>\n     <use xlink:href=\"#DejaVuSans-34\"/>\n     <use xlink:href=\"#DejaVuSans-39\" x=\"63.623047\"/>\n     <use xlink:href=\"#DejaVuSans-37\" x=\"127.246094\"/>\n    </g>\n   </g>\n   <g id=\"text_18\">\n    <!-- 684 -->\n    <g style=\"fill: #08306b\" transform=\"translate(280.240187 109.751375)scale(0.1 -0.1)\">\n     <use xlink:href=\"#DejaVuSans-36\"/>\n     <use xlink:href=\"#DejaVuSans-38\" x=\"63.623047\"/>\n     <use xlink:href=\"#DejaVuSans-34\" x=\"127.246094\"/>\n    </g>\n   </g>\n   <g id=\"text_19\">\n    <!-- 348 -->\n    <g style=\"fill: #08306b\" transform=\"translate(80.656187 176.279375)scale(0.1 -0.1)\">\n     <use xlink:href=\"#DejaVuSans-33\"/>\n     <use xlink:href=\"#DejaVuSans-34\" x=\"63.623047\"/>\n     <use xlink:href=\"#DejaVuSans-38\" x=\"127.246094\"/>\n    </g>\n   </g>\n   <g id=\"text_20\">\n    <!-- 1261 -->\n    <g style=\"fill: #08306b\" transform=\"translate(144.002938 176.279375)scale(0.1 -0.1)\">\n     <use xlink:href=\"#DejaVuSans-31\"/>\n     <use xlink:href=\"#DejaVuSans-32\" x=\"63.623047\"/>\n     <use xlink:href=\"#DejaVuSans-36\" x=\"127.246094\"/>\n     <use xlink:href=\"#DejaVuSans-31\" x=\"190.869141\"/>\n    </g>\n   </g>\n   <g id=\"text_21\">\n    <!-- 3109 -->\n    <g style=\"fill: #f7fbff\" transform=\"translate(210.530937 176.279375)scale(0.1 -0.1)\">\n     <use xlink:href=\"#DejaVuSans-33\"/>\n     <use xlink:href=\"#DejaVuSans-31\" x=\"63.623047\"/>\n     <use xlink:href=\"#DejaVuSans-30\" x=\"127.246094\"/>\n     <use xlink:href=\"#DejaVuSans-39\" x=\"190.869141\"/>\n    </g>\n   </g>\n   <g id=\"text_22\">\n    <!-- 231 -->\n    <g style=\"fill: #08306b\" transform=\"translate(280.240187 176.279375)scale(0.1 -0.1)\">\n     <use xlink:href=\"#DejaVuSans-32\"/>\n     <use xlink:href=\"#DejaVuSans-33\" x=\"63.623047\"/>\n     <use xlink:href=\"#DejaVuSans-31\" x=\"127.246094\"/>\n    </g>\n   </g>\n   <g id=\"text_23\">\n    <!-- 434 -->\n    <g style=\"fill: #08306b\" transform=\"translate(80.656187 242.807375)scale(0.1 -0.1)\">\n     <use xlink:href=\"#DejaVuSans-34\"/>\n     <use xlink:href=\"#DejaVuSans-33\" x=\"63.623047\"/>\n     <use xlink:href=\"#DejaVuSans-34\" x=\"127.246094\"/>\n    </g>\n   </g>\n   <g id=\"text_24\">\n    <!-- 2492 -->\n    <g style=\"fill: #f7fbff\" transform=\"translate(144.002938 242.807375)scale(0.1 -0.1)\">\n     <use xlink:href=\"#DejaVuSans-32\"/>\n     <use xlink:href=\"#DejaVuSans-34\" x=\"63.623047\"/>\n     <use xlink:href=\"#DejaVuSans-39\" x=\"127.246094\"/>\n     <use xlink:href=\"#DejaVuSans-32\" x=\"190.869141\"/>\n    </g>\n   </g>\n   <g id=\"text_25\">\n    <!-- 327 -->\n    <g style=\"fill: #08306b\" transform=\"translate(213.712187 242.807375)scale(0.1 -0.1)\">\n     <use xlink:href=\"#DejaVuSans-33\"/>\n     <use xlink:href=\"#DejaVuSans-32\" x=\"63.623047\"/>\n     <use xlink:href=\"#DejaVuSans-37\" x=\"127.246094\"/>\n    </g>\n   </g>\n   <g id=\"text_26\">\n    <!-- 1790 -->\n    <g style=\"fill: #f7fbff\" transform=\"translate(277.058937 242.807375)scale(0.1 -0.1)\">\n     <use xlink:href=\"#DejaVuSans-31\"/>\n     <use xlink:href=\"#DejaVuSans-37\" x=\"63.623047\"/>\n     <use xlink:href=\"#DejaVuSans-39\" x=\"127.246094\"/>\n     <use xlink:href=\"#DejaVuSans-30\" x=\"190.869141\"/>\n    </g>\n   </g>\n  </g>\n  <g id=\"axes_2\">\n   <g id=\"patch_7\">\n    <path d=\"M 340.903937 273.312 \nL 354.209537 273.312 \nL 354.209537 7.2 \nL 340.903937 7.2 \nz\n\" style=\"fill: #ffffff\"/>\n   </g>\n   <g id=\"patch_8\">\n    <path clip-path=\"url(#paabd4fca54)\" style=\"fill: #ffffff; stroke: #ffffff; stroke-width: 0.01; stroke-linejoin: miter\"/>\n   </g>\n   <image xlink:href=\"data:image/png;base64,\niVBORw0KGgoAAAANSUhEUgAAABMAAAFyCAYAAAAXj+GHAAABwElEQVR4nO2cW4rtMBADfYfsf7v3YyCZNSgUpEDSAkTKcnfbOY9//3+f50D6oYzOOefinuuc6zmc2wV60WuGmokxl2ZsJsYE09RiljRHNSYnFpNsQUvzhZl5BjQ0x5ZRd5ZmbtbRHOEZwEk9A5ZmqJI01ROdNBNjLs3YTIwpTXPNMddGXa6l+cJszTE326iLtTRzsWneYJybAblYzLsDc2nmZi2vo8k1u7Vbo6QCluYLM87rXA/4aHBzJM28mEszN/NiegudvAesAnLRFcCZ0WfaimMoisneA7xr1nFDQdMUt20WkzOjMa2FLl4zstDFmB2F3jKdrAcX9ORYsmbqCqgodHPbJqcTZqXeGiWjjn1904EpThM1s94DxM3RO9GX5gszzKrmGLoZkEuM6U1z3ySJtRnwygzzapkBJWmKm2MNpnRrDDOXF1NdAajZMEMNM5cXc2uWS4x5g1cUMWZJmtrjgfoUZN0a7E97tZglaaKY2xrfmq3Qc7WkuUKP1bI1lua3ZmLMbY1vzcSY4v8k6UjzsGly3w5Fn4xes2F+aVZSASWYPRUwzFBmTO2HC9q2XbM1hplqmLm8mDsF5UIx/wDHIBugkihNwwAAAABJRU5ErkJggg==\" id=\"image3df748ef56\" transform=\"scale(1 -1)translate(0 -266.4)\" x=\"340.56\" y=\"-6.48\" width=\"13.68\" height=\"266.4\"/>\n   <g id=\"matplotlib.axis_3\">\n    <g id=\"ytick_5\">\n     <g id=\"line2d_9\">\n      <defs>\n       <path id=\"m6d6bfb712a\" d=\"M 0 0 \nL 3.5 0 \n\" style=\"stroke: #000000; stroke-width: 0.8\"/>\n      </defs>\n      <g>\n       <use xlink:href=\"#m6d6bfb712a\" x=\"354.209537\" y=\"249.079052\" style=\"stroke: #000000; stroke-width: 0.8\"/>\n      </g>\n     </g>\n     <g id=\"text_27\">\n      <!-- 500 -->\n      <g transform=\"translate(361.209537 252.878271)scale(0.1 -0.1)\">\n       <use xlink:href=\"#DejaVuSans-35\"/>\n       <use xlink:href=\"#DejaVuSans-30\" x=\"63.623047\"/>\n       <use xlink:href=\"#DejaVuSans-30\" x=\"127.246094\"/>\n      </g>\n     </g>\n    </g>\n    <g id=\"ytick_6\">\n     <g id=\"line2d_10\">\n      <g>\n       <use xlink:href=\"#m6d6bfb712a\" x=\"354.209537\" y=\"204.036398\" style=\"stroke: #000000; stroke-width: 0.8\"/>\n      </g>\n     </g>\n     <g id=\"text_28\">\n      <!-- 1000 -->\n      <g transform=\"translate(361.209537 207.835617)scale(0.1 -0.1)\">\n       <use xlink:href=\"#DejaVuSans-31\"/>\n       <use xlink:href=\"#DejaVuSans-30\" x=\"63.623047\"/>\n       <use xlink:href=\"#DejaVuSans-30\" x=\"127.246094\"/>\n       <use xlink:href=\"#DejaVuSans-30\" x=\"190.869141\"/>\n      </g>\n     </g>\n    </g>\n    <g id=\"ytick_7\">\n     <g id=\"line2d_11\">\n      <g>\n       <use xlink:href=\"#m6d6bfb712a\" x=\"354.209537\" y=\"158.993744\" style=\"stroke: #000000; stroke-width: 0.8\"/>\n      </g>\n     </g>\n     <g id=\"text_29\">\n      <!-- 1500 -->\n      <g transform=\"translate(361.209537 162.792963)scale(0.1 -0.1)\">\n       <use xlink:href=\"#DejaVuSans-31\"/>\n       <use xlink:href=\"#DejaVuSans-35\" x=\"63.623047\"/>\n       <use xlink:href=\"#DejaVuSans-30\" x=\"127.246094\"/>\n       <use xlink:href=\"#DejaVuSans-30\" x=\"190.869141\"/>\n      </g>\n     </g>\n    </g>\n    <g id=\"ytick_8\">\n     <g id=\"line2d_12\">\n      <g>\n       <use xlink:href=\"#m6d6bfb712a\" x=\"354.209537\" y=\"113.95109\" style=\"stroke: #000000; stroke-width: 0.8\"/>\n      </g>\n     </g>\n     <g id=\"text_30\">\n      <!-- 2000 -->\n      <g transform=\"translate(361.209537 117.750309)scale(0.1 -0.1)\">\n       <use xlink:href=\"#DejaVuSans-32\"/>\n       <use xlink:href=\"#DejaVuSans-30\" x=\"63.623047\"/>\n       <use xlink:href=\"#DejaVuSans-30\" x=\"127.246094\"/>\n       <use xlink:href=\"#DejaVuSans-30\" x=\"190.869141\"/>\n      </g>\n     </g>\n    </g>\n    <g id=\"ytick_9\">\n     <g id=\"line2d_13\">\n      <g>\n       <use xlink:href=\"#m6d6bfb712a\" x=\"354.209537\" y=\"68.908436\" style=\"stroke: #000000; stroke-width: 0.8\"/>\n      </g>\n     </g>\n     <g id=\"text_31\">\n      <!-- 2500 -->\n      <g transform=\"translate(361.209537 72.707655)scale(0.1 -0.1)\">\n       <use xlink:href=\"#DejaVuSans-32\"/>\n       <use xlink:href=\"#DejaVuSans-35\" x=\"63.623047\"/>\n       <use xlink:href=\"#DejaVuSans-30\" x=\"127.246094\"/>\n       <use xlink:href=\"#DejaVuSans-30\" x=\"190.869141\"/>\n      </g>\n     </g>\n    </g>\n    <g id=\"ytick_10\">\n     <g id=\"line2d_14\">\n      <g>\n       <use xlink:href=\"#m6d6bfb712a\" x=\"354.209537\" y=\"23.865782\" style=\"stroke: #000000; stroke-width: 0.8\"/>\n      </g>\n     </g>\n     <g id=\"text_32\">\n      <!-- 3000 -->\n      <g transform=\"translate(361.209537 27.665001)scale(0.1 -0.1)\">\n       <use xlink:href=\"#DejaVuSans-33\"/>\n       <use xlink:href=\"#DejaVuSans-30\" x=\"63.623047\"/>\n       <use xlink:href=\"#DejaVuSans-30\" x=\"127.246094\"/>\n       <use xlink:href=\"#DejaVuSans-30\" x=\"190.869141\"/>\n      </g>\n     </g>\n    </g>\n   </g>\n   <g id=\"LineCollection_1\"/>\n   <g id=\"patch_9\">\n    <path d=\"M 340.903937 273.312 \nL 347.556737 273.312 \nL 354.209537 273.312 \nL 354.209537 7.2 \nL 347.556737 7.2 \nL 340.903937 7.2 \nL 340.903937 273.312 \nz\n\" style=\"fill: none; stroke: #000000; stroke-width: 0.8; stroke-linejoin: miter; stroke-linecap: square\"/>\n   </g>\n  </g>\n </g>\n <defs>\n  <clipPath id=\"pcea427b607\">\n   <rect x=\"56.935937\" y=\"7.2\" width=\"266.112\" height=\"266.112\"/>\n  </clipPath>\n  <clipPath id=\"paabd4fca54\">\n   <rect x=\"340.903937\" y=\"7.2\" width=\"13.3056\" height=\"266.112\"/>\n  </clipPath>\n </defs>\n</svg>\n",
      "text/plain": [
       "<Figure size 640x480 with 2 Axes>"
      ]
     },
     "metadata": {},
     "output_type": "display_data"
    }
   ],
   "source": [
    "cm = confusion_matrix(y_test, y_pred, labels=gs.classes_)\n",
    "disp = ConfusionMatrixDisplay(confusion_matrix=cm, display_labels=gs.classes_)\n",
    "disp.display_labels = encoded_labels\n",
    "disp.plot(cmap='Blues');"
   ]
  },
  {
   "cell_type": "code",
   "execution_count": 52,
   "metadata": {},
   "outputs": [
    {
     "data": {
      "text/plain": [
       "['age_liwc.joblib']"
      ]
     },
     "execution_count": 52,
     "metadata": {},
     "output_type": "execute_result"
    }
   ],
   "source": [
    "joblib.dump(gs, 'age_liwc.joblib')"
   ]
  }
 ],
 "metadata": {
  "kernelspec": {
   "display_name": "Python 3.9.12 ('venv': venv)",
   "language": "python",
   "name": "python3"
  },
  "language_info": {
   "codemirror_mode": {
    "name": "ipython",
    "version": 3
   },
   "file_extension": ".py",
   "mimetype": "text/x-python",
   "name": "python",
   "nbconvert_exporter": "python",
   "pygments_lexer": "ipython3",
   "version": "3.9.12"
  },
  "orig_nbformat": 4,
  "vscode": {
   "interpreter": {
    "hash": "335b106b47b2bcd9da9ca8ce98e9b11f8221c8e3cc513a768d0905476daf8937"
   }
  }
 },
 "nbformat": 4,
 "nbformat_minor": 2
}
