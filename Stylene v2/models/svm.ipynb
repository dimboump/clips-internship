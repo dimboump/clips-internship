{
 "cells": [
  {
   "cell_type": "code",
   "execution_count": 1,
   "metadata": {},
   "outputs": [],
   "source": [
    "import pandas as pd\n",
    "import numpy as np\n",
    "from matplotlib import pyplot as plt\n",
    "\n",
    "from sklearn.preprocessing import LabelEncoder\n",
    "from sklearn.feature_extraction.text import TfidfVectorizer\n",
    "from sklearn.model_selection import train_test_split\n",
    "from sklearn.svm import SVC\n",
    "from sklearn.pipeline import make_pipeline\n",
    "from sklearn.model_selection import GridSearchCV\n",
    "from sklearn.metrics import classification_report, confusion_matrix, ConfusionMatrixDisplay"
   ]
  },
  {
   "cell_type": "code",
   "execution_count": 2,
   "metadata": {},
   "outputs": [
    {
     "data": {
      "text/html": [
       "<div>\n",
       "<style scoped>\n",
       "    .dataframe tbody tr th:only-of-type {\n",
       "        vertical-align: middle;\n",
       "    }\n",
       "\n",
       "    .dataframe tbody tr th {\n",
       "        vertical-align: top;\n",
       "    }\n",
       "\n",
       "    .dataframe thead th {\n",
       "        text-align: right;\n",
       "    }\n",
       "</style>\n",
       "<table border=\"1\" class=\"dataframe\">\n",
       "  <thead>\n",
       "    <tr style=\"text-align: right;\">\n",
       "      <th></th>\n",
       "      <th>author</th>\n",
       "      <th>gender</th>\n",
       "      <th>age_group</th>\n",
       "      <th>documents</th>\n",
       "      <th>semicleaned</th>\n",
       "      <th>tokenized</th>\n",
       "      <th>pos_fw</th>\n",
       "    </tr>\n",
       "  </thead>\n",
       "  <tbody>\n",
       "    <tr>\n",
       "      <th>5819</th>\n",
       "      <td>9f4ca5ba</td>\n",
       "      <td>M</td>\n",
       "      <td>50-XX</td>\n",
       "      <td>well, i've mown the lawn, done my email, duste...</td>\n",
       "      <td>well, i've mown the lawn, done my email, duste...</td>\n",
       "      <td>well , I 've mow the lawn , do my email , dust...</td>\n",
       "      <td>well , I ' AUX VERB the NOUN , do my NOUN , VE...</td>\n",
       "    </tr>\n",
       "    <tr>\n",
       "      <th>9602</th>\n",
       "      <td>2aa1a2fb</td>\n",
       "      <td>M</td>\n",
       "      <td>18-24</td>\n",
       "      <td>I don't want to be awake right now ????\\t\\t</td>\n",
       "      <td>i don't want to be awake right now ?</td>\n",
       "      <td>I do not want to be awake right now ?</td>\n",
       "      <td>I do not VERB to be ADJ ADV now ?</td>\n",
       "    </tr>\n",
       "    <tr>\n",
       "      <th>2356</th>\n",
       "      <td>f28ad171</td>\n",
       "      <td>F</td>\n",
       "      <td>35-49</td>\n",
       "      <td>Fountain of Youth: Do HGH Pills Work? http://t...</td>\n",
       "      <td>fountain of youth: do hgh pills work?</td>\n",
       "      <td>fountain of youth : do hgh pill work ?</td>\n",
       "      <td>NOUN of NOUN : do NOUN NOUN NOUN ?</td>\n",
       "    </tr>\n",
       "    <tr>\n",
       "      <th>6891</th>\n",
       "      <td>2b27ab92</td>\n",
       "      <td>M</td>\n",
       "      <td>25-34</td>\n",
       "      <td>Are You Ready for the Changes Coming to Social...</td>\n",
       "      <td>are you ready for the changes coming to social...</td>\n",
       "      <td>be you ready for the change come to social med...</td>\n",
       "      <td>be you ADJ for the NOUN VERB to ADJ NOUN ? via</td>\n",
       "    </tr>\n",
       "    <tr>\n",
       "      <th>8525</th>\n",
       "      <td>b172e999</td>\n",
       "      <td>M</td>\n",
       "      <td>25-34</td>\n",
       "      <td>LEO = Low Earth Orbit\\nMEO = Medium Earth Orbi...</td>\n",
       "      <td>leo = low earth orbit meo = medium earth orbit...</td>\n",
       "      <td>leo = low earth orbit meo = medium earth orbit...</td>\n",
       "      <td>PROPN PROPN ADJ NOUN NOUN NOUN PUNCT ADJ NOUN ...</td>\n",
       "    </tr>\n",
       "    <tr>\n",
       "      <th>5586</th>\n",
       "      <td>18fc8412</td>\n",
       "      <td>F</td>\n",
       "      <td>18-24</td>\n",
       "      <td>Thank you!!!! :D RT @username: @username YUUUU...</td>\n",
       "      <td>thank you! :d rt : yuuuuukieeeeee happy bday!</td>\n",
       "      <td>thank you ! : d rt : yuuuuukieeeeee happy bday !</td>\n",
       "      <td>VERB you ! : X NOUN : NOUN ADJ PROPN !</td>\n",
       "    </tr>\n",
       "    <tr>\n",
       "      <th>14030</th>\n",
       "      <td>e11d4b1e</td>\n",
       "      <td>M</td>\n",
       "      <td>25-34</td>\n",
       "      <td>I'm at La Pescadorita (Humboldt 1905, Costa Ri...</td>\n",
       "      <td>i'm at la pescadorita (humboldt 1905, costa ri...</td>\n",
       "      <td>I be at la pescadorita ( humboldt 1905 , costa...</td>\n",
       "      <td>I be at PROPN PROPN ( PROPN NUM , PROPN PROPN ...</td>\n",
       "    </tr>\n",
       "    <tr>\n",
       "      <th>6087</th>\n",
       "      <td>99710477</td>\n",
       "      <td>M</td>\n",
       "      <td>25-34</td>\n",
       "      <td>Strike while the iron is hot...\\t\\t</td>\n",
       "      <td>strike while the iron is hot.</td>\n",
       "      <td>strike while the iron be hot .</td>\n",
       "      <td>VERB while the NOUN be ADJ .</td>\n",
       "    </tr>\n",
       "    <tr>\n",
       "      <th>12893</th>\n",
       "      <td>c657394c</td>\n",
       "      <td>F</td>\n",
       "      <td>35-49</td>\n",
       "      <td>Kale is the new bacon #LOL\\t\\t</td>\n",
       "      <td>kale is the new bacon</td>\n",
       "      <td>kale be the new bacon</td>\n",
       "      <td>PROPN be the ADJ NOUN</td>\n",
       "    </tr>\n",
       "    <tr>\n",
       "      <th>7124</th>\n",
       "      <td>fd7c89ad</td>\n",
       "      <td>F</td>\n",
       "      <td>18-24</td>\n",
       "      <td>Hufflepuff'a girsem Hogwarts'tan mezun oldum b...</td>\n",
       "      <td>hufflepuff'a girsem hogwarts'tan mezun oldum b...</td>\n",
       "      <td>hufflepuff'a girsem hogwarts'tan mezun oldum b...</td>\n",
       "      <td>ADJ NOUN PROPN NOUN ADJ PROPN PROPN PROPN .</td>\n",
       "    </tr>\n",
       "  </tbody>\n",
       "</table>\n",
       "</div>"
      ],
      "text/plain": [
       "         author gender age_group  \\\n",
       "5819   9f4ca5ba      M     50-XX   \n",
       "9602   2aa1a2fb      M     18-24   \n",
       "2356   f28ad171      F     35-49   \n",
       "6891   2b27ab92      M     25-34   \n",
       "8525   b172e999      M     25-34   \n",
       "5586   18fc8412      F     18-24   \n",
       "14030  e11d4b1e      M     25-34   \n",
       "6087   99710477      M     25-34   \n",
       "12893  c657394c      F     35-49   \n",
       "7124   fd7c89ad      F     18-24   \n",
       "\n",
       "                                               documents  \\\n",
       "5819   well, i've mown the lawn, done my email, duste...   \n",
       "9602         I don't want to be awake right now ????\\t\\t   \n",
       "2356   Fountain of Youth: Do HGH Pills Work? http://t...   \n",
       "6891   Are You Ready for the Changes Coming to Social...   \n",
       "8525   LEO = Low Earth Orbit\\nMEO = Medium Earth Orbi...   \n",
       "5586   Thank you!!!! :D RT @username: @username YUUUU...   \n",
       "14030  I'm at La Pescadorita (Humboldt 1905, Costa Ri...   \n",
       "6087                 Strike while the iron is hot...\\t\\t   \n",
       "12893                     Kale is the new bacon #LOL\\t\\t   \n",
       "7124   Hufflepuff'a girsem Hogwarts'tan mezun oldum b...   \n",
       "\n",
       "                                             semicleaned  \\\n",
       "5819   well, i've mown the lawn, done my email, duste...   \n",
       "9602               i don't want to be awake right now ?    \n",
       "2356              fountain of youth: do hgh pills work?    \n",
       "6891   are you ready for the changes coming to social...   \n",
       "8525   leo = low earth orbit meo = medium earth orbit...   \n",
       "5586      thank you! :d rt : yuuuuukieeeeee happy bday!    \n",
       "14030  i'm at la pescadorita (humboldt 1905, costa ri...   \n",
       "6087                      strike while the iron is hot.    \n",
       "12893                             kale is the new bacon    \n",
       "7124   hufflepuff'a girsem hogwarts'tan mezun oldum b...   \n",
       "\n",
       "                                               tokenized  \\\n",
       "5819   well , I 've mow the lawn , do my email , dust...   \n",
       "9602               I do not want to be awake right now ?   \n",
       "2356              fountain of youth : do hgh pill work ?   \n",
       "6891   be you ready for the change come to social med...   \n",
       "8525   leo = low earth orbit meo = medium earth orbit...   \n",
       "5586    thank you ! : d rt : yuuuuukieeeeee happy bday !   \n",
       "14030  I be at la pescadorita ( humboldt 1905 , costa...   \n",
       "6087                      strike while the iron be hot .   \n",
       "12893                              kale be the new bacon   \n",
       "7124   hufflepuff'a girsem hogwarts'tan mezun oldum b...   \n",
       "\n",
       "                                                  pos_fw  \n",
       "5819   well , I ' AUX VERB the NOUN , do my NOUN , VE...  \n",
       "9602                   I do not VERB to be ADJ ADV now ?  \n",
       "2356                  NOUN of NOUN : do NOUN NOUN NOUN ?  \n",
       "6891      be you ADJ for the NOUN VERB to ADJ NOUN ? via  \n",
       "8525   PROPN PROPN ADJ NOUN NOUN NOUN PUNCT ADJ NOUN ...  \n",
       "5586              VERB you ! : X NOUN : NOUN ADJ PROPN !  \n",
       "14030  I be at PROPN PROPN ( PROPN NUM , PROPN PROPN ...  \n",
       "6087                        VERB while the NOUN be ADJ .  \n",
       "12893                              PROPN be the ADJ NOUN  \n",
       "7124         ADJ NOUN PROPN NOUN ADJ PROPN PROPN PROPN .  "
      ]
     },
     "execution_count": 2,
     "metadata": {},
     "output_type": "execute_result"
    }
   ],
   "source": [
    "pan15 = pd.read_csv('../datasets/pan15_semicleaned.tsv' , sep='\\t')\n",
    "pan15.sample(10)"
   ]
  },
  {
   "cell_type": "code",
   "execution_count": 4,
   "metadata": {},
   "outputs": [
    {
     "data": {
      "text/plain": [
       "(14166, 3)"
      ]
     },
     "execution_count": 4,
     "metadata": {},
     "output_type": "execute_result"
    }
   ],
   "source": [
    "pan15 = pan15[['gender', 'age_group', 'pos_fw']]\n",
    "pan15.shape"
   ]
  },
  {
   "cell_type": "code",
   "execution_count": 75,
   "metadata": {},
   "outputs": [
    {
     "data": {
      "text/plain": [
       "25-34    5616\n",
       "18-24    5588\n",
       "35-49    1865\n",
       "50-XX    1088\n",
       "Name: age_group, dtype: int64"
      ]
     },
     "execution_count": 75,
     "metadata": {},
     "output_type": "execute_result"
    }
   ],
   "source": [
    "pan15['age_group'].value_counts()"
   ]
  },
  {
   "cell_type": "code",
   "execution_count": 6,
   "metadata": {},
   "outputs": [
    {
     "data": {
      "text/html": [
       "<div>\n",
       "<style scoped>\n",
       "    .dataframe tbody tr th:only-of-type {\n",
       "        vertical-align: middle;\n",
       "    }\n",
       "\n",
       "    .dataframe tbody tr th {\n",
       "        vertical-align: top;\n",
       "    }\n",
       "\n",
       "    .dataframe thead th {\n",
       "        text-align: right;\n",
       "    }\n",
       "</style>\n",
       "<table border=\"1\" class=\"dataframe\">\n",
       "  <thead>\n",
       "    <tr style=\"text-align: right;\">\n",
       "      <th></th>\n",
       "      <th>gender</th>\n",
       "      <th>age_group</th>\n",
       "      <th>pos_fw</th>\n",
       "    </tr>\n",
       "  </thead>\n",
       "  <tbody>\n",
       "    <tr>\n",
       "      <th>8940</th>\n",
       "      <td>1</td>\n",
       "      <td>0</td>\n",
       "      <td>ADJ NOUN PROPN PROPN I for NOUN ( NOUN )</td>\n",
       "    </tr>\n",
       "    <tr>\n",
       "      <th>11789</th>\n",
       "      <td>0</td>\n",
       "      <td>0</td>\n",
       "      <td>VERB at the NOUN VERB how they VERB for PROPN !</td>\n",
       "    </tr>\n",
       "    <tr>\n",
       "      <th>10766</th>\n",
       "      <td>1</td>\n",
       "      <td>0</td>\n",
       "      <td>NOUN should be a NOUN 's ADJ NOUN , VERB we .</td>\n",
       "    </tr>\n",
       "    <tr>\n",
       "      <th>2210</th>\n",
       "      <td>1</td>\n",
       "      <td>0</td>\n",
       "      <td>\" : VERB I to be she . for VERB you VERB PROPN ?</td>\n",
       "    </tr>\n",
       "    <tr>\n",
       "      <th>10333</th>\n",
       "      <td>0</td>\n",
       "      <td>3</td>\n",
       "      <td>everywhere you go - NOUN in ADJ NOUN : via - y...</td>\n",
       "    </tr>\n",
       "  </tbody>\n",
       "</table>\n",
       "</div>"
      ],
      "text/plain": [
       "       gender  age_group                                             pos_fw\n",
       "8940        1          0           ADJ NOUN PROPN PROPN I for NOUN ( NOUN )\n",
       "11789       0          0    VERB at the NOUN VERB how they VERB for PROPN !\n",
       "10766       1          0      NOUN should be a NOUN 's ADJ NOUN , VERB we .\n",
       "2210        1          0   \" : VERB I to be she . for VERB you VERB PROPN ?\n",
       "10333       0          3  everywhere you go - NOUN in ADJ NOUN : via - y..."
      ]
     },
     "execution_count": 6,
     "metadata": {},
     "output_type": "execute_result"
    }
   ],
   "source": [
    "enc = LabelEncoder()\n",
    "pan15['gender'] = enc.fit_transform(pan15['gender'])\n",
    "pan15['age_group'] = enc.fit_transform(pan15['age_group'])\n",
    "\n",
    "pan15.sample(5)"
   ]
  },
  {
   "cell_type": "code",
   "execution_count": 11,
   "metadata": {},
   "outputs": [
    {
     "name": "stdout",
     "output_type": "stream",
     "text": [
      "(14166, 3)\n",
      "(14157, 3)\n"
     ]
    }
   ],
   "source": [
    "print(pan15.shape)\n",
    "pan15.dropna(inplace=True)\n",
    "print(pan15.shape)"
   ]
  },
  {
   "cell_type": "markdown",
   "metadata": {},
   "source": [
    "## Gender classification"
   ]
  },
  {
   "cell_type": "code",
   "execution_count": 25,
   "metadata": {},
   "outputs": [
    {
     "data": {
      "text/plain": [
       "((11325,), (2832,), (11325,), (2832,))"
      ]
     },
     "execution_count": 25,
     "metadata": {},
     "output_type": "execute_result"
    }
   ],
   "source": [
    "X = pan15['pos_fw']\n",
    "y = pan15['gender']\n",
    "\n",
    "X_train, X_test, y_train, y_test = train_test_split(X, y, test_size=.2, shuffle=True, random_state=97, stratify=y)\n",
    "X_train.shape, X_test.shape, y_train.shape, y_test.shape"
   ]
  },
  {
   "cell_type": "code",
   "execution_count": 33,
   "metadata": {},
   "outputs": [
    {
     "data": {
      "text/plain": [
       "{'memory': None,\n",
       " 'steps': [('tfidfvectorizer', TfidfVectorizer()),\n",
       "  ('svc', SVC(kernel='linear'))],\n",
       " 'verbose': False,\n",
       " 'tfidfvectorizer': TfidfVectorizer(),\n",
       " 'svc': SVC(kernel='linear'),\n",
       " 'tfidfvectorizer__analyzer': 'word',\n",
       " 'tfidfvectorizer__binary': False,\n",
       " 'tfidfvectorizer__decode_error': 'strict',\n",
       " 'tfidfvectorizer__dtype': numpy.float64,\n",
       " 'tfidfvectorizer__encoding': 'utf-8',\n",
       " 'tfidfvectorizer__input': 'content',\n",
       " 'tfidfvectorizer__lowercase': True,\n",
       " 'tfidfvectorizer__max_df': 1.0,\n",
       " 'tfidfvectorizer__max_features': None,\n",
       " 'tfidfvectorizer__min_df': 1,\n",
       " 'tfidfvectorizer__ngram_range': (1, 1),\n",
       " 'tfidfvectorizer__norm': 'l2',\n",
       " 'tfidfvectorizer__preprocessor': None,\n",
       " 'tfidfvectorizer__smooth_idf': True,\n",
       " 'tfidfvectorizer__stop_words': None,\n",
       " 'tfidfvectorizer__strip_accents': None,\n",
       " 'tfidfvectorizer__sublinear_tf': False,\n",
       " 'tfidfvectorizer__token_pattern': '(?u)\\\\b\\\\w\\\\w+\\\\b',\n",
       " 'tfidfvectorizer__tokenizer': None,\n",
       " 'tfidfvectorizer__use_idf': True,\n",
       " 'tfidfvectorizer__vocabulary': None,\n",
       " 'svc__C': 1.0,\n",
       " 'svc__break_ties': False,\n",
       " 'svc__cache_size': 200,\n",
       " 'svc__class_weight': None,\n",
       " 'svc__coef0': 0.0,\n",
       " 'svc__decision_function_shape': 'ovr',\n",
       " 'svc__degree': 3,\n",
       " 'svc__gamma': 'scale',\n",
       " 'svc__kernel': 'linear',\n",
       " 'svc__max_iter': -1,\n",
       " 'svc__probability': False,\n",
       " 'svc__random_state': None,\n",
       " 'svc__shrinking': True,\n",
       " 'svc__tol': 0.001,\n",
       " 'svc__verbose': False}"
      ]
     },
     "execution_count": 33,
     "metadata": {},
     "output_type": "execute_result"
    }
   ],
   "source": [
    "vect = TfidfVectorizer()\n",
    "svm = SVC(kernel='linear')\n",
    "\n",
    "pipe = make_pipeline(vect, svm)\n",
    "pipe.get_params()"
   ]
  },
  {
   "cell_type": "code",
   "execution_count": 34,
   "metadata": {},
   "outputs": [],
   "source": [
    "param_grid = {\n",
    "    'verbose': [2],\n",
    "    'tfidfvectorizer__ngram_range': [(2, 3)],\n",
    "    'svc__C': [0.001, 0.01, 0.1, 1, 10, 100],\n",
    "    'svc__gamma': [0.001, 0.01, 0.1, 1, 10, 100],\n",
    "}"
   ]
  },
  {
   "cell_type": "code",
   "execution_count": 35,
   "metadata": {},
   "outputs": [
    {
     "name": "stdout",
     "output_type": "stream",
     "text": [
      "Fitting 5 folds for each of 36 candidates, totalling 180 fits\n",
      "[Pipeline] ... (step 1 of 2) Processing tfidfvectorizer, total=   0.9s\n",
      "[Pipeline] ............... (step 2 of 2) Processing svc, total=  43.4s\n",
      "\n",
      "--------------------------------------------------\n",
      "Best parameters: {'svc__C': 1, 'svc__gamma': 0.001, 'tfidfvectorizer__ngram_range': (2, 3), 'verbose': 2}\n",
      "0.584507823488914\n",
      "Pipeline(steps=[('tfidfvectorizer', TfidfVectorizer(ngram_range=(2, 3))),\n",
      "                ('svc', SVC(C=1, gamma=0.001, kernel='linear'))],\n",
      "         verbose=2)\n"
     ]
    }
   ],
   "source": [
    "gs = GridSearchCV(pipe, param_grid, cv=5, scoring='f1_macro', n_jobs=-1, verbose=3, refit=True)\n",
    "gs.fit(X_train, y_train)\n",
    "print(f'\\n' + '-' * 50)\n",
    "print('Best parameters:', gs.best_params_)\n",
    "print('Best score:', gs.best_score_)"
   ]
  },
  {
   "cell_type": "code",
   "execution_count": 37,
   "metadata": {},
   "outputs": [
    {
     "name": "stdout",
     "output_type": "stream",
     "text": [
      "              precision    recall  f1-score   support\n",
      "\n",
      "           0       0.61      0.63      0.62      1435\n",
      "           1       0.60      0.58      0.59      1397\n",
      "\n",
      "    accuracy                           0.61      2832\n",
      "   macro avg       0.61      0.61      0.61      2832\n",
      "weighted avg       0.61      0.61      0.61      2832\n",
      "\n"
     ]
    },
    {
     "data": {
      "image/png": "[encoded data removed]",
      "text/plain": [
       "<Figure size 640x480 with 2 Axes>"
      ]
     },
     "metadata": {},
     "output_type": "display_data"
    }
   ],
   "source": [
    "y_test_pred = gs.predict(X_test)\n",
    "print(classification_report(y_test, y_test_pred))\n",
    "\n",
    "cm = confusion_matrix(y_test, y_test_pred, labels=gs.classes_)\n",
    "disp = ConfusionMatrixDisplay(confusion_matrix=cm, display_labels=gs.classes_)\n",
    "disp.plot();"
   ]
  },
  {
   "cell_type": "markdown",
   "metadata": {},
   "source": [
    "### On tokenized data"
   ]
  },
  {
   "cell_type": "code",
   "execution_count": 68,
   "metadata": {},
   "outputs": [
    {
     "data": {
      "text/plain": [
       "((11325,), (2832,), (11325,), (2832,))"
      ]
     },
     "execution_count": 68,
     "metadata": {},
     "output_type": "execute_result"
    }
   ],
   "source": [
    "X = pan15['tokenized']\n",
    "y = pan15['gender']\n",
    "\n",
    "X_train, X_test, y_train, y_test = train_test_split(X, y, test_size=.2, shuffle=True, random_state=97, stratify=y)\n",
    "X_train.shape, X_test.shape, y_train.shape, y_test.shape"
   ]
  },
  {
   "cell_type": "code",
   "execution_count": 69,
   "metadata": {},
   "outputs": [
    {
     "data": {
      "text/plain": [
       "{'memory': None,\n",
       " 'steps': [('tfidfvectorizer', TfidfVectorizer()),\n",
       "  ('svc', SVC(kernel='linear'))],\n",
       " 'verbose': False,\n",
       " 'tfidfvectorizer': TfidfVectorizer(),\n",
       " 'svc': SVC(kernel='linear'),\n",
       " 'tfidfvectorizer__analyzer': 'word',\n",
       " 'tfidfvectorizer__binary': False,\n",
       " 'tfidfvectorizer__decode_error': 'strict',\n",
       " 'tfidfvectorizer__dtype': numpy.float64,\n",
       " 'tfidfvectorizer__encoding': 'utf-8',\n",
       " 'tfidfvectorizer__input': 'content',\n",
       " 'tfidfvectorizer__lowercase': True,\n",
       " 'tfidfvectorizer__max_df': 1.0,\n",
       " 'tfidfvectorizer__max_features': None,\n",
       " 'tfidfvectorizer__min_df': 1,\n",
       " 'tfidfvectorizer__ngram_range': (1, 1),\n",
       " 'tfidfvectorizer__norm': 'l2',\n",
       " 'tfidfvectorizer__preprocessor': None,\n",
       " 'tfidfvectorizer__smooth_idf': True,\n",
       " 'tfidfvectorizer__stop_words': None,\n",
       " 'tfidfvectorizer__strip_accents': None,\n",
       " 'tfidfvectorizer__sublinear_tf': False,\n",
       " 'tfidfvectorizer__token_pattern': '(?u)\\\\b\\\\w\\\\w+\\\\b',\n",
       " 'tfidfvectorizer__tokenizer': None,\n",
       " 'tfidfvectorizer__use_idf': True,\n",
       " 'tfidfvectorizer__vocabulary': None,\n",
       " 'svc__C': 1.0,\n",
       " 'svc__break_ties': False,\n",
       " 'svc__cache_size': 200,\n",
       " 'svc__class_weight': None,\n",
       " 'svc__coef0': 0.0,\n",
       " 'svc__decision_function_shape': 'ovr',\n",
       " 'svc__degree': 3,\n",
       " 'svc__gamma': 'scale',\n",
       " 'svc__kernel': 'linear',\n",
       " 'svc__max_iter': -1,\n",
       " 'svc__probability': False,\n",
       " 'svc__random_state': None,\n",
       " 'svc__shrinking': True,\n",
       " 'svc__tol': 0.001,\n",
       " 'svc__verbose': False}"
      ]
     },
     "execution_count": 69,
     "metadata": {},
     "output_type": "execute_result"
    }
   ],
   "source": [
    "vect = TfidfVectorizer()\n",
    "svm = SVC(kernel='linear')\n",
    "\n",
    "pipe = make_pipeline(vect, svm)\n",
    "pipe.get_params()"
   ]
  },
  {
   "cell_type": "code",
   "execution_count": 70,
   "metadata": {},
   "outputs": [],
   "source": [
    "param_grid = {\n",
    "    'verbose': [2],\n",
    "    'tfidfvectorizer__ngram_range': [(2, 3)],\n",
    "    'svc__C': [0.001, 0.01, 0.1, 1, 10, 100],\n",
    "    'svc__gamma': [0.001, 0.01, 0.1, 1, 10, 100],\n",
    "}"
   ]
  },
  {
   "cell_type": "code",
   "execution_count": 71,
   "metadata": {},
   "outputs": [
    {
     "name": "stdout",
     "output_type": "stream",
     "text": [
      "Fitting 5 folds for each of 36 candidates, totalling 180 fits\n",
      "[Pipeline] ... (step 1 of 2) Processing tfidfvectorizer, total=   1.0s\n",
      "[Pipeline] ............... (step 2 of 2) Processing svc, total=  57.2s\n",
      "\n",
      "--------------------------------------------------\n",
      "Best parameters: {'svc__C': 1, 'svc__gamma': 0.001, 'tfidfvectorizer__ngram_range': (2, 3), 'verbose': 2}\n",
      "Best score: 0.614367867398095\n"
     ]
    }
   ],
   "source": [
    "gs = GridSearchCV(pipe, param_grid, cv=5, scoring='f1_macro', n_jobs=-1, verbose=3, refit=True)\n",
    "gs.fit(X_train, y_train)\n",
    "print(f'\\n' + '-' * 50)\n",
    "print('Best parameters:', gs.best_params_)\n",
    "print('Best score:', gs.best_score_)"
   ]
  },
  {
   "cell_type": "code",
   "execution_count": 72,
   "metadata": {},
   "outputs": [
    {
     "name": "stdout",
     "output_type": "stream",
     "text": [
      "              precision    recall  f1-score   support\n",
      "\n",
      "           F       0.64      0.59      0.61      1435\n",
      "           M       0.61      0.65      0.63      1397\n",
      "\n",
      "    accuracy                           0.62      2832\n",
      "   macro avg       0.62      0.62      0.62      2832\n",
      "weighted avg       0.62      0.62      0.62      2832\n",
      "\n"
     ]
    },
    {
     "data": {
      "image/png": "[encoded data removed]",
      "text/plain": [
       "<Figure size 640x480 with 2 Axes>"
      ]
     },
     "metadata": {},
     "output_type": "display_data"
    }
   ],
   "source": [
    "y_test_pred = gs.predict(X_test)\n",
    "print(classification_report(y_test, y_test_pred))\n",
    "\n",
    "cm = confusion_matrix(y_test, y_test_pred, labels=gs.classes_)\n",
    "disp = ConfusionMatrixDisplay(confusion_matrix=cm, display_labels=gs.classes_)\n",
    "disp.plot();"
   ]
  },
  {
   "cell_type": "markdown",
   "metadata": {},
   "source": [
    "## Age group classification"
   ]
  },
  {
   "cell_type": "code",
   "execution_count": 38,
   "metadata": {},
   "outputs": [
    {
     "data": {
      "text/plain": [
       "((11325,), (2832,), (11325,), (2832,))"
      ]
     },
     "execution_count": 38,
     "metadata": {},
     "output_type": "execute_result"
    }
   ],
   "source": [
    "X = pan15['pos_fw']\n",
    "y = pan15['age_group']\n",
    "\n",
    "X_train, X_test, y_train, y_test = train_test_split(X, y, test_size=.2, shuffle=True, random_state=97, stratify=y)\n",
    "X_train.shape, X_test.shape, y_train.shape, y_test.shape"
   ]
  },
  {
   "cell_type": "code",
   "execution_count": 39,
   "metadata": {},
   "outputs": [
    {
     "data": {
      "text/plain": [
       "{'memory': None,\n",
       " 'steps': [('tfidfvectorizer', TfidfVectorizer()),\n",
       "  ('svc', SVC(kernel='linear'))],\n",
       " 'verbose': False,\n",
       " 'tfidfvectorizer': TfidfVectorizer(),\n",
       " 'svc': SVC(kernel='linear'),\n",
       " 'tfidfvectorizer__analyzer': 'word',\n",
       " 'tfidfvectorizer__binary': False,\n",
       " 'tfidfvectorizer__decode_error': 'strict',\n",
       " 'tfidfvectorizer__dtype': numpy.float64,\n",
       " 'tfidfvectorizer__encoding': 'utf-8',\n",
       " 'tfidfvectorizer__input': 'content',\n",
       " 'tfidfvectorizer__lowercase': True,\n",
       " 'tfidfvectorizer__max_df': 1.0,\n",
       " 'tfidfvectorizer__max_features': None,\n",
       " 'tfidfvectorizer__min_df': 1,\n",
       " 'tfidfvectorizer__ngram_range': (1, 1),\n",
       " 'tfidfvectorizer__norm': 'l2',\n",
       " 'tfidfvectorizer__preprocessor': None,\n",
       " 'tfidfvectorizer__smooth_idf': True,\n",
       " 'tfidfvectorizer__stop_words': None,\n",
       " 'tfidfvectorizer__strip_accents': None,\n",
       " 'tfidfvectorizer__sublinear_tf': False,\n",
       " 'tfidfvectorizer__token_pattern': '(?u)\\\\b\\\\w\\\\w+\\\\b',\n",
       " 'tfidfvectorizer__tokenizer': None,\n",
       " 'tfidfvectorizer__use_idf': True,\n",
       " 'tfidfvectorizer__vocabulary': None,\n",
       " 'svc__C': 1.0,\n",
       " 'svc__break_ties': False,\n",
       " 'svc__cache_size': 200,\n",
       " 'svc__class_weight': None,\n",
       " 'svc__coef0': 0.0,\n",
       " 'svc__decision_function_shape': 'ovr',\n",
       " 'svc__degree': 3,\n",
       " 'svc__gamma': 'scale',\n",
       " 'svc__kernel': 'linear',\n",
       " 'svc__max_iter': -1,\n",
       " 'svc__probability': False,\n",
       " 'svc__random_state': None,\n",
       " 'svc__shrinking': True,\n",
       " 'svc__tol': 0.001,\n",
       " 'svc__verbose': False}"
      ]
     },
     "execution_count": 39,
     "metadata": {},
     "output_type": "execute_result"
    }
   ],
   "source": [
    "vect = TfidfVectorizer()\n",
    "svm = SVC(kernel='linear')\n",
    "\n",
    "pipe = make_pipeline(vect, svm)\n",
    "pipe.get_params()"
   ]
  },
  {
   "cell_type": "code",
   "execution_count": 40,
   "metadata": {},
   "outputs": [],
   "source": [
    "param_grid = {\n",
    "    'verbose': [2],\n",
    "    'tfidfvectorizer__ngram_range': [(2, 3)],\n",
    "    'svc__C': [0.001, 0.01, 0.1, 1, 10, 100],\n",
    "    'svc__gamma': [0.001, 0.01, 0.1, 1, 10, 100],\n",
    "}"
   ]
  },
  {
   "cell_type": "code",
   "execution_count": 41,
   "metadata": {},
   "outputs": [
    {
     "name": "stdout",
     "output_type": "stream",
     "text": [
      "Fitting 5 folds for each of 36 candidates, totalling 180 fits\n",
      "[Pipeline] ... (step 1 of 2) Processing tfidfvectorizer, total=   0.7s\n",
      "[Pipeline] ............... (step 2 of 2) Processing svc, total= 1.2min\n",
      "\n",
      "--------------------------------------------------\n",
      "Best parameters: {'svc__C': 10, 'svc__gamma': 0.001, 'tfidfvectorizer__ngram_range': (2, 3), 'verbose': 2}\n",
      "0.3816366390108142\n",
      "Pipeline(steps=[('tfidfvectorizer', TfidfVectorizer(ngram_range=(2, 3))),\n",
      "                ('svc', SVC(C=10, gamma=0.001, kernel='linear'))],\n",
      "         verbose=2)\n"
     ]
    }
   ],
   "source": [
    "gs = GridSearchCV(pipe, param_grid, cv=5, scoring='f1_macro', n_jobs=-1, verbose=2, refit=True)\n",
    "gs.fit(X_train, y_train)\n",
    "print(f'\\n' + '-' * 50)\n",
    "print('Best parameters:', gs.best_params_)\n",
    "print(gs.best_score_)\n",
    "print(gs.best_estimator_)"
   ]
  },
  {
   "cell_type": "code",
   "execution_count": 42,
   "metadata": {},
   "outputs": [
    {
     "name": "stdout",
     "output_type": "stream",
     "text": [
      "              precision    recall  f1-score   support\n",
      "\n",
      "           0       0.56      0.63      0.59      1118\n",
      "           1       0.52      0.54      0.53      1123\n",
      "           2       0.32      0.23      0.27       373\n",
      "           3       0.19      0.10      0.13       218\n",
      "\n",
      "    accuracy                           0.50      2832\n",
      "   macro avg       0.40      0.38      0.38      2832\n",
      "weighted avg       0.48      0.50      0.49      2832\n",
      "\n"
     ]
    },
    {
     "data": {
      "image/png": "[encoded data removed]",
      "text/plain": [
       "<Figure size 640x480 with 2 Axes>"
      ]
     },
     "metadata": {},
     "output_type": "display_data"
    }
   ],
   "source": [
    "y_test_pred = gs.predict(X_test)\n",
    "print(classification_report(y_test, y_test_pred))\n",
    "\n",
    "cm = confusion_matrix(y_test, y_test_pred, labels=gs.classes_)\n",
    "disp = ConfusionMatrixDisplay(confusion_matrix=cm, display_labels=gs.classes_)\n",
    "disp.plot();"
   ]
  },
  {
   "cell_type": "markdown",
   "metadata": {},
   "source": [
    "> The model performs relatively well when it comes to the first 2 age groups (18-24 and 25-34) whereas it seriously struggles with the other ones."
   ]
  },
  {
   "cell_type": "markdown",
   "metadata": {},
   "source": [
    "### Subset of authors aged 18-34"
   ]
  },
  {
   "cell_type": "code",
   "execution_count": 74,
   "metadata": {},
   "outputs": [
    {
     "data": {
      "text/plain": [
       "(11204, 7)"
      ]
     },
     "execution_count": 74,
     "metadata": {},
     "output_type": "execute_result"
    }
   ],
   "source": [
    "young_adults = pan15.loc[(pan15['age_group'] == '18-24') | (pan15['age_group'] == '25-34')]\n",
    "young_adults.shape"
   ]
  },
  {
   "cell_type": "code",
   "execution_count": 82,
   "metadata": {},
   "outputs": [
    {
     "data": {
      "text/plain": [
       "((8963,), (2241,), (8963,), (2241,))"
      ]
     },
     "execution_count": 82,
     "metadata": {},
     "output_type": "execute_result"
    }
   ],
   "source": [
    "X = young_adults['tokenized']\n",
    "y = young_adults['age_group']\n",
    "\n",
    "X_train, X_test, y_train, y_test = train_test_split(X, y, test_size=.2, shuffle=True, random_state=97, stratify=y)\n",
    "X_train.shape, X_test.shape, y_train.shape, y_test.shape"
   ]
  },
  {
   "cell_type": "code",
   "execution_count": 83,
   "metadata": {},
   "outputs": [
    {
     "data": {
      "text/plain": [
       "(0, 0)"
      ]
     },
     "execution_count": 83,
     "metadata": {},
     "output_type": "execute_result"
    }
   ],
   "source": [
    "X.isna().sum(), y.isna().sum()"
   ]
  },
  {
   "cell_type": "code",
   "execution_count": 84,
   "metadata": {},
   "outputs": [
    {
     "data": {
      "text/plain": [
       "{'memory': None,\n",
       " 'steps': [('tfidfvectorizer', TfidfVectorizer()),\n",
       "  ('svc', SVC(kernel='linear'))],\n",
       " 'verbose': False,\n",
       " 'tfidfvectorizer': TfidfVectorizer(),\n",
       " 'svc': SVC(kernel='linear'),\n",
       " 'tfidfvectorizer__analyzer': 'word',\n",
       " 'tfidfvectorizer__binary': False,\n",
       " 'tfidfvectorizer__decode_error': 'strict',\n",
       " 'tfidfvectorizer__dtype': numpy.float64,\n",
       " 'tfidfvectorizer__encoding': 'utf-8',\n",
       " 'tfidfvectorizer__input': 'content',\n",
       " 'tfidfvectorizer__lowercase': True,\n",
       " 'tfidfvectorizer__max_df': 1.0,\n",
       " 'tfidfvectorizer__max_features': None,\n",
       " 'tfidfvectorizer__min_df': 1,\n",
       " 'tfidfvectorizer__ngram_range': (1, 1),\n",
       " 'tfidfvectorizer__norm': 'l2',\n",
       " 'tfidfvectorizer__preprocessor': None,\n",
       " 'tfidfvectorizer__smooth_idf': True,\n",
       " 'tfidfvectorizer__stop_words': None,\n",
       " 'tfidfvectorizer__strip_accents': None,\n",
       " 'tfidfvectorizer__sublinear_tf': False,\n",
       " 'tfidfvectorizer__token_pattern': '(?u)\\\\b\\\\w\\\\w+\\\\b',\n",
       " 'tfidfvectorizer__tokenizer': None,\n",
       " 'tfidfvectorizer__use_idf': True,\n",
       " 'tfidfvectorizer__vocabulary': None,\n",
       " 'svc__C': 1.0,\n",
       " 'svc__break_ties': False,\n",
       " 'svc__cache_size': 200,\n",
       " 'svc__class_weight': None,\n",
       " 'svc__coef0': 0.0,\n",
       " 'svc__decision_function_shape': 'ovr',\n",
       " 'svc__degree': 3,\n",
       " 'svc__gamma': 'scale',\n",
       " 'svc__kernel': 'linear',\n",
       " 'svc__max_iter': -1,\n",
       " 'svc__probability': False,\n",
       " 'svc__random_state': None,\n",
       " 'svc__shrinking': True,\n",
       " 'svc__tol': 0.001,\n",
       " 'svc__verbose': False}"
      ]
     },
     "execution_count": 84,
     "metadata": {},
     "output_type": "execute_result"
    }
   ],
   "source": [
    "vect = TfidfVectorizer()\n",
    "svm = SVC(kernel='linear')\n",
    "\n",
    "pipe = make_pipeline(vect, svm)\n",
    "pipe.get_params()"
   ]
  },
  {
   "cell_type": "code",
   "execution_count": 85,
   "metadata": {},
   "outputs": [],
   "source": [
    "param_grid = {\n",
    "    'verbose': [2],\n",
    "    'tfidfvectorizer__ngram_range': [(2, 3)],\n",
    "    'svc__C': [0.001, 0.01, 0.1, 1, 10, 100],\n",
    "    'svc__gamma': [0.001, 0.01, 0.1, 1, 10, 100],\n",
    "}"
   ]
  },
  {
   "cell_type": "code",
   "execution_count": 86,
   "metadata": {},
   "outputs": [
    {
     "name": "stdout",
     "output_type": "stream",
     "text": [
      "Fitting 5 folds for each of 36 candidates, totalling 180 fits\n",
      "[Pipeline] ... (step 1 of 2) Processing tfidfvectorizer, total=   1.0s\n",
      "[Pipeline] ............... (step 2 of 2) Processing svc, total= 1.1min\n",
      "\n",
      "--------------------------------------------------\n",
      "Best parameters: {'svc__C': 10, 'svc__gamma': 0.001, 'tfidfvectorizer__ngram_range': (2, 3), 'verbose': 2}\n",
      "0.6677875692750102\n",
      "Pipeline(steps=[('tfidfvectorizer', TfidfVectorizer(ngram_range=(2, 3))),\n",
      "                ('svc', SVC(C=10, gamma=0.001, kernel='linear'))],\n",
      "         verbose=2)\n"
     ]
    }
   ],
   "source": [
    "gs = GridSearchCV(pipe, param_grid, cv=5, scoring='f1_macro', n_jobs=-1, verbose=2, refit=True)\n",
    "gs.fit(X_train, y_train)\n",
    "print(f'\\n' + '-' * 50)\n",
    "print('Best parameters:', gs.best_params_)\n",
    "print(gs.best_score_)\n",
    "print(gs.best_estimator_)"
   ]
  },
  {
   "cell_type": "code",
   "execution_count": 89,
   "metadata": {},
   "outputs": [
    {
     "name": "stdout",
     "output_type": "stream",
     "text": [
      "              precision    recall  f1-score   support\n",
      "\n",
      "       18-24       0.64      0.79      0.71      1118\n",
      "       25-34       0.73      0.56      0.63      1123\n",
      "\n",
      "    accuracy                           0.67      2241\n",
      "   macro avg       0.68      0.67      0.67      2241\n",
      "weighted avg       0.68      0.67      0.67      2241\n",
      "\n"
     ]
    },
    {
     "data": {
      "image/png": "[encoded data removed]",
      "text/plain": [
       "<Figure size 640x480 with 2 Axes>"
      ]
     },
     "metadata": {},
     "output_type": "display_data"
    }
   ],
   "source": [
    "y_test_pred = gs.predict(X_test)\n",
    "print(classification_report(y_test, y_test_pred))\n",
    "\n",
    "cm = confusion_matrix(y_test, y_test_pred, labels=gs.classes_)\n",
    "disp = ConfusionMatrixDisplay(confusion_matrix=cm, display_labels=gs.classes_)\n",
    "disp.plot(cmap='Blues', xticks_rotation=45);"
   ]
  },
  {
   "cell_type": "markdown",
   "metadata": {},
   "source": [
    "### On tokenized data"
   ]
  },
  {
   "cell_type": "code",
   "execution_count": 58,
   "metadata": {},
   "outputs": [
    {
     "data": {
      "text/plain": [
       "((11332,), (2834,), (11332,), (2834,))"
      ]
     },
     "execution_count": 58,
     "metadata": {},
     "output_type": "execute_result"
    }
   ],
   "source": [
    "pan15 = pd.read_csv('../datasets/pan15_semicleaned.tsv' , sep='\\t')"
   ]
  },
  {
   "cell_type": "code",
   "execution_count": 60,
   "metadata": {},
   "outputs": [],
   "source": [
    "pan15.dropna(inplace=True)"
   ]
  },
  {
   "cell_type": "code",
   "execution_count": 61,
   "metadata": {},
   "outputs": [
    {
     "data": {
      "text/plain": [
       "((11325,), (2832,), (11325,), (2832,))"
      ]
     },
     "execution_count": 61,
     "metadata": {},
     "output_type": "execute_result"
    }
   ],
   "source": [
    "X = pan15['tokenized']\n",
    "y = pan15['age_group']\n",
    "\n",
    "X_train, X_test, y_train, y_test = train_test_split(X, y, test_size=.2, shuffle=True, random_state=97, stratify=y)\n",
    "X_train.shape, X_test.shape, y_train.shape, y_test.shape"
   ]
  },
  {
   "cell_type": "code",
   "execution_count": 62,
   "metadata": {},
   "outputs": [
    {
     "data": {
      "text/plain": [
       "(0, 0)"
      ]
     },
     "execution_count": 62,
     "metadata": {},
     "output_type": "execute_result"
    }
   ],
   "source": [
    "X.isna().sum(), y.isna().sum()"
   ]
  },
  {
   "cell_type": "code",
   "execution_count": 64,
   "metadata": {},
   "outputs": [
    {
     "data": {
      "text/plain": [
       "{'memory': None,\n",
       " 'steps': [('tfidfvectorizer', TfidfVectorizer()),\n",
       "  ('svc', SVC(kernel='linear'))],\n",
       " 'verbose': False,\n",
       " 'tfidfvectorizer': TfidfVectorizer(),\n",
       " 'svc': SVC(kernel='linear'),\n",
       " 'tfidfvectorizer__analyzer': 'word',\n",
       " 'tfidfvectorizer__binary': False,\n",
       " 'tfidfvectorizer__decode_error': 'strict',\n",
       " 'tfidfvectorizer__dtype': numpy.float64,\n",
       " 'tfidfvectorizer__encoding': 'utf-8',\n",
       " 'tfidfvectorizer__input': 'content',\n",
       " 'tfidfvectorizer__lowercase': True,\n",
       " 'tfidfvectorizer__max_df': 1.0,\n",
       " 'tfidfvectorizer__max_features': None,\n",
       " 'tfidfvectorizer__min_df': 1,\n",
       " 'tfidfvectorizer__ngram_range': (1, 1),\n",
       " 'tfidfvectorizer__norm': 'l2',\n",
       " 'tfidfvectorizer__preprocessor': None,\n",
       " 'tfidfvectorizer__smooth_idf': True,\n",
       " 'tfidfvectorizer__stop_words': None,\n",
       " 'tfidfvectorizer__strip_accents': None,\n",
       " 'tfidfvectorizer__sublinear_tf': False,\n",
       " 'tfidfvectorizer__token_pattern': '(?u)\\\\b\\\\w\\\\w+\\\\b',\n",
       " 'tfidfvectorizer__tokenizer': None,\n",
       " 'tfidfvectorizer__use_idf': True,\n",
       " 'tfidfvectorizer__vocabulary': None,\n",
       " 'svc__C': 1.0,\n",
       " 'svc__break_ties': False,\n",
       " 'svc__cache_size': 200,\n",
       " 'svc__class_weight': None,\n",
       " 'svc__coef0': 0.0,\n",
       " 'svc__decision_function_shape': 'ovr',\n",
       " 'svc__degree': 3,\n",
       " 'svc__gamma': 'scale',\n",
       " 'svc__kernel': 'linear',\n",
       " 'svc__max_iter': -1,\n",
       " 'svc__probability': False,\n",
       " 'svc__random_state': None,\n",
       " 'svc__shrinking': True,\n",
       " 'svc__tol': 0.001,\n",
       " 'svc__verbose': False}"
      ]
     },
     "execution_count": 64,
     "metadata": {},
     "output_type": "execute_result"
    }
   ],
   "source": [
    "vect = TfidfVectorizer()\n",
    "svm = SVC(kernel='linear')\n",
    "\n",
    "pipe = make_pipeline(vect, svm)\n",
    "pipe.get_params()"
   ]
  },
  {
   "cell_type": "code",
   "execution_count": 65,
   "metadata": {},
   "outputs": [],
   "source": [
    "param_grid = {\n",
    "    'verbose': [2],\n",
    "    'tfidfvectorizer__ngram_range': [(2, 3)],\n",
    "    'svc__C': [0.001, 0.01, 0.1, 1, 10, 100],\n",
    "    'svc__gamma': [0.001, 0.01, 0.1, 1, 10, 100],\n",
    "}"
   ]
  },
  {
   "cell_type": "code",
   "execution_count": 66,
   "metadata": {},
   "outputs": [
    {
     "name": "stdout",
     "output_type": "stream",
     "text": [
      "Fitting 5 folds for each of 36 candidates, totalling 180 fits\n",
      "[Pipeline] ... (step 1 of 2) Processing tfidfvectorizer, total=   1.1s\n",
      "[Pipeline] ............... (step 2 of 2) Processing svc, total= 1.4min\n",
      "\n",
      "--------------------------------------------------\n",
      "Best parameters: {'svc__C': 10, 'svc__gamma': 0.001, 'tfidfvectorizer__ngram_range': (2, 3), 'verbose': 2}\n",
      "0.43624579337462777\n",
      "Pipeline(steps=[('tfidfvectorizer', TfidfVectorizer(ngram_range=(2, 3))),\n",
      "                ('svc', SVC(C=10, gamma=0.001, kernel='linear'))],\n",
      "         verbose=2)\n"
     ]
    }
   ],
   "source": [
    "gs = GridSearchCV(pipe, param_grid, cv=5, scoring='f1_macro', n_jobs=-1, verbose=2, refit=True)\n",
    "gs.fit(X_train, y_train)\n",
    "print(f'\\n' + '-' * 50)\n",
    "print('Best parameters:', gs.best_params_)\n",
    "print(gs.best_score_)\n",
    "print(gs.best_estimator_)"
   ]
  },
  {
   "cell_type": "code",
   "execution_count": 67,
   "metadata": {},
   "outputs": [
    {
     "name": "stdout",
     "output_type": "stream",
     "text": [
      "              precision    recall  f1-score   support\n",
      "\n",
      "       18-24       0.55      0.78      0.65      1118\n",
      "       25-34       0.59      0.53      0.56      1123\n",
      "       35-49       0.68      0.34      0.45       373\n",
      "       50-XX       0.45      0.11      0.17       218\n",
      "\n",
      "    accuracy                           0.57      2832\n",
      "   macro avg       0.57      0.44      0.46      2832\n",
      "weighted avg       0.57      0.57      0.55      2832\n",
      "\n"
     ]
    },
    {
     "data": {
      "image/png": "[encoded data removed]",
      "text/plain": [
       "<Figure size 640x480 with 2 Axes>"
      ]
     },
     "metadata": {},
     "output_type": "display_data"
    }
   ],
   "source": [
    "y_test_pred = gs.predict(X_test)\n",
    "print(classification_report(y_test, y_test_pred))\n",
    "\n",
    "cm = confusion_matrix(y_test, y_test_pred, labels=gs.classes_)\n",
    "disp = ConfusionMatrixDisplay(confusion_matrix=cm, display_labels=gs.classes_)\n",
    "disp.plot();"
   ]
  },
  {
   "cell_type": "markdown",
   "metadata": {},
   "source": [
    "## Train/Test on the Blog authorship corpus "
   ]
  },
  {
   "cell_type": "code",
   "execution_count": 2,
   "metadata": {},
   "outputs": [
    {
     "data": {
      "text/html": [
       "<div>\n",
       "<style scoped>\n",
       "    .dataframe tbody tr th:only-of-type {\n",
       "        vertical-align: middle;\n",
       "    }\n",
       "\n",
       "    .dataframe tbody tr th {\n",
       "        vertical-align: top;\n",
       "    }\n",
       "\n",
       "    .dataframe thead th {\n",
       "        text-align: right;\n",
       "    }\n",
       "</style>\n",
       "<table border=\"1\" class=\"dataframe\">\n",
       "  <thead>\n",
       "    <tr style=\"text-align: right;\">\n",
       "      <th></th>\n",
       "      <th>text</th>\n",
       "      <th>gender</th>\n",
       "      <th>age</th>\n",
       "      <th>length</th>\n",
       "    </tr>\n",
       "  </thead>\n",
       "  <tbody>\n",
       "    <tr>\n",
       "      <th>599138</th>\n",
       "      <td>Woke up at 11:30 AM.  Now in my lab, about to ...</td>\n",
       "      <td>male</td>\n",
       "      <td>24</td>\n",
       "      <td>251</td>\n",
       "    </tr>\n",
       "    <tr>\n",
       "      <th>409103</th>\n",
       "      <td>This weekend was so much fun, I went to San Di...</td>\n",
       "      <td>female</td>\n",
       "      <td>24</td>\n",
       "      <td>461</td>\n",
       "    </tr>\n",
       "    <tr>\n",
       "      <th>331646</th>\n",
       "      <td>The lights are dimmed, my headphones are on (S...</td>\n",
       "      <td>male</td>\n",
       "      <td>16</td>\n",
       "      <td>1569</td>\n",
       "    </tr>\n",
       "    <tr>\n",
       "      <th>311440</th>\n",
       "      <td>Hey all- I am exhausted and in a place that I ...</td>\n",
       "      <td>male</td>\n",
       "      <td>26</td>\n",
       "      <td>75</td>\n",
       "    </tr>\n",
       "    <tr>\n",
       "      <th>523018</th>\n",
       "      <td>I wrote a sweet litl number for Princey in my ...</td>\n",
       "      <td>male</td>\n",
       "      <td>15</td>\n",
       "      <td>175</td>\n",
       "    </tr>\n",
       "    <tr>\n",
       "      <th>305374</th>\n",
       "      <td>Consider the phrase:  \"I always lie\" . â  Pr...</td>\n",
       "      <td>male</td>\n",
       "      <td>25</td>\n",
       "      <td>138</td>\n",
       "    </tr>\n",
       "    <tr>\n",
       "      <th>75954</th>\n",
       "      <td>hey all, sorry i've not posted in a while! i t...</td>\n",
       "      <td>female</td>\n",
       "      <td>14</td>\n",
       "      <td>21</td>\n",
       "    </tr>\n",
       "    <tr>\n",
       "      <th>546629</th>\n",
       "      <td>I am going to see I, Robot tonight. So tomorro...</td>\n",
       "      <td>female</td>\n",
       "      <td>17</td>\n",
       "      <td>60</td>\n",
       "    </tr>\n",
       "    <tr>\n",
       "      <th>97624</th>\n",
       "      <td>11:30am.</td>\n",
       "      <td>male</td>\n",
       "      <td>17</td>\n",
       "      <td>1</td>\n",
       "    </tr>\n",
       "    <tr>\n",
       "      <th>637865</th>\n",
       "      <td>*yerf* Seems to me that spring has reared its ...</td>\n",
       "      <td>male</td>\n",
       "      <td>16</td>\n",
       "      <td>193</td>\n",
       "    </tr>\n",
       "    <tr>\n",
       "      <th>462257</th>\n",
       "      <td>Had a very seriuos talk with Vanessa tonight, ...</td>\n",
       "      <td>male</td>\n",
       "      <td>17</td>\n",
       "      <td>165</td>\n",
       "    </tr>\n",
       "    <tr>\n",
       "      <th>459199</th>\n",
       "      <td>well yesterday was warped tour it was ok not t...</td>\n",
       "      <td>female</td>\n",
       "      <td>17</td>\n",
       "      <td>96</td>\n",
       "    </tr>\n",
       "    <tr>\n",
       "      <th>415387</th>\n",
       "      <td>Back home. All wet and somehow alive. Still ra...</td>\n",
       "      <td>male</td>\n",
       "      <td>16</td>\n",
       "      <td>107</td>\n",
       "    </tr>\n",
       "    <tr>\n",
       "      <th>338162</th>\n",
       "      <td>urlLink</td>\n",
       "      <td>female</td>\n",
       "      <td>38</td>\n",
       "      <td>1</td>\n",
       "    </tr>\n",
       "    <tr>\n",
       "      <th>562782</th>\n",
       "      <td>Channel G is everything that's right with huma...</td>\n",
       "      <td>male</td>\n",
       "      <td>27</td>\n",
       "      <td>285</td>\n",
       "    </tr>\n",
       "  </tbody>\n",
       "</table>\n",
       "</div>"
      ],
      "text/plain": [
       "                                                     text  gender  age  length\n",
       "599138  Woke up at 11:30 AM.  Now in my lab, about to ...    male   24     251\n",
       "409103  This weekend was so much fun, I went to San Di...  female   24     461\n",
       "331646  The lights are dimmed, my headphones are on (S...    male   16    1569\n",
       "311440  Hey all- I am exhausted and in a place that I ...    male   26      75\n",
       "523018  I wrote a sweet litl number for Princey in my ...    male   15     175\n",
       "305374  Consider the phrase:  \"I always lie\" . â  Pr...    male   25     138\n",
       "75954   hey all, sorry i've not posted in a while! i t...  female   14      21\n",
       "546629  I am going to see I, Robot tonight. So tomorro...  female   17      60\n",
       "97624                                            11:30am.    male   17       1\n",
       "637865  *yerf* Seems to me that spring has reared its ...    male   16     193\n",
       "462257  Had a very seriuos talk with Vanessa tonight, ...    male   17     165\n",
       "459199  well yesterday was warped tour it was ok not t...  female   17      96\n",
       "415387  Back home. All wet and somehow alive. Still ra...    male   16     107\n",
       "338162                                            urlLink  female   38       1\n",
       "562782  Channel G is everything that's right with huma...    male   27     285"
      ]
     },
     "execution_count": 2,
     "metadata": {},
     "output_type": "execute_result"
    }
   ],
   "source": [
    "df = pd.read_csv('../datasets/blog_authorship.tsv' , sep='\\t', usecols=['text', 'gender', 'age', 'length'])\n",
    "df.sample(15)"
   ]
  },
  {
   "cell_type": "code",
   "execution_count": 3,
   "metadata": {},
   "outputs": [
    {
     "data": {
      "text/plain": [
       "(727712, 4)"
      ]
     },
     "execution_count": 3,
     "metadata": {},
     "output_type": "execute_result"
    }
   ],
   "source": [
    "df.shape"
   ]
  },
  {
   "cell_type": "code",
   "execution_count": 4,
   "metadata": {},
   "outputs": [
    {
     "data": {
      "text/plain": [
       "(36386, 4)"
      ]
     },
     "execution_count": 4,
     "metadata": {},
     "output_type": "execute_result"
    }
   ],
   "source": [
    "blogs = df.sample(frac=.05)\n",
    "blogs.shape"
   ]
  },
  {
   "cell_type": "code",
   "execution_count": 5,
   "metadata": {},
   "outputs": [
    {
     "data": {
      "text/plain": [
       "(36386, 4)"
      ]
     },
     "execution_count": 5,
     "metadata": {},
     "output_type": "execute_result"
    }
   ],
   "source": [
    "blogs.dropna(inplace=True)\n",
    "blogs.shape"
   ]
  },
  {
   "cell_type": "code",
   "execution_count": 6,
   "metadata": {},
   "outputs": [
    {
     "data": {
      "text/plain": [
       "male      18546\n",
       "female    17840\n",
       "Name: gender, dtype: int64"
      ]
     },
     "execution_count": 6,
     "metadata": {},
     "output_type": "execute_result"
    }
   ],
   "source": [
    "blogs['gender'].value_counts()"
   ]
  },
  {
   "cell_type": "code",
   "execution_count": 7,
   "metadata": {},
   "outputs": [],
   "source": [
    "enc = LabelEncoder()\n",
    "blogs['gender'] = enc.fit_transform(blogs['gender'])"
   ]
  },
  {
   "cell_type": "markdown",
   "metadata": {},
   "source": [
    "### On uncleaned data"
   ]
  },
  {
   "cell_type": "code",
   "execution_count": 8,
   "metadata": {},
   "outputs": [
    {
     "data": {
      "text/plain": [
       "((29108,), (7278,), (29108,), (7278,))"
      ]
     },
     "execution_count": 8,
     "metadata": {},
     "output_type": "execute_result"
    }
   ],
   "source": [
    "X = blogs['text']\n",
    "y = blogs['gender']\n",
    "\n",
    "X_train, X_test, y_train, y_test = train_test_split(X, y, test_size=.2, shuffle=True, random_state=97, stratify=y)\n",
    "X_train.shape, X_test.shape, y_train.shape, y_test.shape"
   ]
  },
  {
   "cell_type": "code",
   "execution_count": 9,
   "metadata": {},
   "outputs": [
    {
     "data": {
      "text/plain": [
       "(0, 0)"
      ]
     },
     "execution_count": 9,
     "metadata": {},
     "output_type": "execute_result"
    }
   ],
   "source": [
    "X.isna().sum(), y.isna().sum()"
   ]
  },
  {
   "cell_type": "code",
   "execution_count": 10,
   "metadata": {},
   "outputs": [],
   "source": [
    "vect = TfidfVectorizer()\n",
    "svm = SVC(kernel='linear')\n",
    "\n",
    "pipe = make_pipeline(vect, svm)"
   ]
  },
  {
   "cell_type": "code",
   "execution_count": 11,
   "metadata": {},
   "outputs": [],
   "source": [
    "param_grid = {\n",
    "    'verbose': [2],\n",
    "    'tfidfvectorizer__ngram_range': [(1, 2), (2, 2), (2, 3)],\n",
    "    'svc__C': [0.001, 0.01, 0.1, 1, 10],\n",
    "    'svc__gamma': [0.001, 0.01, 0.1, 1, 10],\n",
    "}"
   ]
  },
  {
   "cell_type": "code",
   "execution_count": 12,
   "metadata": {},
   "outputs": [
    {
     "name": "stdout",
     "output_type": "stream",
     "text": [
      "Fitting 2 folds for each of 75 candidates, totalling 150 fits\n",
      "[Pipeline] ... (step 1 of 2) Processing tfidfvectorizer, total=  33.5s\n",
      "[Pipeline] .............. (step 2 of 2) Processing svc, total=108.9min\n",
      "\n",
      "--------------------------------------------------\n",
      "Best parameters: {'svc__C': 1, 'svc__gamma': 0.001, 'tfidfvectorizer__ngram_range': (1, 2), 'verbose': 2}\n",
      "0.654639430731982\n",
      "Pipeline(steps=[('tfidfvectorizer', TfidfVectorizer(ngram_range=(1, 2))),\n",
      "                ('svc', SVC(C=1, gamma=0.001, kernel='linear'))],\n",
      "         verbose=2)\n"
     ]
    }
   ],
   "source": [
    "gs = GridSearchCV(pipe, param_grid, cv=2, scoring='f1_macro', n_jobs=-1, verbose=2, refit=True)\n",
    "gs.fit(X_train, y_train)\n",
    "print(f'\\n' + '-' * 50)\n",
    "print('Best parameters:', gs.best_params_)\n",
    "print(gs.best_score_)\n",
    "print(gs.best_estimator_)"
   ]
  },
  {
   "cell_type": "code",
   "execution_count": 13,
   "metadata": {},
   "outputs": [
    {
     "name": "stdout",
     "output_type": "stream",
     "text": [
      "              precision    recall  f1-score   support\n",
      "\n",
      "           0       0.66      0.65      0.66      3568\n",
      "           1       0.67      0.68      0.67      3710\n",
      "\n",
      "    accuracy                           0.67      7278\n",
      "   macro avg       0.67      0.67      0.67      7278\n",
      "weighted avg       0.67      0.67      0.67      7278\n",
      "\n"
     ]
    },
    {
     "data": {
      "image/png": "[encoded data removed]",
      "text/plain": [
       "<Figure size 640x480 with 2 Axes>"
      ]
     },
     "metadata": {},
     "output_type": "display_data"
    }
   ],
   "source": [
    "y_test_pred = gs.predict(X_test)\n",
    "print(classification_report(y_test, y_test_pred))\n",
    "\n",
    "cm = confusion_matrix(y_test, y_test_pred, labels=gs.classes_)\n",
    "disp = ConfusionMatrixDisplay(confusion_matrix=cm, display_labels=gs.classes_)\n",
    "disp.plot();"
   ]
  }
 ],
 "metadata": {
  "interpreter": {
   "hash": "570feb405e2e27c949193ac68f46852414290d515b0ba6e5d90d076ed2284471"
  },
  "kernelspec": {
   "display_name": "Python 3.8.2 64-bit",
   "language": "python",
   "name": "python3"
  },
  "language_info": {
   "codemirror_mode": {
    "name": "ipython",
    "version": 3
   },
   "file_extension": ".py",
   "mimetype": "text/x-python",
   "name": "python",
   "nbconvert_exporter": "python",
   "pygments_lexer": "ipython3",
   "version": "3.8.2"
  },
  "orig_nbformat": 4
 },
 "nbformat": 4,
 "nbformat_minor": 2
}
