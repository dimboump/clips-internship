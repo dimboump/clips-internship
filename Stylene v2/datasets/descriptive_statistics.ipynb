{
 "cells": [
  {
   "cell_type": "code",
   "execution_count": 2,
   "metadata": {},
   "outputs": [],
   "source": [
    "import pandas as pd\n",
    "import numpy as np\n",
    "from matplotlib import pyplot as plt"
   ]
  },
  {
   "cell_type": "code",
   "execution_count": 29,
   "metadata": {},
   "outputs": [],
   "source": [
    "df1 = pd.read_csv('blog_authorship.tsv', sep='\\t', error_bad_lines=False)"
   ]
  },
  {
   "cell_type": "code",
   "execution_count": 30,
   "metadata": {},
   "outputs": [],
   "source": [
    "df2 = pd.read_csv('pan15_semicleaned.tsv', sep='\\t', error_bad_lines=False)"
   ]
  },
  {
   "cell_type": "code",
   "execution_count": 31,
   "metadata": {},
   "outputs": [
    {
     "data": {
      "text/plain": [
       "((727712, 7), (14166, 3))"
      ]
     },
     "execution_count": 31,
     "metadata": {},
     "output_type": "execute_result"
    }
   ],
   "source": [
    "df1.shape, df2.shape"
   ]
  },
  {
   "cell_type": "code",
   "execution_count": 32,
   "metadata": {},
   "outputs": [
    {
     "data": {
      "text/html": [
       "<div>\n",
       "<style scoped>\n",
       "    .dataframe tbody tr th:only-of-type {\n",
       "        vertical-align: middle;\n",
       "    }\n",
       "\n",
       "    .dataframe tbody tr th {\n",
       "        vertical-align: top;\n",
       "    }\n",
       "\n",
       "    .dataframe thead th {\n",
       "        text-align: right;\n",
       "    }\n",
       "</style>\n",
       "<table border=\"1\" class=\"dataframe\">\n",
       "  <thead>\n",
       "    <tr style=\"text-align: right;\">\n",
       "      <th></th>\n",
       "      <th>text</th>\n",
       "      <th>date</th>\n",
       "      <th>gender</th>\n",
       "      <th>age</th>\n",
       "      <th>horoscope</th>\n",
       "      <th>job</th>\n",
       "      <th>length</th>\n",
       "    </tr>\n",
       "  </thead>\n",
       "  <tbody>\n",
       "    <tr>\n",
       "      <th>28067</th>\n",
       "      <td>urlLink brent.ownsu.net (beth's bro)</td>\n",
       "      <td>01,August,2004</td>\n",
       "      <td>female</td>\n",
       "      <td>27</td>\n",
       "      <td>Gemini</td>\n",
       "      <td>indUnk</td>\n",
       "      <td>4</td>\n",
       "    </tr>\n",
       "    <tr>\n",
       "      <th>142831</th>\n",
       "      <td>Last night  Sex and the City  wrapped into  Ir...</td>\n",
       "      <td>17,July,2004</td>\n",
       "      <td>female</td>\n",
       "      <td>27</td>\n",
       "      <td>Cancer</td>\n",
       "      <td>indUnk</td>\n",
       "      <td>776</td>\n",
       "    </tr>\n",
       "    <tr>\n",
       "      <th>542313</th>\n",
       "      <td>Writer Carol Bly said, \"...There have been thr...</td>\n",
       "      <td>29,June,2004</td>\n",
       "      <td>male</td>\n",
       "      <td>37</td>\n",
       "      <td>Leo</td>\n",
       "      <td>Automotive</td>\n",
       "      <td>40</td>\n",
       "    </tr>\n",
       "    <tr>\n",
       "      <th>486030</th>\n",
       "      <td>But still, I liked the feeling. When I met her...</td>\n",
       "      <td>28,June,2004</td>\n",
       "      <td>female</td>\n",
       "      <td>23</td>\n",
       "      <td>Capricorn</td>\n",
       "      <td>Student</td>\n",
       "      <td>78</td>\n",
       "    </tr>\n",
       "    <tr>\n",
       "      <th>708141</th>\n",
       "      <td>i'm so sleepy. blah.  christmas in 2 days.</td>\n",
       "      <td>06,July,2004</td>\n",
       "      <td>female</td>\n",
       "      <td>17</td>\n",
       "      <td>Virgo</td>\n",
       "      <td>Non-Profit</td>\n",
       "      <td>8</td>\n",
       "    </tr>\n",
       "  </tbody>\n",
       "</table>\n",
       "</div>"
      ],
      "text/plain": [
       "                                                     text            date  \\\n",
       "28067                urlLink brent.ownsu.net (beth's bro)  01,August,2004   \n",
       "142831  Last night  Sex and the City  wrapped into  Ir...    17,July,2004   \n",
       "542313  Writer Carol Bly said, \"...There have been thr...    29,June,2004   \n",
       "486030  But still, I liked the feeling. When I met her...    28,June,2004   \n",
       "708141         i'm so sleepy. blah.  christmas in 2 days.    06,July,2004   \n",
       "\n",
       "        gender  age  horoscope         job  length  \n",
       "28067   female   27     Gemini      indUnk       4  \n",
       "142831  female   27     Cancer      indUnk     776  \n",
       "542313    male   37        Leo  Automotive      40  \n",
       "486030  female   23  Capricorn     Student      78  \n",
       "708141  female   17      Virgo  Non-Profit       8  "
      ]
     },
     "execution_count": 32,
     "metadata": {},
     "output_type": "execute_result"
    }
   ],
   "source": [
    "df1.sample(5)"
   ]
  },
  {
   "cell_type": "code",
   "execution_count": 35,
   "metadata": {},
   "outputs": [
    {
     "data": {
      "text/html": [
       "<div>\n",
       "<style scoped>\n",
       "    .dataframe tbody tr th:only-of-type {\n",
       "        vertical-align: middle;\n",
       "    }\n",
       "\n",
       "    .dataframe tbody tr th {\n",
       "        vertical-align: top;\n",
       "    }\n",
       "\n",
       "    .dataframe thead th {\n",
       "        text-align: right;\n",
       "    }\n",
       "</style>\n",
       "<table border=\"1\" class=\"dataframe\">\n",
       "  <thead>\n",
       "    <tr style=\"text-align: right;\">\n",
       "      <th></th>\n",
       "      <th>author</th>\n",
       "      <th>documents</th>\n",
       "      <th>semicleaned</th>\n",
       "    </tr>\n",
       "  </thead>\n",
       "  <tbody>\n",
       "    <tr>\n",
       "      <th>4210</th>\n",
       "      <td>45</td>\n",
       "      <td>Today the paychecks come in, and even though I...</td>\n",
       "      <td>today the paychecks come in, and even though i...</td>\n",
       "    </tr>\n",
       "    <tr>\n",
       "      <th>9118</th>\n",
       "      <td>96</td>\n",
       "      <td>Awesome! http://t.co/6OBupDDm now has an iPhon...</td>\n",
       "      <td>awesome! now has an iphone app #iosapp</td>\n",
       "    </tr>\n",
       "    <tr>\n",
       "      <th>3613</th>\n",
       "      <td>39</td>\n",
       "      <td>@username @username @username @username And I'...</td>\n",
       "      <td>and i'm spaniard.</td>\n",
       "    </tr>\n",
       "    <tr>\n",
       "      <th>4182</th>\n",
       "      <td>44</td>\n",
       "      <td>still upset that the hawks lost today . ??????...</td>\n",
       "      <td>still upset that the hawks lost today . ?</td>\n",
       "    </tr>\n",
       "    <tr>\n",
       "      <th>7885</th>\n",
       "      <td>83</td>\n",
       "      <td>My fucking brother changed my profile pic and ...</td>\n",
       "      <td>my fucking brother changed my profile pic and ...</td>\n",
       "    </tr>\n",
       "  </tbody>\n",
       "</table>\n",
       "</div>"
      ],
      "text/plain": [
       "      author                                          documents  \\\n",
       "4210      45  Today the paychecks come in, and even though I...   \n",
       "9118      96  Awesome! http://t.co/6OBupDDm now has an iPhon...   \n",
       "3613      39  @username @username @username @username And I'...   \n",
       "4182      44  still upset that the hawks lost today . ??????...   \n",
       "7885      83  My fucking brother changed my profile pic and ...   \n",
       "\n",
       "                                            semicleaned  \n",
       "4210  today the paychecks come in, and even though i...  \n",
       "9118            awesome! now has an iphone app #iosapp   \n",
       "3613                                 and i'm spaniard.   \n",
       "4182         still upset that the hawks lost today . ?   \n",
       "7885  my fucking brother changed my profile pic and ...  "
      ]
     },
     "execution_count": 35,
     "metadata": {},
     "output_type": "execute_result"
    }
   ],
   "source": [
    "df2.sample(5)"
   ]
  },
  {
   "cell_type": "code",
   "execution_count": 33,
   "metadata": {},
   "outputs": [
    {
     "data": {
      "text/plain": [
       "male      370786\n",
       "female    356926\n",
       "Name: gender, dtype: int64"
      ]
     },
     "execution_count": 33,
     "metadata": {},
     "output_type": "execute_result"
    }
   ],
   "source": [
    "df1['gender'].value_counts()"
   ]
  },
  {
   "cell_type": "code",
   "execution_count": 36,
   "metadata": {},
   "outputs": [
    {
     "data": {
      "text/plain": [
       "151    100\n",
       "67     100\n",
       "74     100\n",
       "82     100\n",
       "90     100\n",
       "      ... \n",
       "114     41\n",
       "125     35\n",
       "30      33\n",
       "101     32\n",
       "110     32\n",
       "Name: author, Length: 152, dtype: int64"
      ]
     },
     "execution_count": 36,
     "metadata": {},
     "output_type": "execute_result"
    }
   ],
   "source": [
    "df2['author'].value_counts()"
   ]
  },
  {
   "cell_type": "code",
   "execution_count": 37,
   "metadata": {},
   "outputs": [
    {
     "data": {
      "image/png": "[encoded data removed]",
      "text/plain": [
       "<Figure size 640x480 with 1 Axes>"
      ]
     },
     "metadata": {},
     "output_type": "display_data"
    }
   ],
   "source": [
    "df1.groupby('gender')['age'].plot(kind='kde')\n",
    "plt.xlabel('Age')\n",
    "plt.xlim(10, 55)\n",
    "plt.legend();"
   ]
  }
 ],
 "metadata": {
  "interpreter": {
   "hash": "1baa965d5efe3ac65b79dfc60c0d706280b1da80fedb7760faf2759126c4f253"
  },
  "kernelspec": {
   "display_name": "Python 3.8.2 64-bit",
   "language": "python",
   "name": "python3"
  },
  "language_info": {
   "codemirror_mode": {
    "name": "ipython",
    "version": 3
   },
   "file_extension": ".py",
   "mimetype": "text/x-python",
   "name": "python",
   "nbconvert_exporter": "python",
   "pygments_lexer": "ipython3",
   "version": "3.8.2"
  },
  "orig_nbformat": 4
 },
 "nbformat": 4,
 "nbformat_minor": 2
}
