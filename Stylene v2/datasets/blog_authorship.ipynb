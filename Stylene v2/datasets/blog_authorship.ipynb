{
 "cells": [
  {
   "cell_type": "code",
   "execution_count": 1,
   "metadata": {},
   "outputs": [
    {
     "data": {
      "application/vnd.jupyter.widget-view+json": {
       "model_id": "0be38318a8064a3ba5785a083d49d083",
       "version_major": 2,
       "version_minor": 0
      },
      "text/plain": [
       "Downloading builder script:   0%|          | 0.00/2.27k [00:00<?, ?B/s]"
      ]
     },
     "metadata": {},
     "output_type": "display_data"
    },
    {
     "data": {
      "application/vnd.jupyter.widget-view+json": {
       "model_id": "d444ae532f874e17b5288900a21a47ad",
       "version_major": 2,
       "version_minor": 0
      },
      "text/plain": [
       "Downloading metadata:   0%|          | 0.00/1.33k [00:00<?, ?B/s]"
      ]
     },
     "metadata": {},
     "output_type": "display_data"
    },
    {
     "name": "stdout",
     "output_type": "stream",
     "text": [
      "Downloading and preparing dataset blog_authorship_corpus/blog_authorship_corpus (download: 603.58 MiB, generated: 758.32 MiB, post-processed: Unknown size, total: 1.33 GiB) to C:\\Users\\papam\\.cache\\huggingface\\datasets\\blog_authorship_corpus\\blog_authorship_corpus\\1.0.0\\6f5d78241afd8313111956f877a57db7a0e9fc6718255dc85df0928197feb683...\n"
     ]
    },
    {
     "data": {
      "application/vnd.jupyter.widget-view+json": {
       "model_id": "6755ffe150474f3d84ef75c2a0308c7b",
       "version_major": 2,
       "version_minor": 0
      },
      "text/plain": [
       "Downloading data:   0%|          | 0.00/633M [00:00<?, ?B/s]"
      ]
     },
     "metadata": {},
     "output_type": "display_data"
    },
    {
     "data": {
      "application/vnd.jupyter.widget-view+json": {
       "model_id": "a98cd4c49b894e5e9d14ed4a403e3fc2",
       "version_major": 2,
       "version_minor": 0
      },
      "text/plain": [
       "Generating train split:   0%|          | 0/689793 [00:00<?, ? examples/s]"
      ]
     },
     "metadata": {},
     "output_type": "display_data"
    },
    {
     "data": {
      "application/vnd.jupyter.widget-view+json": {
       "model_id": "259e3cedf65f440f8d591bfbb1a7c7ed",
       "version_major": 2,
       "version_minor": 0
      },
      "text/plain": [
       "Generating validation split:   0%|          | 0/37919 [00:00<?, ? examples/s]"
      ]
     },
     "metadata": {},
     "output_type": "display_data"
    },
    {
     "name": "stdout",
     "output_type": "stream",
     "text": [
      "Dataset blog_authorship_corpus downloaded and prepared to C:\\Users\\papam\\.cache\\huggingface\\datasets\\blog_authorship_corpus\\blog_authorship_corpus\\1.0.0\\6f5d78241afd8313111956f877a57db7a0e9fc6718255dc85df0928197feb683. Subsequent calls will reuse this data.\n"
     ]
    },
    {
     "data": {
      "application/vnd.jupyter.widget-view+json": {
       "model_id": "c02b937ac3fd4180a0e548dea84d71e1",
       "version_major": 2,
       "version_minor": 0
      },
      "text/plain": [
       "  0%|          | 0/2 [00:00<?, ?it/s]"
      ]
     },
     "metadata": {},
     "output_type": "display_data"
    },
    {
     "name": "stdout",
     "output_type": "stream",
     "text": [
      "{'text': \"Yeah, sorry for not writing for a whole there, but I've had a pretty busy weekend so far. I found out I have about 20 tests on Tuesday because my teachers are evil...but oh well. We had marching yesterday. It was cool. We stayed inside the whole time, and I got to play second part, so the music part will be really easy. I left early from marching at around 5:00, then went out to dinner with my friends (I made the plans before I knew about marching). So, dinner was fun. It was Kelly's birthday, so it was cool. Then we went to Kel's for a sleepover, and did bunches of neat stuff, and I went to sleep earlier than usual for a sleepover since I had to be at a Bar Mitzvah this morning. It was pretty neat. I have to do this project for CR, and we have to go to two different places of worship than our own. So, one is obviously a Jewish synagogue, and I think I'm going to go to a mosque for my other one, but who knows...so, this has been my only chance to write, and I actually have to go now, so I'll write more later...maybe.  *Ya di amore*\", 'date': '23,November,2002', 'gender': 'female', 'age': 17, 'horoscope': 'Libra', 'job': 'Student'}\n"
     ]
    }
   ],
   "source": [
    "from datasets import load_dataset, list_metrics, load_metric\n",
    "\n",
    "blog_auth_ds = load_dataset('blog_authorship_corpus', download_mode=\"force_redownload\")\n",
    "print(blog_auth_ds['train'][0])"
   ]
  },
  {
   "cell_type": "code",
   "execution_count": 2,
   "metadata": {},
   "outputs": [
    {
     "data": {
      "application/vnd.jupyter.widget-view+json": {
       "model_id": "90fa2e326c69496eb74e814418563a00",
       "version_major": 2,
       "version_minor": 0
      },
      "text/plain": [
       "  0%|          | 0/689793 [00:00<?, ?ex/s]"
      ]
     },
     "metadata": {},
     "output_type": "display_data"
    },
    {
     "data": {
      "application/vnd.jupyter.widget-view+json": {
       "model_id": "c819a5b4fd5345b89dcc4e00857a3e77",
       "version_major": 2,
       "version_minor": 0
      },
      "text/plain": [
       "  0%|          | 0/37919 [00:00<?, ?ex/s]"
      ]
     },
     "metadata": {},
     "output_type": "display_data"
    },
    {
     "name": "stdout",
     "output_type": "stream",
     "text": [
      "209\n"
     ]
    }
   ],
   "source": [
    "# Add column with the length of the texts\n",
    "ds_with_length = blog_auth_ds.map(lambda x: {'length': len(x['text'].split())})\n",
    "print(ds_with_length['train'][0]['length'])"
   ]
  },
  {
   "cell_type": "code",
   "execution_count": 3,
   "metadata": {},
   "outputs": [
    {
     "data": {
      "application/vnd.jupyter.widget-view+json": {
       "model_id": "b448fbd6cb49421eacbcc3d5d1017de0",
       "version_major": 2,
       "version_minor": 0
      },
      "text/plain": [
       "Downloading:   0%|          | 0.00/226k [00:00<?, ?B/s]"
      ]
     },
     "metadata": {},
     "output_type": "display_data"
    },
    {
     "data": {
      "application/vnd.jupyter.widget-view+json": {
       "model_id": "0f076147db1d4b08a56bed1d3b2c7c12",
       "version_major": 2,
       "version_minor": 0
      },
      "text/plain": [
       "Downloading:   0%|          | 0.00/28.0 [00:00<?, ?B/s]"
      ]
     },
     "metadata": {},
     "output_type": "display_data"
    },
    {
     "data": {
      "application/vnd.jupyter.widget-view+json": {
       "model_id": "6926c414224b480f8e62a9d3447d99a0",
       "version_major": 2,
       "version_minor": 0
      },
      "text/plain": [
       "Downloading:   0%|          | 0.00/570 [00:00<?, ?B/s]"
      ]
     },
     "metadata": {},
     "output_type": "display_data"
    }
   ],
   "source": [
    "# Tokenization\n",
    "from transformers import BertTokenizer\n",
    "\n",
    "tokenizer = BertTokenizer.from_pretrained('bert-base-uncased')"
   ]
  },
  {
   "cell_type": "code",
   "execution_count": 4,
   "metadata": {},
   "outputs": [
    {
     "data": {
      "text/html": [
       "<div>\n",
       "<style scoped>\n",
       "    .dataframe tbody tr th:only-of-type {\n",
       "        vertical-align: middle;\n",
       "    }\n",
       "\n",
       "    .dataframe tbody tr th {\n",
       "        vertical-align: top;\n",
       "    }\n",
       "\n",
       "    .dataframe thead th {\n",
       "        text-align: right;\n",
       "    }\n",
       "</style>\n",
       "<table border=\"1\" class=\"dataframe\">\n",
       "  <thead>\n",
       "    <tr style=\"text-align: right;\">\n",
       "      <th></th>\n",
       "      <th>text</th>\n",
       "      <th>date</th>\n",
       "      <th>gender</th>\n",
       "      <th>age</th>\n",
       "      <th>horoscope</th>\n",
       "      <th>job</th>\n",
       "      <th>length</th>\n",
       "    </tr>\n",
       "  </thead>\n",
       "  <tbody>\n",
       "    <tr>\n",
       "      <th>0</th>\n",
       "      <td>Yeah, sorry for not writing for a whole there,...</td>\n",
       "      <td>23,November,2002</td>\n",
       "      <td>female</td>\n",
       "      <td>17</td>\n",
       "      <td>Libra</td>\n",
       "      <td>Student</td>\n",
       "      <td>209</td>\n",
       "    </tr>\n",
       "    <tr>\n",
       "      <th>1</th>\n",
       "      <td>Yeah, so today was ok, late arrival. I'm not i...</td>\n",
       "      <td>20,November,2002</td>\n",
       "      <td>female</td>\n",
       "      <td>17</td>\n",
       "      <td>Libra</td>\n",
       "      <td>Student</td>\n",
       "      <td>132</td>\n",
       "    </tr>\n",
       "    <tr>\n",
       "      <th>2</th>\n",
       "      <td>Yay, Tuesday...no longer Monday! Whoopie! Plus...</td>\n",
       "      <td>19,November,2002</td>\n",
       "      <td>female</td>\n",
       "      <td>17</td>\n",
       "      <td>Libra</td>\n",
       "      <td>Student</td>\n",
       "      <td>628</td>\n",
       "    </tr>\n",
       "    <tr>\n",
       "      <th>3</th>\n",
       "      <td>RAR!</td>\n",
       "      <td>18,November,2002</td>\n",
       "      <td>female</td>\n",
       "      <td>17</td>\n",
       "      <td>Libra</td>\n",
       "      <td>Student</td>\n",
       "      <td>1</td>\n",
       "    </tr>\n",
       "    <tr>\n",
       "      <th>4</th>\n",
       "      <td>Thought- OK...so, I'm all for midgets and what...</td>\n",
       "      <td>18,November,2002</td>\n",
       "      <td>female</td>\n",
       "      <td>17</td>\n",
       "      <td>Libra</td>\n",
       "      <td>Student</td>\n",
       "      <td>30</td>\n",
       "    </tr>\n",
       "  </tbody>\n",
       "</table>\n",
       "</div>"
      ],
      "text/plain": [
       "                                                text              date  \\\n",
       "0  Yeah, sorry for not writing for a whole there,...  23,November,2002   \n",
       "1  Yeah, so today was ok, late arrival. I'm not i...  20,November,2002   \n",
       "2  Yay, Tuesday...no longer Monday! Whoopie! Plus...  19,November,2002   \n",
       "3                                               RAR!  18,November,2002   \n",
       "4  Thought- OK...so, I'm all for midgets and what...  18,November,2002   \n",
       "\n",
       "   gender  age horoscope      job  length  \n",
       "0  female   17     Libra  Student     209  \n",
       "1  female   17     Libra  Student     132  \n",
       "2  female   17     Libra  Student     628  \n",
       "3  female   17     Libra  Student       1  \n",
       "4  female   17     Libra  Student      30  "
      ]
     },
     "execution_count": 4,
     "metadata": {},
     "output_type": "execute_result"
    }
   ],
   "source": [
    "train_df = ds_with_length['train'].to_pandas()\n",
    "train_df.head()"
   ]
  },
  {
   "cell_type": "code",
   "execution_count": 5,
   "metadata": {},
   "outputs": [
    {
     "data": {
      "text/html": [
       "<div>\n",
       "<style scoped>\n",
       "    .dataframe tbody tr th:only-of-type {\n",
       "        vertical-align: middle;\n",
       "    }\n",
       "\n",
       "    .dataframe tbody tr th {\n",
       "        vertical-align: top;\n",
       "    }\n",
       "\n",
       "    .dataframe thead th {\n",
       "        text-align: right;\n",
       "    }\n",
       "</style>\n",
       "<table border=\"1\" class=\"dataframe\">\n",
       "  <thead>\n",
       "    <tr style=\"text-align: right;\">\n",
       "      <th></th>\n",
       "      <th>text</th>\n",
       "      <th>date</th>\n",
       "      <th>gender</th>\n",
       "      <th>age</th>\n",
       "      <th>horoscope</th>\n",
       "      <th>job</th>\n",
       "      <th>length</th>\n",
       "    </tr>\n",
       "  </thead>\n",
       "  <tbody>\n",
       "    <tr>\n",
       "      <th>0</th>\n",
       "      <td>Well, everyone got up and going this morning. ...</td>\n",
       "      <td>31,May,2004</td>\n",
       "      <td>female</td>\n",
       "      <td>37</td>\n",
       "      <td>Leo</td>\n",
       "      <td>indUnk</td>\n",
       "      <td>107</td>\n",
       "    </tr>\n",
       "    <tr>\n",
       "      <th>1</th>\n",
       "      <td>My four-year old never stops talking.  She'll ...</td>\n",
       "      <td>29,May,2004</td>\n",
       "      <td>female</td>\n",
       "      <td>37</td>\n",
       "      <td>Leo</td>\n",
       "      <td>indUnk</td>\n",
       "      <td>48</td>\n",
       "    </tr>\n",
       "    <tr>\n",
       "      <th>2</th>\n",
       "      <td>Actually it's not raining yet, but I bought 15...</td>\n",
       "      <td>28,May,2004</td>\n",
       "      <td>female</td>\n",
       "      <td>37</td>\n",
       "      <td>Leo</td>\n",
       "      <td>indUnk</td>\n",
       "      <td>96</td>\n",
       "    </tr>\n",
       "    <tr>\n",
       "      <th>3</th>\n",
       "      <td>Ha! Just set up my RSS feed - that is so easy!...</td>\n",
       "      <td>28,May,2004</td>\n",
       "      <td>female</td>\n",
       "      <td>37</td>\n",
       "      <td>Leo</td>\n",
       "      <td>indUnk</td>\n",
       "      <td>67</td>\n",
       "    </tr>\n",
       "    <tr>\n",
       "      <th>4</th>\n",
       "      <td>Oh, which just reminded me, we were talking ab...</td>\n",
       "      <td>28,May,2004</td>\n",
       "      <td>female</td>\n",
       "      <td>37</td>\n",
       "      <td>Leo</td>\n",
       "      <td>indUnk</td>\n",
       "      <td>141</td>\n",
       "    </tr>\n",
       "  </tbody>\n",
       "</table>\n",
       "</div>"
      ],
      "text/plain": [
       "                                                text         date  gender  \\\n",
       "0  Well, everyone got up and going this morning. ...  31,May,2004  female   \n",
       "1  My four-year old never stops talking.  She'll ...  29,May,2004  female   \n",
       "2  Actually it's not raining yet, but I bought 15...  28,May,2004  female   \n",
       "3  Ha! Just set up my RSS feed - that is so easy!...  28,May,2004  female   \n",
       "4  Oh, which just reminded me, we were talking ab...  28,May,2004  female   \n",
       "\n",
       "   age horoscope     job  length  \n",
       "0   37       Leo  indUnk     107  \n",
       "1   37       Leo  indUnk      48  \n",
       "2   37       Leo  indUnk      96  \n",
       "3   37       Leo  indUnk      67  \n",
       "4   37       Leo  indUnk     141  "
      ]
     },
     "execution_count": 5,
     "metadata": {},
     "output_type": "execute_result"
    }
   ],
   "source": [
    "val_df = ds_with_length['validation'].to_pandas()\n",
    "val_df.head()"
   ]
  },
  {
   "cell_type": "code",
   "execution_count": 6,
   "metadata": {},
   "outputs": [
    {
     "data": {
      "text/plain": [
       "((689793, 7), (37919, 7))"
      ]
     },
     "execution_count": 6,
     "metadata": {},
     "output_type": "execute_result"
    }
   ],
   "source": [
    "train_df.shape, val_df.shape"
   ]
  },
  {
   "cell_type": "code",
   "execution_count": 7,
   "metadata": {},
   "outputs": [],
   "source": [
    "import pandas as pd"
   ]
  },
  {
   "cell_type": "code",
   "execution_count": 10,
   "metadata": {},
   "outputs": [
    {
     "data": {
      "text/html": [
       "<div>\n",
       "<style scoped>\n",
       "    .dataframe tbody tr th:only-of-type {\n",
       "        vertical-align: middle;\n",
       "    }\n",
       "\n",
       "    .dataframe tbody tr th {\n",
       "        vertical-align: top;\n",
       "    }\n",
       "\n",
       "    .dataframe thead th {\n",
       "        text-align: right;\n",
       "    }\n",
       "</style>\n",
       "<table border=\"1\" class=\"dataframe\">\n",
       "  <thead>\n",
       "    <tr style=\"text-align: right;\">\n",
       "      <th></th>\n",
       "      <th>text</th>\n",
       "      <th>date</th>\n",
       "      <th>gender</th>\n",
       "      <th>age</th>\n",
       "      <th>horoscope</th>\n",
       "      <th>job</th>\n",
       "      <th>length</th>\n",
       "      <th>tokenized</th>\n",
       "    </tr>\n",
       "  </thead>\n",
       "  <tbody>\n",
       "    <tr>\n",
       "      <th>0</th>\n",
       "      <td>Well, everyone got up and going this morning. ...</td>\n",
       "      <td>31,May,2004</td>\n",
       "      <td>female</td>\n",
       "      <td>37</td>\n",
       "      <td>Leo</td>\n",
       "      <td>indUnk</td>\n",
       "      <td>107</td>\n",
       "      <td>well , everyone got up and going this morning ...</td>\n",
       "    </tr>\n",
       "    <tr>\n",
       "      <th>1</th>\n",
       "      <td>My four-year old never stops talking.  She'll ...</td>\n",
       "      <td>29,May,2004</td>\n",
       "      <td>female</td>\n",
       "      <td>37</td>\n",
       "      <td>Leo</td>\n",
       "      <td>indUnk</td>\n",
       "      <td>48</td>\n",
       "      <td>my four - year old never stops talking . she '...</td>\n",
       "    </tr>\n",
       "    <tr>\n",
       "      <th>2</th>\n",
       "      <td>Actually it's not raining yet, but I bought 15...</td>\n",
       "      <td>28,May,2004</td>\n",
       "      <td>female</td>\n",
       "      <td>37</td>\n",
       "      <td>Leo</td>\n",
       "      <td>indUnk</td>\n",
       "      <td>96</td>\n",
       "      <td>actually it ' s not raining yet , but i bought...</td>\n",
       "    </tr>\n",
       "    <tr>\n",
       "      <th>3</th>\n",
       "      <td>Ha! Just set up my RSS feed - that is so easy!...</td>\n",
       "      <td>28,May,2004</td>\n",
       "      <td>female</td>\n",
       "      <td>37</td>\n",
       "      <td>Leo</td>\n",
       "      <td>indUnk</td>\n",
       "      <td>67</td>\n",
       "      <td>ha ! just set up my rs ##s feed - that is so e...</td>\n",
       "    </tr>\n",
       "    <tr>\n",
       "      <th>4</th>\n",
       "      <td>Oh, which just reminded me, we were talking ab...</td>\n",
       "      <td>28,May,2004</td>\n",
       "      <td>female</td>\n",
       "      <td>37</td>\n",
       "      <td>Leo</td>\n",
       "      <td>indUnk</td>\n",
       "      <td>141</td>\n",
       "      <td>oh , which just reminded me , we were talking ...</td>\n",
       "    </tr>\n",
       "  </tbody>\n",
       "</table>\n",
       "</div>"
      ],
      "text/plain": [
       "                                                text         date  gender  \\\n",
       "0  Well, everyone got up and going this morning. ...  31,May,2004  female   \n",
       "1  My four-year old never stops talking.  She'll ...  29,May,2004  female   \n",
       "2  Actually it's not raining yet, but I bought 15...  28,May,2004  female   \n",
       "3  Ha! Just set up my RSS feed - that is so easy!...  28,May,2004  female   \n",
       "4  Oh, which just reminded me, we were talking ab...  28,May,2004  female   \n",
       "\n",
       "   age horoscope     job  length  \\\n",
       "0   37       Leo  indUnk     107   \n",
       "1   37       Leo  indUnk      48   \n",
       "2   37       Leo  indUnk      96   \n",
       "3   37       Leo  indUnk      67   \n",
       "4   37       Leo  indUnk     141   \n",
       "\n",
       "                                           tokenized  \n",
       "0  well , everyone got up and going this morning ...  \n",
       "1  my four - year old never stops talking . she '...  \n",
       "2  actually it ' s not raining yet , but i bought...  \n",
       "3  ha ! just set up my rs ##s feed - that is so e...  \n",
       "4  oh , which just reminded me , we were talking ...  "
      ]
     },
     "execution_count": 10,
     "metadata": {},
     "output_type": "execute_result"
    }
   ],
   "source": [
    "val_df['tokenized'] = val_df['text'].apply(tokenizer.tokenize).apply(\" \".join)\n",
    "val_df.head()"
   ]
  },
  {
   "cell_type": "code",
   "execution_count": 11,
   "metadata": {},
   "outputs": [
    {
     "data": {
      "text/html": [
       "<div>\n",
       "<style scoped>\n",
       "    .dataframe tbody tr th:only-of-type {\n",
       "        vertical-align: middle;\n",
       "    }\n",
       "\n",
       "    .dataframe tbody tr th {\n",
       "        vertical-align: top;\n",
       "    }\n",
       "\n",
       "    .dataframe thead th {\n",
       "        text-align: right;\n",
       "    }\n",
       "</style>\n",
       "<table border=\"1\" class=\"dataframe\">\n",
       "  <thead>\n",
       "    <tr style=\"text-align: right;\">\n",
       "      <th></th>\n",
       "      <th>text</th>\n",
       "      <th>date</th>\n",
       "      <th>gender</th>\n",
       "      <th>age</th>\n",
       "      <th>horoscope</th>\n",
       "      <th>job</th>\n",
       "      <th>length</th>\n",
       "      <th>tokenized</th>\n",
       "    </tr>\n",
       "  </thead>\n",
       "  <tbody>\n",
       "    <tr>\n",
       "      <th>0</th>\n",
       "      <td>Yeah, sorry for not writing for a whole there,...</td>\n",
       "      <td>23,November,2002</td>\n",
       "      <td>female</td>\n",
       "      <td>17</td>\n",
       "      <td>Libra</td>\n",
       "      <td>Student</td>\n",
       "      <td>209</td>\n",
       "      <td>yeah , sorry for not writing for a whole there...</td>\n",
       "    </tr>\n",
       "    <tr>\n",
       "      <th>1</th>\n",
       "      <td>Yeah, so today was ok, late arrival. I'm not i...</td>\n",
       "      <td>20,November,2002</td>\n",
       "      <td>female</td>\n",
       "      <td>17</td>\n",
       "      <td>Libra</td>\n",
       "      <td>Student</td>\n",
       "      <td>132</td>\n",
       "      <td>yeah , so today was ok , late arrival . i ' m ...</td>\n",
       "    </tr>\n",
       "    <tr>\n",
       "      <th>2</th>\n",
       "      <td>Yay, Tuesday...no longer Monday! Whoopie! Plus...</td>\n",
       "      <td>19,November,2002</td>\n",
       "      <td>female</td>\n",
       "      <td>17</td>\n",
       "      <td>Libra</td>\n",
       "      <td>Student</td>\n",
       "      <td>628</td>\n",
       "      <td>ya ##y , tuesday . . . no longer monday ! who ...</td>\n",
       "    </tr>\n",
       "    <tr>\n",
       "      <th>3</th>\n",
       "      <td>RAR!</td>\n",
       "      <td>18,November,2002</td>\n",
       "      <td>female</td>\n",
       "      <td>17</td>\n",
       "      <td>Libra</td>\n",
       "      <td>Student</td>\n",
       "      <td>1</td>\n",
       "      <td>ra ##r !</td>\n",
       "    </tr>\n",
       "    <tr>\n",
       "      <th>4</th>\n",
       "      <td>Thought- OK...so, I'm all for midgets and what...</td>\n",
       "      <td>18,November,2002</td>\n",
       "      <td>female</td>\n",
       "      <td>17</td>\n",
       "      <td>Libra</td>\n",
       "      <td>Student</td>\n",
       "      <td>30</td>\n",
       "      <td>thought - ok . . . so , i ' m all for mid ##ge...</td>\n",
       "    </tr>\n",
       "  </tbody>\n",
       "</table>\n",
       "</div>"
      ],
      "text/plain": [
       "                                                text              date  \\\n",
       "0  Yeah, sorry for not writing for a whole there,...  23,November,2002   \n",
       "1  Yeah, so today was ok, late arrival. I'm not i...  20,November,2002   \n",
       "2  Yay, Tuesday...no longer Monday! Whoopie! Plus...  19,November,2002   \n",
       "3                                               RAR!  18,November,2002   \n",
       "4  Thought- OK...so, I'm all for midgets and what...  18,November,2002   \n",
       "\n",
       "   gender  age horoscope      job  length  \\\n",
       "0  female   17     Libra  Student     209   \n",
       "1  female   17     Libra  Student     132   \n",
       "2  female   17     Libra  Student     628   \n",
       "3  female   17     Libra  Student       1   \n",
       "4  female   17     Libra  Student      30   \n",
       "\n",
       "                                           tokenized  \n",
       "0  yeah , sorry for not writing for a whole there...  \n",
       "1  yeah , so today was ok , late arrival . i ' m ...  \n",
       "2  ya ##y , tuesday . . . no longer monday ! who ...  \n",
       "3                                           ra ##r !  \n",
       "4  thought - ok . . . so , i ' m all for mid ##ge...  "
      ]
     },
     "execution_count": 11,
     "metadata": {},
     "output_type": "execute_result"
    }
   ],
   "source": [
    "train_df['tokenized'] = train_df['text'].apply(tokenizer.tokenize).apply(\" \".join)\n",
    "train_df.head()"
   ]
  },
  {
   "cell_type": "code",
   "execution_count": 12,
   "metadata": {},
   "outputs": [],
   "source": [
    "df = pd.concat([train_df, val_df], ignore_index=True)"
   ]
  },
  {
   "cell_type": "code",
   "execution_count": 13,
   "metadata": {},
   "outputs": [
    {
     "data": {
      "text/plain": [
       "(727712, 8)"
      ]
     },
     "execution_count": 13,
     "metadata": {},
     "output_type": "execute_result"
    }
   ],
   "source": [
    "df.shape"
   ]
  },
  {
   "cell_type": "code",
   "execution_count": 18,
   "metadata": {},
   "outputs": [],
   "source": [
    "import csv\n",
    "\n",
    "df.to_csv('blog_authorship_tokenized.csv', index=False, sep='|', encoding=\"utf-8\", quoting=csv.QUOTE_NONE, escapechar='|')"
   ]
  }
 ],
 "metadata": {
  "interpreter": {
   "hash": "1baa965d5efe3ac65b79dfc60c0d706280b1da80fedb7760faf2759126c4f253"
  },
  "kernelspec": {
   "display_name": "Python 3.8.2 64-bit",
   "language": "python",
   "name": "python3"
  },
  "language_info": {
   "codemirror_mode": {
    "name": "ipython",
    "version": 3
   },
   "file_extension": ".py",
   "mimetype": "text/x-python",
   "name": "python",
   "nbconvert_exporter": "python",
   "pygments_lexer": "ipython3",
   "version": "3.10.4"
  },
  "orig_nbformat": 4
 },
 "nbformat": 4,
 "nbformat_minor": 2
}
