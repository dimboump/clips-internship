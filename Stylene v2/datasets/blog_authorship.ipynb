{
 "cells": [
  {
   "cell_type": "markdown",
   "metadata": {},
   "source": [
    "## Run only the first time"
   ]
  },
  {
   "cell_type": "code",
   "execution_count": 1,
   "metadata": {},
   "outputs": [],
   "source": [
    "import pandas as pd\n",
    "import spacy\n",
    "import pprint\n",
    "from matplotlib import pyplot as plt"
   ]
  },
  {
   "cell_type": "code",
   "execution_count": 2,
   "metadata": {},
   "outputs": [
    {
     "data": {
      "application/vnd.jupyter.widget-view+json": {
       "model_id": "93d5ee6b634d49eb819917bb581003f2",
       "version_major": 2,
       "version_minor": 0
      },
      "text/plain": [
       "Downloading builder script:   0%|          | 0.00/2.27k [00:00<?, ?B/s]"
      ]
     },
     "metadata": {},
     "output_type": "display_data"
    },
    {
     "data": {
      "application/vnd.jupyter.widget-view+json": {
       "model_id": "af939765bf7647db81591af7b43d40b6",
       "version_major": 2,
       "version_minor": 0
      },
      "text/plain": [
       "Downloading metadata:   0%|          | 0.00/1.33k [00:00<?, ?B/s]"
      ]
     },
     "metadata": {},
     "output_type": "display_data"
    },
    {
     "name": "stdout",
     "output_type": "stream",
     "text": [
      "Downloading and preparing dataset blog_authorship_corpus/blog_authorship_corpus (download: 603.58 MiB, generated: 758.24 MiB, post-processed: Unknown size, total: 1.33 GiB) to C:\\Users\\user\\.cache\\huggingface\\datasets\\blog_authorship_corpus\\blog_authorship_corpus\\1.0.0\\6f5d78241afd8313111956f877a57db7a0e9fc6718255dc85df0928197feb683...\n"
     ]
    },
    {
     "data": {
      "application/vnd.jupyter.widget-view+json": {
       "model_id": "edb99aa4a5dc4366bfda2227e95cecc6",
       "version_major": 2,
       "version_minor": 0
      },
      "text/plain": [
       "Downloading data:   0%|          | 0.00/633M [00:00<?, ?B/s]"
      ]
     },
     "metadata": {},
     "output_type": "display_data"
    },
    {
     "data": {
      "application/vnd.jupyter.widget-view+json": {
       "model_id": "77e62612818043dcb6bef1dc71da5dfa",
       "version_major": 2,
       "version_minor": 0
      },
      "text/plain": [
       "Generating train split:   0%|          | 0/689793 [00:00<?, ? examples/s]"
      ]
     },
     "metadata": {},
     "output_type": "display_data"
    },
    {
     "data": {
      "application/vnd.jupyter.widget-view+json": {
       "model_id": "1cc07d6d10804b92ab9f405413bc2583",
       "version_major": 2,
       "version_minor": 0
      },
      "text/plain": [
       "Generating validation split:   0%|          | 0/37919 [00:00<?, ? examples/s]"
      ]
     },
     "metadata": {},
     "output_type": "display_data"
    },
    {
     "name": "stdout",
     "output_type": "stream",
     "text": [
      "Dataset blog_authorship_corpus downloaded and prepared to C:\\Users\\user\\.cache\\huggingface\\datasets\\blog_authorship_corpus\\blog_authorship_corpus\\1.0.0\\6f5d78241afd8313111956f877a57db7a0e9fc6718255dc85df0928197feb683. Subsequent calls will reuse this data.\n"
     ]
    },
    {
     "data": {
      "application/vnd.jupyter.widget-view+json": {
       "model_id": "e90bc053411c4ba7af33456d3c7edb0d",
       "version_major": 2,
       "version_minor": 0
      },
      "text/plain": [
       "  0%|          | 0/2 [00:00<?, ?it/s]"
      ]
     },
     "metadata": {},
     "output_type": "display_data"
    },
    {
     "name": "stdout",
     "output_type": "stream",
     "text": [
      "{'age': 17,\n",
      " 'date': '23,November,2002',\n",
      " 'gender': 'female',\n",
      " 'horoscope': 'Libra',\n",
      " 'job': 'Student',\n",
      " 'text': \"Yeah, sorry for not writing for a whole there, but I've had a pretty \"\n",
      "         'busy weekend so far. I found out I have about 20 tests on Tuesday '\n",
      "         'because my teachers are evil...but oh well. We had marching '\n",
      "         'yesterday. It was cool. We stayed inside the whole time, and I got '\n",
      "         'to play second part, so the music part will be really easy. I left '\n",
      "         'early from marching at around 5:00, then went out to dinner with my '\n",
      "         'friends (I made the plans before I knew about marching). So, dinner '\n",
      "         \"was fun. It was Kelly's birthday, so it was cool. Then we went to \"\n",
      "         \"Kel's for a sleepover, and did bunches of neat stuff, and I went to \"\n",
      "         'sleep earlier than usual for a sleepover since I had to be at a Bar '\n",
      "         'Mitzvah this morning. It was pretty neat. I have to do this project '\n",
      "         'for CR, and we have to go to two different places of worship than '\n",
      "         \"our own. So, one is obviously a Jewish synagogue, and I think I'm \"\n",
      "         'going to go to a mosque for my other one, but who knows...so, this '\n",
      "         'has been my only chance to write, and I actually have to go now, so '\n",
      "         \"I'll write more later...maybe.  *Ya di amore*\"}\n"
     ]
    }
   ],
   "source": [
    "from datasets import load_dataset\n",
    "\n",
    "# Run only the first time\n",
    "corpus = load_dataset('blog_authorship_corpus', download_mode='force_redownload')\n",
    "pprint.pprint(corpus['train'][0])"
   ]
  },
  {
   "cell_type": "code",
   "execution_count": 3,
   "metadata": {},
   "outputs": [
    {
     "name": "stdout",
     "output_type": "stream",
     "text": [
      "True\n"
     ]
    },
    {
     "data": {
      "text/html": [
       "<div>\n",
       "<style scoped>\n",
       "    .dataframe tbody tr th:only-of-type {\n",
       "        vertical-align: middle;\n",
       "    }\n",
       "\n",
       "    .dataframe tbody tr th {\n",
       "        vertical-align: top;\n",
       "    }\n",
       "\n",
       "    .dataframe thead th {\n",
       "        text-align: right;\n",
       "    }\n",
       "</style>\n",
       "<table border=\"1\" class=\"dataframe\">\n",
       "  <thead>\n",
       "    <tr style=\"text-align: right;\">\n",
       "      <th></th>\n",
       "      <th>text</th>\n",
       "      <th>date</th>\n",
       "      <th>gender</th>\n",
       "      <th>age</th>\n",
       "      <th>horoscope</th>\n",
       "      <th>job</th>\n",
       "    </tr>\n",
       "  </thead>\n",
       "  <tbody>\n",
       "    <tr>\n",
       "      <th>291152</th>\n",
       "      <td>Hey students...I am settling in and have alrea...</td>\n",
       "      <td>23,July,2004</td>\n",
       "      <td>male</td>\n",
       "      <td>17</td>\n",
       "      <td>Aquarius</td>\n",
       "      <td>indUnk</td>\n",
       "    </tr>\n",
       "    <tr>\n",
       "      <th>680625</th>\n",
       "      <td>son of a bitch, I forgot the Wednesday Best AG...</td>\n",
       "      <td>23,September,2003</td>\n",
       "      <td>female</td>\n",
       "      <td>16</td>\n",
       "      <td>Aries</td>\n",
       "      <td>Student</td>\n",
       "    </tr>\n",
       "    <tr>\n",
       "      <th>96450</th>\n",
       "      <td>By the way, that was also not meant as a chast...</td>\n",
       "      <td>12,July,2003</td>\n",
       "      <td>male</td>\n",
       "      <td>23</td>\n",
       "      <td>Cancer</td>\n",
       "      <td>indUnk</td>\n",
       "    </tr>\n",
       "    <tr>\n",
       "      <th>617426</th>\n",
       "      <td>Cum sucker, fetal rapist, Chunk the Drunk... A...</td>\n",
       "      <td>09,October,2003</td>\n",
       "      <td>female</td>\n",
       "      <td>25</td>\n",
       "      <td>Scorpio</td>\n",
       "      <td>Engineering</td>\n",
       "    </tr>\n",
       "    <tr>\n",
       "      <th>700667</th>\n",
       "      <td>urlLink the people i deal with every day</td>\n",
       "      <td>08,May,2004</td>\n",
       "      <td>male</td>\n",
       "      <td>24</td>\n",
       "      <td>Taurus</td>\n",
       "      <td>indUnk</td>\n",
       "    </tr>\n",
       "    <tr>\n",
       "      <th>521885</th>\n",
       "      <td>Look, I made a profile. I feel like such a los...</td>\n",
       "      <td>13,July,2004</td>\n",
       "      <td>male</td>\n",
       "      <td>25</td>\n",
       "      <td>Pisces</td>\n",
       "      <td>indUnk</td>\n",
       "    </tr>\n",
       "    <tr>\n",
       "      <th>286460</th>\n",
       "      <td>Tonight was knitting night. I am no longer the...</td>\n",
       "      <td>30,May,2004</td>\n",
       "      <td>female</td>\n",
       "      <td>38</td>\n",
       "      <td>Virgo</td>\n",
       "      <td>indUnk</td>\n",
       "    </tr>\n",
       "    <tr>\n",
       "      <th>65743</th>\n",
       "      <td>Jama is leaving again! She's going to camp! :-...</td>\n",
       "      <td>17,July,2004</td>\n",
       "      <td>female</td>\n",
       "      <td>15</td>\n",
       "      <td>Libra</td>\n",
       "      <td>indUnk</td>\n",
       "    </tr>\n",
       "    <tr>\n",
       "      <th>142553</th>\n",
       "      <td>Weâve been driving all this week through New...</td>\n",
       "      <td>17,July,2004</td>\n",
       "      <td>female</td>\n",
       "      <td>27</td>\n",
       "      <td>Cancer</td>\n",
       "      <td>indUnk</td>\n",
       "    </tr>\n",
       "    <tr>\n",
       "      <th>104222</th>\n",
       "      <td>When the idea for  The Thackery T. Lambshead P...</td>\n",
       "      <td>24,June,2003</td>\n",
       "      <td>male</td>\n",
       "      <td>36</td>\n",
       "      <td>Cancer</td>\n",
       "      <td>indUnk</td>\n",
       "    </tr>\n",
       "  </tbody>\n",
       "</table>\n",
       "</div>"
      ],
      "text/plain": [
       "                                                     text               date  \\\n",
       "291152  Hey students...I am settling in and have alrea...       23,July,2004   \n",
       "680625  son of a bitch, I forgot the Wednesday Best AG...  23,September,2003   \n",
       "96450   By the way, that was also not meant as a chast...       12,July,2003   \n",
       "617426  Cum sucker, fetal rapist, Chunk the Drunk... A...    09,October,2003   \n",
       "700667           urlLink the people i deal with every day        08,May,2004   \n",
       "521885  Look, I made a profile. I feel like such a los...       13,July,2004   \n",
       "286460  Tonight was knitting night. I am no longer the...        30,May,2004   \n",
       "65743   Jama is leaving again! She's going to camp! :-...       17,July,2004   \n",
       "142553  Weâve been driving all this week through New...       17,July,2004   \n",
       "104222  When the idea for  The Thackery T. Lambshead P...       24,June,2003   \n",
       "\n",
       "        gender  age horoscope          job  \n",
       "291152    male   17  Aquarius       indUnk  \n",
       "680625  female   16     Aries      Student  \n",
       "96450     male   23    Cancer       indUnk  \n",
       "617426  female   25   Scorpio  Engineering  \n",
       "700667    male   24    Taurus       indUnk  \n",
       "521885    male   25    Pisces       indUnk  \n",
       "286460  female   38     Virgo       indUnk  \n",
       "65743   female   15     Libra       indUnk  \n",
       "142553  female   27    Cancer       indUnk  \n",
       "104222    male   36    Cancer       indUnk  "
      ]
     },
     "execution_count": 3,
     "metadata": {},
     "output_type": "execute_result"
    }
   ],
   "source": [
    "train_df = corpus['train'].to_pandas()\n",
    "test_df = corpus['validation'].to_pandas()\n",
    "\n",
    "full_df = pd.concat([train_df, test_df], ignore_index=True)\n",
    "print(train_df.shape[0] + test_df.shape[0] == full_df.shape[0])\n",
    "full_df.sample(10)"
   ]
  },
  {
   "cell_type": "code",
   "execution_count": 5,
   "metadata": {},
   "outputs": [],
   "source": [
    "full_df.to_csv('blog_authorship_corpus.csv', index=False, encoding='utf-8')"
   ]
  },
  {
   "cell_type": "markdown",
   "metadata": {},
   "source": [
    "## Run every other time"
   ]
  },
  {
   "cell_type": "code",
   "execution_count": 2,
   "metadata": {},
   "outputs": [
    {
     "data": {
      "text/plain": [
       "(727712, 6)"
      ]
     },
     "execution_count": 2,
     "metadata": {},
     "output_type": "execute_result"
    }
   ],
   "source": [
    "full_df = pd.read_csv('blog_authorship_corpus.csv', encoding='utf-8')\n",
    "full_df.shape"
   ]
  },
  {
   "cell_type": "code",
   "execution_count": 3,
   "metadata": {},
   "outputs": [
    {
     "data": {
      "text/html": [
       "<div>\n",
       "<style scoped>\n",
       "    .dataframe tbody tr th:only-of-type {\n",
       "        vertical-align: middle;\n",
       "    }\n",
       "\n",
       "    .dataframe tbody tr th {\n",
       "        vertical-align: top;\n",
       "    }\n",
       "\n",
       "    .dataframe thead th {\n",
       "        text-align: right;\n",
       "    }\n",
       "</style>\n",
       "<table border=\"1\" class=\"dataframe\">\n",
       "  <thead>\n",
       "    <tr style=\"text-align: right;\">\n",
       "      <th></th>\n",
       "      <th>text</th>\n",
       "      <th>date</th>\n",
       "      <th>gender</th>\n",
       "      <th>age</th>\n",
       "      <th>horoscope</th>\n",
       "      <th>job</th>\n",
       "    </tr>\n",
       "  </thead>\n",
       "  <tbody>\n",
       "    <tr>\n",
       "      <th>196562</th>\n",
       "      <td>NaN</td>\n",
       "      <td>29,April,2004</td>\n",
       "      <td>female</td>\n",
       "      <td>23</td>\n",
       "      <td>Capricorn</td>\n",
       "      <td>Communications-Media</td>\n",
       "    </tr>\n",
       "  </tbody>\n",
       "</table>\n",
       "</div>"
      ],
      "text/plain": [
       "       text           date  gender  age  horoscope                   job\n",
       "196562  NaN  29,April,2004  female   23  Capricorn  Communications-Media"
      ]
     },
     "execution_count": 3,
     "metadata": {},
     "output_type": "execute_result"
    }
   ],
   "source": [
    "full_df[full_df['text'].isnull()]"
   ]
  },
  {
   "cell_type": "code",
   "execution_count": 4,
   "metadata": {},
   "outputs": [],
   "source": [
    "full_df = full_df.dropna()"
   ]
  },
  {
   "cell_type": "markdown",
   "metadata": {},
   "source": [
    "## Cleaning the dataframe"
   ]
  },
  {
   "cell_type": "code",
   "execution_count": 5,
   "metadata": {},
   "outputs": [],
   "source": [
    "full_df = full_df.drop(columns=['date'])"
   ]
  },
  {
   "cell_type": "code",
   "execution_count": 6,
   "metadata": {},
   "outputs": [
    {
     "name": "stdout",
     "output_type": "stream",
     "text": [
      "193495\n",
      "0\n"
     ]
    }
   ],
   "source": [
    "# How many rows contain 'urlLink'?\n",
    "print(full_df['text'].str.contains('urlLink').sum())\n",
    "full_df['text'] = full_df['text'].str.replace('urlLink', '')\n",
    "print(full_df['text'].str.contains('urlLink').sum())"
   ]
  },
  {
   "cell_type": "code",
   "execution_count": 7,
   "metadata": {},
   "outputs": [
    {
     "data": {
      "text/plain": [
       "247384"
      ]
     },
     "execution_count": 7,
     "metadata": {},
     "output_type": "execute_result"
    }
   ],
   "source": [
    "len(full_df[full_df['age'] < 18])"
   ]
  },
  {
   "cell_type": "code",
   "execution_count": 8,
   "metadata": {},
   "outputs": [
    {
     "data": {
      "text/plain": [
       "<18      247384\n",
       "18-24    166394\n",
       "25-34    222498\n",
       ">35       91435\n",
       "Name: age_group, dtype: int64"
      ]
     },
     "execution_count": 8,
     "metadata": {},
     "output_type": "execute_result"
    }
   ],
   "source": [
    "# Transform age into age groups\n",
    "bins   = [0, 18, 24, 34, 100]\n",
    "labels = ['<18', '18-24', '25-34', '>35']\n",
    "full_df['age_group'] = pd.cut(full_df['age'], bins=bins, labels=labels)\n",
    "full_df['age_group'].value_counts(sort=False, dropna=False)"
   ]
  },
  {
   "cell_type": "code",
   "execution_count": 9,
   "metadata": {},
   "outputs": [],
   "source": [
    "full_df = full_df.drop(columns=['age'])"
   ]
  },
  {
   "cell_type": "code",
   "execution_count": 10,
   "metadata": {},
   "outputs": [
    {
     "name": "stdout",
     "output_type": "stream",
     "text": [
      "AGE_GROUP\n",
      "<18      247384\n",
      "25-34    222498\n",
      "18-24    166394\n",
      ">35       91435\n",
      "Name: age_group, dtype: int64\n",
      "\n",
      "GENDER\n",
      "male      370786\n",
      "female    356925\n",
      "Name: gender, dtype: int64\n",
      "\n",
      "HOROSCOPE\n",
      "Aries          71636\n",
      "Virgo          68490\n",
      "Taurus         67868\n",
      "Cancer         66944\n",
      "Libra          63994\n",
      "Leo            59801\n",
      "Scorpio        58870\n",
      "Gemini         56921\n",
      "Pisces         56481\n",
      "Sagittarius    52753\n",
      "Capricorn      52206\n",
      "Aquarius       51747\n",
      "Name: horoscope, dtype: int64\n",
      "\n",
      "JOB\n",
      "indUnk                     263240\n",
      "Student                    164288\n",
      "Technology                  53882\n",
      "Arts                        34772\n",
      "Education                   30919\n",
      "Communications-Media        20649\n",
      "Internet                    17621\n",
      "Non-Profit                  16015\n",
      "Engineering                 12386\n",
      "Law                          9156\n",
      "Science                      7819\n",
      "Publishing                   7718\n",
      "Government                   6943\n",
      "Consulting                   5956\n",
      "Religion                     5431\n",
      "Advertising                  4966\n",
      "Fashion                      4850\n",
      "Marketing                    4714\n",
      "BusinessServices             4477\n",
      "Telecommunications           4410\n",
      "Military                     4315\n",
      "Banking                      4046\n",
      "Chemicals                    3929\n",
      "Accounting                   3824\n",
      "Museums-Libraries            3165\n",
      "HumanResources               3074\n",
      "Sports-Recreation            3020\n",
      "RealEstate                   2946\n",
      "Transportation               2431\n",
      "Biotech                      2366\n",
      "Manufacturing                2226\n",
      "Tourism                      2049\n",
      "LawEnforcement-Security      1896\n",
      "Architecture                 1657\n",
      "Construction                 1641\n",
      "InvestmentBanking            1454\n",
      "Automotive                   1366\n",
      "Agriculture                  1232\n",
      "Environment                   587\n",
      "Maritime                      275\n",
      "Name: job, dtype: int64\n",
      "\n"
     ]
    }
   ],
   "source": [
    "# Convert columns to categories\n",
    "cat_cols = full_df.columns.difference(['text']).tolist()\n",
    "for col in cat_cols:\n",
    "    full_df[col] = full_df[col].astype('category')\n",
    "    vc = full_df[col].value_counts()\n",
    "    print(f'{col.upper()}', vc, sep='\\n', end='\\n\\n')"
   ]
  },
  {
   "cell_type": "code",
   "execution_count": 11,
   "metadata": {},
   "outputs": [
    {
     "name": "stdout",
     "output_type": "stream",
     "text": [
      "727711\n",
      "635599\n"
     ]
    }
   ],
   "source": [
    "full_df['n_words'] = full_df['text'].apply(lambda x: len(x.split()))\n",
    "print(full_df.shape[0])\n",
    "full_df = full_df[full_df['n_words'] > 10] # drop short texts\n",
    "print(full_df.shape[0])"
   ]
  },
  {
   "cell_type": "code",
   "execution_count": 12,
   "metadata": {},
   "outputs": [],
   "source": [
    "full_df['text'] = full_df['text'].str.replace(r'https?:\\/\\/.*[\\r\\n\\s]*', ' ', regex=True) # remove URLs\n",
    "full_df['text'] = full_df['text'].str.replace(r'&[a-z]+;', ' ', regex=True) # remove html entities\n",
    "full_df['text'] = full_df['text'].str.replace(r'\\s+', ' ', regex=True) # remove multiple spaces"
   ]
  },
  {
   "cell_type": "code",
   "execution_count": 13,
   "metadata": {},
   "outputs": [],
   "source": [
    "full_df.to_csv('blog_authorship.csv', index=False, encoding='utf-8')"
   ]
  },
  {
   "cell_type": "markdown",
   "metadata": {},
   "source": [
    "## Tokenize"
   ]
  },
  {
   "cell_type": "code",
   "execution_count": 14,
   "metadata": {},
   "outputs": [
    {
     "data": {
      "text/html": [
       "<div>\n",
       "<style scoped>\n",
       "    .dataframe tbody tr th:only-of-type {\n",
       "        vertical-align: middle;\n",
       "    }\n",
       "\n",
       "    .dataframe tbody tr th {\n",
       "        vertical-align: top;\n",
       "    }\n",
       "\n",
       "    .dataframe thead th {\n",
       "        text-align: right;\n",
       "    }\n",
       "</style>\n",
       "<table border=\"1\" class=\"dataframe\">\n",
       "  <thead>\n",
       "    <tr style=\"text-align: right;\">\n",
       "      <th></th>\n",
       "      <th>text</th>\n",
       "      <th>gender</th>\n",
       "      <th>horoscope</th>\n",
       "      <th>job</th>\n",
       "      <th>age_group</th>\n",
       "      <th>n_words</th>\n",
       "      <th>tokenized</th>\n",
       "    </tr>\n",
       "  </thead>\n",
       "  <tbody>\n",
       "    <tr>\n",
       "      <th>144099</th>\n",
       "      <td>I was looking through some other blogs today a...</td>\n",
       "      <td>female</td>\n",
       "      <td>Libra</td>\n",
       "      <td>Education</td>\n",
       "      <td>25-34</td>\n",
       "      <td>101</td>\n",
       "      <td>i was looking through some other blogs today a...</td>\n",
       "    </tr>\n",
       "    <tr>\n",
       "      <th>557753</th>\n",
       "      <td>I noticed that I am writing way more than I in...</td>\n",
       "      <td>male</td>\n",
       "      <td>Capricorn</td>\n",
       "      <td>Internet</td>\n",
       "      <td>&gt;35</td>\n",
       "      <td>201</td>\n",
       "      <td>i noticed that i am writing way more than i in...</td>\n",
       "    </tr>\n",
       "    <tr>\n",
       "      <th>648631</th>\n",
       "      <td>My day was interesting enough. God, I hate my ...</td>\n",
       "      <td>female</td>\n",
       "      <td>Virgo</td>\n",
       "      <td>Student</td>\n",
       "      <td>&lt;18</td>\n",
       "      <td>235</td>\n",
       "      <td>my day was interesting enough . god , i hate m...</td>\n",
       "    </tr>\n",
       "    <tr>\n",
       "      <th>273381</th>\n",
       "      <td>.....and he emerged from the dark clouds and s...</td>\n",
       "      <td>male</td>\n",
       "      <td>Sagittarius</td>\n",
       "      <td>indUnk</td>\n",
       "      <td>&lt;18</td>\n",
       "      <td>318</td>\n",
       "      <td>..... and he emerged from the dark clouds and ...</td>\n",
       "    </tr>\n",
       "    <tr>\n",
       "      <th>110954</th>\n",
       "      <td>The vomit's coming, Bill. I promise. To Contin...</td>\n",
       "      <td>female</td>\n",
       "      <td>Virgo</td>\n",
       "      <td>indUnk</td>\n",
       "      <td>&gt;35</td>\n",
       "      <td>247</td>\n",
       "      <td>the vomit 's coming , bill . i promise . to co...</td>\n",
       "    </tr>\n",
       "    <tr>\n",
       "      <th>561162</th>\n",
       "      <td>I promised you a diatribe about the state of j...</td>\n",
       "      <td>female</td>\n",
       "      <td>Libra</td>\n",
       "      <td>Education</td>\n",
       "      <td>25-34</td>\n",
       "      <td>614</td>\n",
       "      <td>i promised you a diatribe about the state of j...</td>\n",
       "    </tr>\n",
       "    <tr>\n",
       "      <th>572565</th>\n",
       "      <td>something i know is i dont know wat to write h...</td>\n",
       "      <td>male</td>\n",
       "      <td>Sagittarius</td>\n",
       "      <td>Student</td>\n",
       "      <td>&lt;18</td>\n",
       "      <td>152</td>\n",
       "      <td>something i know is i do nt know wat to write ...</td>\n",
       "    </tr>\n",
       "    <tr>\n",
       "      <th>156594</th>\n",
       "      <td>Hey, I missed a couple of days, but that's ok....</td>\n",
       "      <td>male</td>\n",
       "      <td>Libra</td>\n",
       "      <td>Education</td>\n",
       "      <td>25-34</td>\n",
       "      <td>164</td>\n",
       "      <td>hey , i missed a couple of days , but that 's ...</td>\n",
       "    </tr>\n",
       "    <tr>\n",
       "      <th>446580</th>\n",
       "      <td>Sudden Flash Back. I think I'm getting my memo...</td>\n",
       "      <td>female</td>\n",
       "      <td>Scorpio</td>\n",
       "      <td>Communications-Media</td>\n",
       "      <td>25-34</td>\n",
       "      <td>188</td>\n",
       "      <td>sudden flash back . i think i 'm getting my me...</td>\n",
       "    </tr>\n",
       "    <tr>\n",
       "      <th>80368</th>\n",
       "      <td>Iraqi Weapons Only One Reason for War-Wolfowit...</td>\n",
       "      <td>male</td>\n",
       "      <td>Aquarius</td>\n",
       "      <td>Education</td>\n",
       "      <td>&gt;35</td>\n",
       "      <td>393</td>\n",
       "      <td>iraqi weapons only one reason for war - wolfow...</td>\n",
       "    </tr>\n",
       "    <tr>\n",
       "      <th>72744</th>\n",
       "      <td>Someone told me yesterday that she loved my ha...</td>\n",
       "      <td>female</td>\n",
       "      <td>Cancer</td>\n",
       "      <td>indUnk</td>\n",
       "      <td>18-24</td>\n",
       "      <td>165</td>\n",
       "      <td>someone told me yesterday that she loved my ha...</td>\n",
       "    </tr>\n",
       "    <tr>\n",
       "      <th>620452</th>\n",
       "      <td>in class now...it's odd how 'school' has becom...</td>\n",
       "      <td>male</td>\n",
       "      <td>Taurus</td>\n",
       "      <td>indUnk</td>\n",
       "      <td>25-34</td>\n",
       "      <td>85</td>\n",
       "      <td>in class now ... it 's odd how ' school ' has ...</td>\n",
       "    </tr>\n",
       "    <tr>\n",
       "      <th>287154</th>\n",
       "      <td>Well, I'm not sure exactly how it happened, wh...</td>\n",
       "      <td>male</td>\n",
       "      <td>Leo</td>\n",
       "      <td>indUnk</td>\n",
       "      <td>&lt;18</td>\n",
       "      <td>218</td>\n",
       "      <td>well , i 'm not sure exactly how it happened ,...</td>\n",
       "    </tr>\n",
       "    <tr>\n",
       "      <th>139156</th>\n",
       "      <td>Many of you have been wondering where The Carl...</td>\n",
       "      <td>male</td>\n",
       "      <td>Gemini</td>\n",
       "      <td>Arts</td>\n",
       "      <td>25-34</td>\n",
       "      <td>106</td>\n",
       "      <td>many of you have been wondering where the carl...</td>\n",
       "    </tr>\n",
       "    <tr>\n",
       "      <th>620108</th>\n",
       "      <td>people have been bugging for an update. there'...</td>\n",
       "      <td>male</td>\n",
       "      <td>Scorpio</td>\n",
       "      <td>Internet</td>\n",
       "      <td>18-24</td>\n",
       "      <td>867</td>\n",
       "      <td>people have been bugging for an update . there...</td>\n",
       "    </tr>\n",
       "  </tbody>\n",
       "</table>\n",
       "</div>"
      ],
      "text/plain": [
       "                                                     text  gender  \\\n",
       "144099  I was looking through some other blogs today a...  female   \n",
       "557753  I noticed that I am writing way more than I in...    male   \n",
       "648631  My day was interesting enough. God, I hate my ...  female   \n",
       "273381  .....and he emerged from the dark clouds and s...    male   \n",
       "110954  The vomit's coming, Bill. I promise. To Contin...  female   \n",
       "561162  I promised you a diatribe about the state of j...  female   \n",
       "572565  something i know is i dont know wat to write h...    male   \n",
       "156594  Hey, I missed a couple of days, but that's ok....    male   \n",
       "446580  Sudden Flash Back. I think I'm getting my memo...  female   \n",
       "80368   Iraqi Weapons Only One Reason for War-Wolfowit...    male   \n",
       "72744   Someone told me yesterday that she loved my ha...  female   \n",
       "620452  in class now...it's odd how 'school' has becom...    male   \n",
       "287154  Well, I'm not sure exactly how it happened, wh...    male   \n",
       "139156  Many of you have been wondering where The Carl...    male   \n",
       "620108  people have been bugging for an update. there'...    male   \n",
       "\n",
       "          horoscope                   job age_group  n_words  \\\n",
       "144099        Libra             Education     25-34      101   \n",
       "557753    Capricorn              Internet       >35      201   \n",
       "648631        Virgo               Student       <18      235   \n",
       "273381  Sagittarius                indUnk       <18      318   \n",
       "110954        Virgo                indUnk       >35      247   \n",
       "561162        Libra             Education     25-34      614   \n",
       "572565  Sagittarius               Student       <18      152   \n",
       "156594        Libra             Education     25-34      164   \n",
       "446580      Scorpio  Communications-Media     25-34      188   \n",
       "80368      Aquarius             Education       >35      393   \n",
       "72744        Cancer                indUnk     18-24      165   \n",
       "620452       Taurus                indUnk     25-34       85   \n",
       "287154          Leo                indUnk       <18      218   \n",
       "139156       Gemini                  Arts     25-34      106   \n",
       "620108      Scorpio              Internet     18-24      867   \n",
       "\n",
       "                                                tokenized  \n",
       "144099  i was looking through some other blogs today a...  \n",
       "557753  i noticed that i am writing way more than i in...  \n",
       "648631  my day was interesting enough . god , i hate m...  \n",
       "273381  ..... and he emerged from the dark clouds and ...  \n",
       "110954  the vomit 's coming , bill . i promise . to co...  \n",
       "561162  i promised you a diatribe about the state of j...  \n",
       "572565  something i know is i do nt know wat to write ...  \n",
       "156594  hey , i missed a couple of days , but that 's ...  \n",
       "446580  sudden flash back . i think i 'm getting my me...  \n",
       "80368   iraqi weapons only one reason for war - wolfow...  \n",
       "72744   someone told me yesterday that she loved my ha...  \n",
       "620452  in class now ... it 's odd how ' school ' has ...  \n",
       "287154  well , i 'm not sure exactly how it happened ,...  \n",
       "139156  many of you have been wondering where the carl...  \n",
       "620108  people have been bugging for an update . there...  "
      ]
     },
     "execution_count": 14,
     "metadata": {},
     "output_type": "execute_result"
    }
   ],
   "source": [
    "nlp = spacy.load('en_core_web_md')\n",
    "\n",
    "def tokenize(text):\n",
    "    doc = nlp(text)\n",
    "    return \" \".join([token.text.lower() for token in doc])\n",
    "\n",
    "full_df['tokenized'] = full_df['text'].apply(tokenize)\n",
    "full_df.sample(15)"
   ]
  },
  {
   "cell_type": "code",
   "execution_count": 15,
   "metadata": {},
   "outputs": [],
   "source": [
    "full_df.to_csv('blog_authorship_tokenized.csv', index=False, encoding='utf-8')"
   ]
  }
 ],
 "metadata": {
  "kernelspec": {
   "display_name": "Python 3.9.12 ('.venv': venv)",
   "language": "python",
   "name": "python3"
  },
  "language_info": {
   "codemirror_mode": {
    "name": "ipython",
    "version": 3
   },
   "file_extension": ".py",
   "mimetype": "text/x-python",
   "name": "python",
   "nbconvert_exporter": "python",
   "pygments_lexer": "ipython3",
   "version": "3.9.12"
  },
  "orig_nbformat": 4,
  "vscode": {
   "interpreter": {
    "hash": "9104738a4f77f0f2e5f425b4987f9a6e59232ca1dceabd54d576a5c40835aa4e"
   }
  }
 },
 "nbformat": 4,
 "nbformat_minor": 2
}
